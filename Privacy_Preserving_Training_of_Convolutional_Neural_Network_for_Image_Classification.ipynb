{
  "nbformat": 4,
  "nbformat_minor": 0,
  "metadata": {
    "colab": {
      "provenance": []
    },
    "kernelspec": {
      "name": "python3",
      "display_name": "Python 3"
    },
    "language_info": {
      "name": "python"
    },
    "accelerator": "GPU"
  },
  "cells": [
    {
      "cell_type": "code",
      "execution_count": null,
      "metadata": {
        "id": "lVBHLzomPzuh",
        "outputId": "00c196f1-628f-4696-9936-dcfd0fbaf497",
        "colab": {
          "base_uri": "https://localhost:8080/"
        }
      },
      "outputs": [
        {
          "output_type": "stream",
          "name": "stdout",
          "text": [
            "Looking in indexes: https://pypi.org/simple, https://us-python.pkg.dev/colab-wheels/public/simple/\n",
            "Requirement already satisfied: tensorflow_privacy in /usr/local/lib/python3.8/dist-packages (0.8.7)\n",
            "Requirement already satisfied: dp-accounting==0.3.0 in /usr/local/lib/python3.8/dist-packages (from tensorflow_privacy) (0.3.0)\n",
            "Requirement already satisfied: matplotlib~=3.3 in /usr/local/lib/python3.8/dist-packages (from tensorflow_privacy) (3.6.3)\n",
            "Requirement already satisfied: absl-py==1.*,>=1.0 in /usr/local/lib/python3.8/dist-packages (from tensorflow_privacy) (1.0.0)\n",
            "Requirement already satisfied: numpy~=1.21 in /usr/local/lib/python3.8/dist-packages (from tensorflow_privacy) (1.21.6)\n",
            "Requirement already satisfied: scikit-learn==1.*,>=1.0 in /usr/local/lib/python3.8/dist-packages (from tensorflow_privacy) (1.0.2)\n",
            "Requirement already satisfied: tensorflow-estimator~=2.4 in /usr/local/lib/python3.8/dist-packages (from tensorflow_privacy) (2.9.0)\n",
            "Requirement already satisfied: tensorflow~=2.4 in /usr/local/lib/python3.8/dist-packages (from tensorflow_privacy) (2.9.2)\n",
            "Requirement already satisfied: pandas~=1.4 in /usr/local/lib/python3.8/dist-packages (from tensorflow_privacy) (1.5.3)\n",
            "Requirement already satisfied: scipy~=1.7 in /usr/local/lib/python3.8/dist-packages (from tensorflow_privacy) (1.7.3)\n",
            "Requirement already satisfied: attrs~=21.4 in /usr/local/lib/python3.8/dist-packages (from tensorflow_privacy) (21.4.0)\n",
            "Requirement already satisfied: tensorflow-probability==0.15.0 in /usr/local/lib/python3.8/dist-packages (from tensorflow_privacy) (0.15.0)\n",
            "Requirement already satisfied: dm-tree==0.1.7 in /usr/local/lib/python3.8/dist-packages (from tensorflow_privacy) (0.1.7)\n",
            "Requirement already satisfied: tensorflow-datasets~=4.5 in /usr/local/lib/python3.8/dist-packages (from tensorflow_privacy) (4.8.2)\n",
            "Requirement already satisfied: six in /usr/local/lib/python3.8/dist-packages (from absl-py==1.*,>=1.0->tensorflow_privacy) (1.15.0)\n",
            "Requirement already satisfied: mpmath~=1.2.1 in /usr/local/lib/python3.8/dist-packages (from dp-accounting==0.3.0->tensorflow_privacy) (1.2.1)\n",
            "Requirement already satisfied: threadpoolctl>=2.0.0 in /usr/local/lib/python3.8/dist-packages (from scikit-learn==1.*,>=1.0->tensorflow_privacy) (3.1.0)\n",
            "Requirement already satisfied: joblib>=0.11 in /usr/local/lib/python3.8/dist-packages (from scikit-learn==1.*,>=1.0->tensorflow_privacy) (1.2.0)\n",
            "Requirement already satisfied: cloudpickle>=1.3 in /usr/local/lib/python3.8/dist-packages (from tensorflow-probability==0.15.0->tensorflow_privacy) (2.2.1)\n",
            "Requirement already satisfied: gast>=0.3.2 in /usr/local/lib/python3.8/dist-packages (from tensorflow-probability==0.15.0->tensorflow_privacy) (0.4.0)\n",
            "Requirement already satisfied: decorator in /usr/local/lib/python3.8/dist-packages (from tensorflow-probability==0.15.0->tensorflow_privacy) (4.4.2)\n",
            "Requirement already satisfied: contourpy>=1.0.1 in /usr/local/lib/python3.8/dist-packages (from matplotlib~=3.3->tensorflow_privacy) (1.0.7)\n",
            "Requirement already satisfied: packaging>=20.0 in /usr/local/lib/python3.8/dist-packages (from matplotlib~=3.3->tensorflow_privacy) (23.0)\n",
            "Requirement already satisfied: pyparsing>=2.2.1 in /usr/local/lib/python3.8/dist-packages (from matplotlib~=3.3->tensorflow_privacy) (3.0.9)\n",
            "Requirement already satisfied: fonttools>=4.22.0 in /usr/local/lib/python3.8/dist-packages (from matplotlib~=3.3->tensorflow_privacy) (4.38.0)\n",
            "Requirement already satisfied: pillow>=6.2.0 in /usr/local/lib/python3.8/dist-packages (from matplotlib~=3.3->tensorflow_privacy) (7.1.2)\n",
            "Requirement already satisfied: cycler>=0.10 in /usr/local/lib/python3.8/dist-packages (from matplotlib~=3.3->tensorflow_privacy) (0.11.0)\n",
            "Requirement already satisfied: kiwisolver>=1.0.1 in /usr/local/lib/python3.8/dist-packages (from matplotlib~=3.3->tensorflow_privacy) (1.4.4)\n",
            "Requirement already satisfied: python-dateutil>=2.7 in /usr/local/lib/python3.8/dist-packages (from matplotlib~=3.3->tensorflow_privacy) (2.8.2)\n",
            "Requirement already satisfied: pytz>=2020.1 in /usr/local/lib/python3.8/dist-packages (from pandas~=1.4->tensorflow_privacy) (2022.7.1)\n",
            "Requirement already satisfied: google-pasta>=0.1.1 in /usr/local/lib/python3.8/dist-packages (from tensorflow~=2.4->tensorflow_privacy) (0.2.0)\n",
            "Requirement already satisfied: tensorflow-io-gcs-filesystem>=0.23.1 in /usr/local/lib/python3.8/dist-packages (from tensorflow~=2.4->tensorflow_privacy) (0.30.0)\n",
            "Requirement already satisfied: tensorboard<2.10,>=2.9 in /usr/local/lib/python3.8/dist-packages (from tensorflow~=2.4->tensorflow_privacy) (2.9.1)\n",
            "Requirement already satisfied: grpcio<2.0,>=1.24.3 in /usr/local/lib/python3.8/dist-packages (from tensorflow~=2.4->tensorflow_privacy) (1.51.1)\n",
            "Requirement already satisfied: protobuf<3.20,>=3.9.2 in /usr/local/lib/python3.8/dist-packages (from tensorflow~=2.4->tensorflow_privacy) (3.19.6)\n",
            "Requirement already satisfied: flatbuffers<2,>=1.12 in /usr/local/lib/python3.8/dist-packages (from tensorflow~=2.4->tensorflow_privacy) (1.12)\n",
            "Requirement already satisfied: termcolor>=1.1.0 in /usr/local/lib/python3.8/dist-packages (from tensorflow~=2.4->tensorflow_privacy) (2.2.0)\n",
            "Requirement already satisfied: keras-preprocessing>=1.1.1 in /usr/local/lib/python3.8/dist-packages (from tensorflow~=2.4->tensorflow_privacy) (1.1.2)\n",
            "Requirement already satisfied: keras<2.10.0,>=2.9.0rc0 in /usr/local/lib/python3.8/dist-packages (from tensorflow~=2.4->tensorflow_privacy) (2.9.0)\n",
            "Requirement already satisfied: libclang>=13.0.0 in /usr/local/lib/python3.8/dist-packages (from tensorflow~=2.4->tensorflow_privacy) (15.0.6.1)\n",
            "Requirement already satisfied: wrapt>=1.11.0 in /usr/local/lib/python3.8/dist-packages (from tensorflow~=2.4->tensorflow_privacy) (1.14.1)\n",
            "Requirement already satisfied: opt-einsum>=2.3.2 in /usr/local/lib/python3.8/dist-packages (from tensorflow~=2.4->tensorflow_privacy) (3.3.0)\n",
            "Requirement already satisfied: typing-extensions>=3.6.6 in /usr/local/lib/python3.8/dist-packages (from tensorflow~=2.4->tensorflow_privacy) (4.4.0)\n",
            "Requirement already satisfied: setuptools in /usr/local/lib/python3.8/dist-packages (from tensorflow~=2.4->tensorflow_privacy) (57.4.0)\n",
            "Requirement already satisfied: h5py>=2.9.0 in /usr/local/lib/python3.8/dist-packages (from tensorflow~=2.4->tensorflow_privacy) (3.1.0)\n",
            "Requirement already satisfied: astunparse>=1.6.0 in /usr/local/lib/python3.8/dist-packages (from tensorflow~=2.4->tensorflow_privacy) (1.6.3)\n",
            "Requirement already satisfied: toml in /usr/local/lib/python3.8/dist-packages (from tensorflow-datasets~=4.5->tensorflow_privacy) (0.10.2)\n",
            "Requirement already satisfied: click in /usr/local/lib/python3.8/dist-packages (from tensorflow-datasets~=4.5->tensorflow_privacy) (7.1.2)\n",
            "Requirement already satisfied: requests>=2.19.0 in /usr/local/lib/python3.8/dist-packages (from tensorflow-datasets~=4.5->tensorflow_privacy) (2.25.1)\n",
            "Requirement already satisfied: dill in /usr/local/lib/python3.8/dist-packages (from tensorflow-datasets~=4.5->tensorflow_privacy) (0.3.6)\n",
            "Requirement already satisfied: tensorflow-metadata in /usr/local/lib/python3.8/dist-packages (from tensorflow-datasets~=4.5->tensorflow_privacy) (1.12.0)\n",
            "Requirement already satisfied: importlib-resources in /usr/local/lib/python3.8/dist-packages (from tensorflow-datasets~=4.5->tensorflow_privacy) (5.10.2)\n",
            "Requirement already satisfied: tqdm in /usr/local/lib/python3.8/dist-packages (from tensorflow-datasets~=4.5->tensorflow_privacy) (4.64.1)\n",
            "Requirement already satisfied: etils[enp,epath]>=0.9.0 in /usr/local/lib/python3.8/dist-packages (from tensorflow-datasets~=4.5->tensorflow_privacy) (1.0.0)\n",
            "Requirement already satisfied: psutil in /usr/local/lib/python3.8/dist-packages (from tensorflow-datasets~=4.5->tensorflow_privacy) (5.4.8)\n",
            "Requirement already satisfied: promise in /usr/local/lib/python3.8/dist-packages (from tensorflow-datasets~=4.5->tensorflow_privacy) (2.3)\n",
            "Requirement already satisfied: wheel<1.0,>=0.23.0 in /usr/local/lib/python3.8/dist-packages (from astunparse>=1.6.0->tensorflow~=2.4->tensorflow_privacy) (0.38.4)\n",
            "Requirement already satisfied: zipp in /usr/local/lib/python3.8/dist-packages (from etils[enp,epath]>=0.9.0->tensorflow-datasets~=4.5->tensorflow_privacy) (3.12.0)\n",
            "Requirement already satisfied: idna<3,>=2.5 in /usr/local/lib/python3.8/dist-packages (from requests>=2.19.0->tensorflow-datasets~=4.5->tensorflow_privacy) (2.10)\n",
            "Requirement already satisfied: chardet<5,>=3.0.2 in /usr/local/lib/python3.8/dist-packages (from requests>=2.19.0->tensorflow-datasets~=4.5->tensorflow_privacy) (4.0.0)\n",
            "Requirement already satisfied: urllib3<1.27,>=1.21.1 in /usr/local/lib/python3.8/dist-packages (from requests>=2.19.0->tensorflow-datasets~=4.5->tensorflow_privacy) (1.24.3)\n",
            "Requirement already satisfied: certifi>=2017.4.17 in /usr/local/lib/python3.8/dist-packages (from requests>=2.19.0->tensorflow-datasets~=4.5->tensorflow_privacy) (2022.12.7)\n",
            "Requirement already satisfied: markdown>=2.6.8 in /usr/local/lib/python3.8/dist-packages (from tensorboard<2.10,>=2.9->tensorflow~=2.4->tensorflow_privacy) (3.4.1)\n",
            "Requirement already satisfied: google-auth<3,>=1.6.3 in /usr/local/lib/python3.8/dist-packages (from tensorboard<2.10,>=2.9->tensorflow~=2.4->tensorflow_privacy) (2.16.0)\n",
            "Requirement already satisfied: google-auth-oauthlib<0.5,>=0.4.1 in /usr/local/lib/python3.8/dist-packages (from tensorboard<2.10,>=2.9->tensorflow~=2.4->tensorflow_privacy) (0.4.6)\n",
            "Requirement already satisfied: werkzeug>=1.0.1 in /usr/local/lib/python3.8/dist-packages (from tensorboard<2.10,>=2.9->tensorflow~=2.4->tensorflow_privacy) (1.0.1)\n",
            "Requirement already satisfied: tensorboard-data-server<0.7.0,>=0.6.0 in /usr/local/lib/python3.8/dist-packages (from tensorboard<2.10,>=2.9->tensorflow~=2.4->tensorflow_privacy) (0.6.1)\n",
            "Requirement already satisfied: tensorboard-plugin-wit>=1.6.0 in /usr/local/lib/python3.8/dist-packages (from tensorboard<2.10,>=2.9->tensorflow~=2.4->tensorflow_privacy) (1.8.1)\n",
            "Requirement already satisfied: googleapis-common-protos<2,>=1.52.0 in /usr/local/lib/python3.8/dist-packages (from tensorflow-metadata->tensorflow-datasets~=4.5->tensorflow_privacy) (1.58.0)\n",
            "Requirement already satisfied: pyasn1-modules>=0.2.1 in /usr/local/lib/python3.8/dist-packages (from google-auth<3,>=1.6.3->tensorboard<2.10,>=2.9->tensorflow~=2.4->tensorflow_privacy) (0.2.8)\n",
            "Requirement already satisfied: rsa<5,>=3.1.4 in /usr/local/lib/python3.8/dist-packages (from google-auth<3,>=1.6.3->tensorboard<2.10,>=2.9->tensorflow~=2.4->tensorflow_privacy) (4.9)\n",
            "Requirement already satisfied: cachetools<6.0,>=2.0.0 in /usr/local/lib/python3.8/dist-packages (from google-auth<3,>=1.6.3->tensorboard<2.10,>=2.9->tensorflow~=2.4->tensorflow_privacy) (5.3.0)\n",
            "Requirement already satisfied: requests-oauthlib>=0.7.0 in /usr/local/lib/python3.8/dist-packages (from google-auth-oauthlib<0.5,>=0.4.1->tensorboard<2.10,>=2.9->tensorflow~=2.4->tensorflow_privacy) (1.3.1)\n",
            "Requirement already satisfied: importlib-metadata>=4.4 in /usr/local/lib/python3.8/dist-packages (from markdown>=2.6.8->tensorboard<2.10,>=2.9->tensorflow~=2.4->tensorflow_privacy) (6.0.0)\n",
            "Requirement already satisfied: pyasn1<0.5.0,>=0.4.6 in /usr/local/lib/python3.8/dist-packages (from pyasn1-modules>=0.2.1->google-auth<3,>=1.6.3->tensorboard<2.10,>=2.9->tensorflow~=2.4->tensorflow_privacy) (0.4.8)\n",
            "Requirement already satisfied: oauthlib>=3.0.0 in /usr/local/lib/python3.8/dist-packages (from requests-oauthlib>=0.7.0->google-auth-oauthlib<0.5,>=0.4.1->tensorboard<2.10,>=2.9->tensorflow~=2.4->tensorflow_privacy) (3.2.2)\n"
          ]
        }
      ],
      "source": [
        "!pip install tensorflow_privacy"
      ]
    },
    {
      "cell_type": "code",
      "source": [
        "\"\"\"Training a CNN on MNIST with Keras and the DP SGD optimizer.\"\"\"\n",
        "\n",
        "from __future__ import absolute_import\n",
        "from __future__ import division\n",
        "from __future__ import print_function\n",
        "\n",
        "from absl import app\n",
        "from absl import flags\n",
        "from absl import logging\n",
        "\n",
        "import numpy as np\n",
        "import tensorflow as tf\n",
        "\n",
        "from tensorflow_privacy.privacy.analysis import compute_dp_sgd_privacy\n",
        "from tensorflow_privacy.privacy.optimizers.dp_optimizer_keras import DPKerasSGDOptimizer\n",
        "\n",
        "noise_multiplier = 0.1\n",
        "dpsgd = True\n",
        "learning_rate = 0.15\n",
        "batch_size = 250\n",
        "l2_norm_clip = 1.0\n",
        "epochs = 60\n",
        "microbatches = 250"
      ],
      "metadata": {
        "id": "KpR6YHXBQrzr"
      },
      "execution_count": null,
      "outputs": []
    },
    {
      "cell_type": "code",
      "source": [
        "def compute_epsilon(train_data):\n",
        "  \"\"\"Computes epsilon value for given hyperparameters.\"\"\" # To show their accuracy\n",
        "  if noise_multiplier == 0.0:\n",
        "    return float('inf')\n",
        "####################################################\n",
        "######## your code goes here #########\n",
        "####################################################\n",
        "  # Delta is set to 1e-5 because MNIST has 60000 training points.\n",
        "  return epsilon\n"
      ],
      "metadata": {
        "id": "papcfyw-QpWS"
      },
      "execution_count": null,
      "outputs": []
    },
    {
      "cell_type": "code",
      "source": [
        "def load_mnist():\n",
        "  \"\"\"Loads MNIST and preprocesses to combine training and validation data.\"\"\"\n",
        "####################################################\n",
        "######## your code goes here #########\n",
        "####################################################\n",
        "  train, test = tf.keras.datasets.mnist.load_data()\n",
        "  train_data, train_labels = train\n",
        "  test_data, test_labels = test\n",
        "\n",
        "  train_data = np.array(train_data, dtype=np.float32) / 255\n",
        "  test_data = np.array(test_data, dtype=np.float32) / 255\n",
        "\n",
        "  train_data = train_data.reshape((train_data.shape[0], 28, 28, 1))\n",
        "  test_data = test_data.reshape((test_data.shape[0], 28, 28, 1))\n",
        "\n",
        "  train_labels = np.array(train_labels, dtype=np.int32)\n",
        "  test_labels = np.array(test_labels, dtype=np.int32)\n",
        "\n",
        "  train_labels = tf.keras.utils.to_categorical (train_labels, num_classes=10)\n",
        "\n",
        "  test_labels = tf.keras.utils.to_categorical (test_labels, num_classes=10)\n",
        "\n",
        "  assert train_data.min() == 0.\n",
        "  assert train_data.max() == 1.\n",
        "  assert test_data.min() == 0.\n",
        "  assert test_data.max() == 1.\n",
        "\n",
        "  return train_data, train_labels, test_data, test_labels"
      ],
      "metadata": {
        "id": "EE271w3WRCgJ"
      },
      "execution_count": null,
      "outputs": []
    },
    {
      "cell_type": "code",
      "source": [
        "def main(unused_argv):\n",
        "  logging.set_verbosity(logging.INFO)\n",
        "  if dpsgd and batch_size % microbatches != 0:\n",
        "    raise ValueError('Number of microbatches should divide evenly batch_size')\n",
        "\n",
        "  # Load training and test data.\n",
        "  train_data, train_labels, test_data, test_labels = load_mnist()\n",
        "\n",
        "  # Define a sequential Keras model\n",
        "  model = tf.keras.Sequential([\n",
        "      tf.keras.layers.Conv2D (16, 8,\n",
        "                              strides=2,\n",
        "                              padding='same',\n",
        "                              activation='relu',\n",
        "                              input_shape=(28, 28, 1)),\n",
        "      tf.keras.layers.MaxPool2D (2, 1),\n",
        "      tf.keras.layers.Conv2D(32, 4,\n",
        "                             strides=2,\n",
        "                             padding='valid',\n",
        "                             activation='relu'),\n",
        "      tf.keras.layers. MaxPool2D (2, 1),\n",
        "      tf.keras.layers. Flatten(),\n",
        "      tf.keras.layers. Dense (32, activation='relu'),\n",
        "      tf.keras.layers.Dense(10)\n",
        "\n",
        "])\n",
        "\n",
        "######## your code goes here #########\n",
        "  if dpsgd:\n",
        "    optimizer = DPKerasSGDOptimizer(\n",
        "        l2_norm_clip=l2_norm_clip,\n",
        "        noise_multiplier=noise_multiplier,\n",
        "        num_microbatches=microbatches,\n",
        "        learning_rate=learning_rate)\n",
        "    # Compute vector of per-example loss rather than its mean over a minibatch.\n",
        "    loss = tf.keras.losses.CategoricalCrossentropy(\n",
        "        from_logits=True, reduction=tf.losses.Reduction.NONE)\n",
        "  else:\n",
        "    optimizer = tf.keras.optimizers.SGD(learning_rate=learning_rate)\n",
        "    loss = tf.keras.losses.CategoricalCrossentropy(from_logits=True)\n",
        "\n",
        "  # Compile model with Keras\n",
        "  model.compile(optimizer=optimizer, loss=loss, metrics=['accuracy'])\n",
        "\n",
        "  # Train model with Keras\n",
        "  model.fit(train_data, train_labels,\n",
        "            epochs=epochs,\n",
        "            validation_data=(test_data, test_labels),\n",
        "            batch_size=batch_size)\n",
        "\n",
        "  # Compute the privacy budget expended.\n",
        "  if dpsgd:\n",
        "    eps = compute_epsilon(epochs * 60000 // batch_size)\n",
        "    print('For delta=1e-5, the current epsilon is: %.2f' % eps)\n",
        "  else:\n",
        "    print('Trained with vanilla non-private SGD optimizer')"
      ],
      "metadata": {
        "id": "8tsbd9D2RIFh"
      },
      "execution_count": null,
      "outputs": []
    },
    {
      "cell_type": "code",
      "source": [
        "!git clone https://github.com/tensorflow/privacy"
      ],
      "metadata": {
        "colab": {
          "base_uri": "https://localhost:8080/"
        },
        "id": "j3twGE3ISDOZ",
        "outputId": "b044ba29-09cf-44f2-a0f3-892455032a6a"
      },
      "execution_count": null,
      "outputs": [
        {
          "output_type": "stream",
          "name": "stdout",
          "text": [
            "fatal: destination path 'privacy' already exists and is not an empty directory.\n"
          ]
        }
      ]
    },
    {
      "cell_type": "code",
      "source": [
        "cd /content/privacy/tutorials/"
      ],
      "metadata": {
        "colab": {
          "base_uri": "https://localhost:8080/"
        },
        "id": "5NU1E8cKTCDn",
        "outputId": "dc4266a0-827d-4548-c2f9-767f6a70b25f"
      },
      "execution_count": null,
      "outputs": [
        {
          "output_type": "stream",
          "name": "stdout",
          "text": [
            "/content/privacy/tutorials\n"
          ]
        }
      ]
    },
    {
      "cell_type": "code",
      "source": [
        "# changed epochs to 10 & runtime to GPU"
      ],
      "metadata": {
        "id": "c-RYwi21WMl7"
      },
      "execution_count": null,
      "outputs": []
    },
    {
      "cell_type": "code",
      "source": [
        "!python mnist_dpsgd_tutorial_keras.py"
      ],
      "metadata": {
        "id": "-7pUZpTKUmh9"
      },
      "execution_count": null,
      "outputs": []
    },
    {
      "cell_type": "code",
      "source": [],
      "metadata": {
        "id": "dkpj-2I-UnGT"
      },
      "execution_count": null,
      "outputs": []
    }
  ]
}