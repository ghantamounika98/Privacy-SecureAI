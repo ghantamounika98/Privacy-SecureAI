{
  "nbformat": 4,
  "nbformat_minor": 0,
  "metadata": {
    "colab": {
      "provenance": []
    },
    "kernelspec": {
      "name": "python3",
      "display_name": "Python 3"
    }
  },
  "cells": [
    {
      "cell_type": "markdown",
      "metadata": {
        "id": "view-in-github"
      },
      "source": [
        "<a href=\"https://colab.research.google.com/github/inspire-lab/SecurePrivateAI/blob/master/1_intro/intro_numpy.ipynb\" target=\"_parent\"><img src=\"https://colab.research.google.com/assets/colab-badge.svg\" alt=\"Open In Colab\"/></a>"
      ]
    },
    {
      "cell_type": "markdown",
      "metadata": {
        "id": "OuMd6NunihdO"
      },
      "source": [
        "This is an (incomplete) copy of the excellent NumPy quickstart guide. The original can be found here: https://docs.scipy.org/doc/numpy/user/quickstart.html and https://github.com/podschwadt/teaching\n",
        "\n",
        "© Copyright 2008-2019, The SciPy community. Last updated on Jul 26, 2019."
      ]
    },
    {
      "cell_type": "markdown",
      "metadata": {
        "id": "K4m-RGkGgURg"
      },
      "source": [
        "# Quickstart tutorial\n",
        "##Prerequisites\n",
        "Before reading this tutorial you should know a bit of Python. If you would like to refresh your memory, take a look at the Python tutorial.\n",
        "\n",
        "If you wish to work the examples in this tutorial, you must also have some software installed on your computer. Please see https://scipy.org/install.html for instructions"
      ]
    },
    {
      "cell_type": "markdown",
      "metadata": {
        "id": "wEktTGZ0gxLT"
      },
      "source": [
        "## The Basics\n",
        "NumPy’s main object is the homogeneous multidimensional array. It is a table of elements (usually numbers), all of the same type, indexed by a tuple of positive integers. In NumPy dimensions are called axes.\n",
        "\n",
        "For example, the coordinates of a point in 3D space `[1, 2, 1]` has one axis. That axis has 3 elements in it, so we say it has a length of 3. In the example pictured below, the array has 2 axes. The first axis has a length of 2, the second axis has a length of 3.\n",
        "```\n",
        "[[ 1., 0., 0.],\n",
        " [ 0., 1., 2.]]\n",
        " ```\n",
        "NumPy’s array class is called `ndarray`. It is also known by the alias `array`. Note that `numpy.array` is not the same as the Standard Python Library class `array.array`, which only handles one-dimensional arrays and offers less functionality. The more important attributes of an `ndarray` object are:\n",
        "\n",
        "**ndarray.ndim**\n",
        ">the number of axes (dimensions) of the array.\n",
        "\n",
        "**ndarray.shape**\n",
        ">the dimensions of the array. This is a tuple of integers indicating the size of the array in each dimension. For a matrix with *n* rows and *m* columns, `shape` will be `(n,m)`. The length of the shape tuple is therefore the number of axes, `ndim`.\n",
        "\n",
        "**ndarray.size**\n",
        ">the total number of elements of the array. This is equal to the product of the elements of `shape`.\n",
        "\n",
        "**ndarray.dtype**\n",
        ">an object describing the type of the elements in the array. One can create or specify dtype’s using standard Python types. Additionally NumPy provides types of its own. numpy.int32, numpy.int16, and numpy.float64 are some examples.\n",
        "\n",
        "**ndarray.itemsize**\n",
        ">the size in bytes of each element of the array. For example, an array of elements of type `float64` has `itemsize` 8 (=64/8), while one of type `complex32` has itemsize 4 (=32/8). It is equivalent to `ndarray.dtype.itemsize`.\n",
        "\n",
        "**ndarray.data**\n",
        ">the buffer containing the actual elements of the array. Normally, we won’t need to use this attribute because we will access the elements in an array using indexing facilities."
      ]
    },
    {
      "cell_type": "markdown",
      "metadata": {
        "id": "nN1iUjdriHxi"
      },
      "source": [
        "### An example"
      ]
    },
    {
      "cell_type": "code",
      "metadata": {
        "id": "a-phsNOygEGW",
        "outputId": "3625d2ad-7591-4eab-8d57-aa4f3d5f2232",
        "colab": {
          "base_uri": "https://localhost:8080/",
          "height": 68
        }
      },
      "source": [
        "import numpy as np\n",
        "a = np.arange(15).reshape(3, 5)\n",
        "a"
      ],
      "execution_count": null,
      "outputs": [
        {
          "output_type": "execute_result",
          "data": {
            "text/plain": [
              "array([[ 0,  1,  2,  3,  4],\n",
              "       [ 5,  6,  7,  8,  9],\n",
              "       [10, 11, 12, 13, 14]])"
            ]
          },
          "metadata": {
            "tags": []
          },
          "execution_count": 14
        }
      ]
    },
    {
      "cell_type": "code",
      "metadata": {
        "id": "49qwoBjYlHgO"
      },
      "source": [
        "a.shape"
      ],
      "execution_count": null,
      "outputs": []
    },
    {
      "cell_type": "code",
      "metadata": {
        "id": "E5mOkV_VlIro"
      },
      "source": [
        "a.ndim"
      ],
      "execution_count": null,
      "outputs": []
    },
    {
      "cell_type": "code",
      "metadata": {
        "id": "YMdFZbW0lKTB"
      },
      "source": [
        "a.dtype.name"
      ],
      "execution_count": null,
      "outputs": []
    },
    {
      "cell_type": "code",
      "metadata": {
        "id": "qX8Fh_WGlL-w"
      },
      "source": [
        "a.itemsize"
      ],
      "execution_count": null,
      "outputs": []
    },
    {
      "cell_type": "code",
      "metadata": {
        "id": "QLSp1OxSlNST"
      },
      "source": [
        "a.size"
      ],
      "execution_count": null,
      "outputs": []
    },
    {
      "cell_type": "code",
      "metadata": {
        "id": "PFpqSzL9lOtt"
      },
      "source": [
        "type(a)"
      ],
      "execution_count": null,
      "outputs": []
    },
    {
      "cell_type": "code",
      "metadata": {
        "id": "FVBrGU2dlOnQ"
      },
      "source": [
        "b = np.array([6, 7, 8])\n",
        "b"
      ],
      "execution_count": null,
      "outputs": []
    },
    {
      "cell_type": "code",
      "metadata": {
        "id": "1Sj__Z_2lE9P"
      },
      "source": [
        "type(b)"
      ],
      "execution_count": null,
      "outputs": []
    },
    {
      "cell_type": "markdown",
      "metadata": {
        "id": "PKZYRqcwlVMs"
      },
      "source": [
        "## Array Creation\n",
        "\n",
        "There are several ways to create arrays.\n",
        "\n",
        "For example, you can create an array from a regular Python list or tuple using the `array` function. The type of the resulting array is deduced from the type of the elements in the sequences."
      ]
    },
    {
      "cell_type": "code",
      "metadata": {
        "id": "WKyA2uyQlfHZ"
      },
      "source": [
        "import numpy as np\n",
        "a = np.array([2,3,4])\n",
        "a"
      ],
      "execution_count": null,
      "outputs": []
    },
    {
      "cell_type": "code",
      "metadata": {
        "id": "R6dSElWAlgzD"
      },
      "source": [
        "a.dtype"
      ],
      "execution_count": null,
      "outputs": []
    },
    {
      "cell_type": "code",
      "metadata": {
        "id": "kCeBtLqdlhtw"
      },
      "source": [
        "b = np.array([1.2, 3.5, 5.1])\n",
        "b.dtype"
      ],
      "execution_count": null,
      "outputs": []
    },
    {
      "cell_type": "markdown",
      "metadata": {
        "id": "s9onLbKxljxg"
      },
      "source": [
        "A frequent error consists in calling `array` with multiple numeric arguments, rather than providing a single list of numbers as an argument."
      ]
    },
    {
      "cell_type": "code",
      "metadata": {
        "id": "0cz0d5PklnZA"
      },
      "source": [
        "a = np.array(1,2,3,4)    # WRONG"
      ],
      "execution_count": null,
      "outputs": []
    },
    {
      "cell_type": "code",
      "metadata": {
        "id": "Z18tgnMDlpZy"
      },
      "source": [
        "a = np.array([1,2,3,4])  # RIGHT"
      ],
      "execution_count": null,
      "outputs": []
    },
    {
      "cell_type": "markdown",
      "metadata": {
        "id": "COAKm3rwl1RW"
      },
      "source": [
        "`array` transforms sequences of sequences into two-dimensional arrays, sequences of sequences of sequences into three-dimensional arrays, and so on."
      ]
    },
    {
      "cell_type": "code",
      "metadata": {
        "id": "wz2gSm4HmJ5L"
      },
      "source": [
        "b = np.array([(1.5,2,3), (4,5,6)])\n",
        "b"
      ],
      "execution_count": null,
      "outputs": []
    },
    {
      "cell_type": "markdown",
      "metadata": {
        "id": "6dpkUhXamNlq"
      },
      "source": [
        "The type of the array can also be explicitly specified at creation time:"
      ]
    },
    {
      "cell_type": "code",
      "metadata": {
        "id": "ygjdYcy7mSEI"
      },
      "source": [
        "c = np.array( [ [1,2], [3,4] ], dtype=complex )\n",
        "c"
      ],
      "execution_count": null,
      "outputs": []
    },
    {
      "cell_type": "markdown",
      "metadata": {
        "id": "GCZ_ensvmPa2"
      },
      "source": [
        "Often, the elements of an array are originally unknown, but its size is known. Hence, NumPy offers several functions to create arrays with initial placeholder content. These minimize the necessity of growing arrays, an expensive operation.\n",
        "\n",
        "The function `zeros` creates an array full of zeros, the function `ones` creates an array full of ones, and the function `empty` creates an array whose initial content is random and depends on the state of the memory. By default, the dtype of the created array is `float64`."
      ]
    },
    {
      "cell_type": "code",
      "metadata": {
        "id": "KEw0Ph-PnOMR"
      },
      "source": [
        "np.zeros( (3,4) )"
      ],
      "execution_count": null,
      "outputs": []
    },
    {
      "cell_type": "code",
      "metadata": {
        "id": "NRNEKDhnnUwM"
      },
      "source": [
        "np.ones( (2,3,4), dtype=np.int16 )                # dtype can also be specified"
      ],
      "execution_count": null,
      "outputs": []
    },
    {
      "cell_type": "code",
      "metadata": {
        "id": "-38IRVsFnWOg"
      },
      "source": [
        "np.empty( (2,3) )                                 # uninitialized, output may vary"
      ],
      "execution_count": null,
      "outputs": []
    },
    {
      "cell_type": "markdown",
      "metadata": {
        "id": "mLc2rxNunZDi"
      },
      "source": [
        "To create sequences of numbers, NumPy provides a function analogous to `range` that returns arrays instead of lists."
      ]
    },
    {
      "cell_type": "code",
      "metadata": {
        "id": "SDXg--dXneOz"
      },
      "source": [
        "np.arange( 10, 30, 5 )"
      ],
      "execution_count": null,
      "outputs": []
    },
    {
      "cell_type": "code",
      "metadata": {
        "id": "z_Odz6Srngjp"
      },
      "source": [
        "np.arange( 0, 2, 0.3 )                 # it accepts float arguments"
      ],
      "execution_count": null,
      "outputs": []
    },
    {
      "cell_type": "markdown",
      "metadata": {
        "id": "cHOTGRdJnm-p"
      },
      "source": [
        "When `arange` is used with floating point arguments, it is generally not possible to predict the number of elements obtained, due to the finite floating point precision. For this reason, it is usually better to use the function `linspace` that receives as an argument the number of elements that we want, instead of the step:"
      ]
    },
    {
      "cell_type": "code",
      "metadata": {
        "id": "55CZ_Vl6nvKr"
      },
      "source": [
        "from numpy import pi\n",
        "np.linspace( 0, 2, 9 )                 # 9 numbers from 0 to 2"
      ],
      "execution_count": null,
      "outputs": []
    },
    {
      "cell_type": "code",
      "metadata": {
        "id": "VwcPdvmFnxvs"
      },
      "source": [
        "x = np.linspace( 0, 2*pi, 100 )        # useful to evaluate function at lots of points"
      ],
      "execution_count": null,
      "outputs": []
    },
    {
      "cell_type": "code",
      "metadata": {
        "id": "qDEZMFgWnzAZ"
      },
      "source": [
        "f = np.sin(x)"
      ],
      "execution_count": null,
      "outputs": []
    },
    {
      "cell_type": "markdown",
      "metadata": {
        "id": "PKIXjSi2n1NC"
      },
      "source": [
        "See also\n",
        "array, zeros, zeros_like, ones, ones_like, empty, empty_like, arange, linspace, numpy.random.rand, numpy.random.randn, fromfunction, fromfile"
      ]
    },
    {
      "cell_type": "markdown",
      "metadata": {
        "id": "qNFRbJHSoSSa"
      },
      "source": [
        "## Printing Arrays\n",
        "\n",
        "When you print an array, NumPy displays it in a similar way to nested lists, but with the following layout:\n",
        "\n",
        "* the last axis is printed from left to right,\n",
        "* the second-to-last is printed from top to bottom,\n",
        "* the rest are also printed from top to bottom, with each slice separated from the next by an empty line.\n",
        "\n",
        "One-dimensional arrays are then printed as rows, bidimensionals as matrices and tridimensionals as lists of matrices."
      ]
    },
    {
      "cell_type": "code",
      "metadata": {
        "id": "PfiFe3gkoiRu"
      },
      "source": [
        "a = np.arange(6)                         # 1d array\n",
        "print(a)"
      ],
      "execution_count": null,
      "outputs": []
    },
    {
      "cell_type": "code",
      "metadata": {
        "id": "AsQ9TTRpokdr"
      },
      "source": [
        "b = np.arange(12).reshape(4,3)           # 2d array\n",
        "print(b)"
      ],
      "execution_count": null,
      "outputs": []
    },
    {
      "cell_type": "code",
      "metadata": {
        "id": "QwrMdz5-olsC"
      },
      "source": [
        "c = np.arange(24).reshape(2,3,4)         # 3d array\n",
        "print(c)"
      ],
      "execution_count": null,
      "outputs": []
    },
    {
      "cell_type": "markdown",
      "metadata": {
        "id": "jVVs5KiVorCv"
      },
      "source": [
        "See below to get more details on reshape.\n",
        "\n",
        "If an array is too large to be printed, NumPy automatically skips the central part of the array and only prints the corners:"
      ]
    },
    {
      "cell_type": "code",
      "metadata": {
        "id": "Ss88jFa4otgE"
      },
      "source": [
        "print(np.arange(10000))"
      ],
      "execution_count": null,
      "outputs": []
    },
    {
      "cell_type": "code",
      "metadata": {
        "id": "ruoN4mpDovic"
      },
      "source": [
        "print(np.arange(10000).reshape(100,100))"
      ],
      "execution_count": null,
      "outputs": []
    },
    {
      "cell_type": "markdown",
      "metadata": {
        "id": "8jgluIzJoxnA"
      },
      "source": [
        "To disable this behaviour and force NumPy to print the entire array, you can change the printing options using `set_printoptions`."
      ]
    },
    {
      "cell_type": "code",
      "metadata": {
        "id": "l28sig7To2D2"
      },
      "source": [
        "np.set_printoptions(threshold=np.nan)"
      ],
      "execution_count": null,
      "outputs": []
    },
    {
      "cell_type": "markdown",
      "metadata": {
        "id": "df40EZVzcaCW"
      },
      "source": [
        "## Basic Operations\n",
        "\n",
        "Arithmetic operators on arrays apply *elementwise*. A new array is created and filled with the result."
      ]
    },
    {
      "cell_type": "code",
      "metadata": {
        "id": "zzuWpqY2cgLb"
      },
      "source": [
        "a = np.array( [20,30,40,50] )\n",
        "b = np.arange( 4 )\n",
        "b"
      ],
      "execution_count": null,
      "outputs": []
    },
    {
      "cell_type": "code",
      "metadata": {
        "id": "hA9HaCldcZMR"
      },
      "source": [
        "c = a-b\n",
        "c"
      ],
      "execution_count": null,
      "outputs": []
    },
    {
      "cell_type": "code",
      "metadata": {
        "id": "KHuF4grccjzn"
      },
      "source": [
        "b**2"
      ],
      "execution_count": null,
      "outputs": []
    },
    {
      "cell_type": "code",
      "metadata": {
        "id": "gil4lGl2cqRX"
      },
      "source": [
        "10*np.sin(a)"
      ],
      "execution_count": null,
      "outputs": []
    },
    {
      "cell_type": "code",
      "metadata": {
        "id": "_X7djohhcs2j"
      },
      "source": [
        "a<35"
      ],
      "execution_count": null,
      "outputs": []
    },
    {
      "cell_type": "markdown",
      "metadata": {
        "id": "XJH3OHSncubn"
      },
      "source": [
        "Unlike in many matrix languages, the product operator `*` operates elementwise in NumPy arrays. The matrix product can be performed using the `@` operator (in python >=3.5) or the `dot` function or method:"
      ]
    },
    {
      "cell_type": "code",
      "metadata": {
        "id": "mmHUVYndc-B4"
      },
      "source": [
        "A = np.array( [[1,1],\n",
        "            [0,1]] )\n",
        "B = np.array( [[2,0],\n",
        "            [3,4]] )\n",
        "A * B                       # elementwise product"
      ],
      "execution_count": null,
      "outputs": []
    },
    {
      "cell_type": "code",
      "metadata": {
        "id": "IHhOynIGdDLE"
      },
      "source": [
        "A @ B                       # matrix product"
      ],
      "execution_count": null,
      "outputs": []
    },
    {
      "cell_type": "code",
      "metadata": {
        "id": "Pu0s43mBdFN7"
      },
      "source": [
        "A.dot(B)                    # another matrix product"
      ],
      "execution_count": null,
      "outputs": []
    },
    {
      "cell_type": "markdown",
      "metadata": {
        "id": "DdX22q05dIAg"
      },
      "source": [
        "Some operations, such as `+=` and `*=`, act in place to modify an existing array rather than create a new one."
      ]
    },
    {
      "cell_type": "code",
      "metadata": {
        "id": "5M7sIU3UdXvO"
      },
      "source": [
        "a = np.ones((2,3), dtype=int)\n",
        "b = np.random.random((2,3))\n",
        "a *= 3\n",
        "a"
      ],
      "execution_count": null,
      "outputs": []
    },
    {
      "cell_type": "code",
      "metadata": {
        "id": "YzxRvlEVddaz"
      },
      "source": [
        "b += a\n",
        "b"
      ],
      "execution_count": null,
      "outputs": []
    },
    {
      "cell_type": "code",
      "metadata": {
        "id": "CT8YKXIPdg6X"
      },
      "source": [
        "a += b                  # b is not automatically converted to integer type"
      ],
      "execution_count": null,
      "outputs": []
    },
    {
      "cell_type": "markdown",
      "metadata": {
        "id": "teR7cNondl4Z"
      },
      "source": [
        "When operating with arrays of different types, the type of the resulting array corresponds to the more general or precise one (a behavior known as upcasting)."
      ]
    },
    {
      "cell_type": "code",
      "metadata": {
        "id": "2GynF6YOdonH"
      },
      "source": [
        "a = np.ones(3, dtype=np.int32)\n",
        "b = np.linspace(0,pi,3)\n",
        "b.dtype.name"
      ],
      "execution_count": null,
      "outputs": []
    },
    {
      "cell_type": "code",
      "metadata": {
        "id": "nqH1mkgjdrbR"
      },
      "source": [
        "c = a+b\n",
        "c"
      ],
      "execution_count": null,
      "outputs": []
    },
    {
      "cell_type": "code",
      "metadata": {
        "id": "AXe3O1D2duyz"
      },
      "source": [
        "c.dtype.name"
      ],
      "execution_count": null,
      "outputs": []
    },
    {
      "cell_type": "code",
      "metadata": {
        "id": "LdcfogisdxQH"
      },
      "source": [
        "d = np.exp(c*1j)\n",
        "d"
      ],
      "execution_count": null,
      "outputs": []
    },
    {
      "cell_type": "code",
      "metadata": {
        "id": "kQsf7TCOdyy2"
      },
      "source": [
        "d.dtype.name"
      ],
      "execution_count": null,
      "outputs": []
    },
    {
      "cell_type": "markdown",
      "metadata": {
        "id": "TsnMlIJNd1Oi"
      },
      "source": [
        "Many unary operations, such as computing the sum of all the elements in the array, are implemented as methods of the `ndarray` class."
      ]
    },
    {
      "cell_type": "code",
      "metadata": {
        "id": "vCFvoROBd5LT"
      },
      "source": [
        "a = np.random.random((2,3))\n",
        "a"
      ],
      "execution_count": null,
      "outputs": []
    },
    {
      "cell_type": "code",
      "metadata": {
        "id": "qzQXhe0yd9af"
      },
      "source": [
        "a.sum()"
      ],
      "execution_count": null,
      "outputs": []
    },
    {
      "cell_type": "code",
      "metadata": {
        "id": "71A9-xPXeACN"
      },
      "source": [
        "a.min()"
      ],
      "execution_count": null,
      "outputs": []
    },
    {
      "cell_type": "code",
      "metadata": {
        "id": "qjcwBpwkeCCF"
      },
      "source": [
        "a.max()"
      ],
      "execution_count": null,
      "outputs": []
    },
    {
      "cell_type": "markdown",
      "metadata": {
        "id": "kRqloo0heJri"
      },
      "source": [
        "By default, these operations apply to the array as though it were a list of numbers, regardless of its shape. However, by specifying the `axis` parameter you can apply an operation along the specified axis of an array:"
      ]
    },
    {
      "cell_type": "code",
      "metadata": {
        "id": "sKp_RliaePvN"
      },
      "source": [
        "b = np.arange(12).reshape(3,4)\n",
        "b"
      ],
      "execution_count": null,
      "outputs": []
    },
    {
      "cell_type": "code",
      "metadata": {
        "id": "QKON9YKLeRTB"
      },
      "source": [
        "b.sum(axis=0)                            # sum of each column"
      ],
      "execution_count": null,
      "outputs": []
    },
    {
      "cell_type": "code",
      "metadata": {
        "id": "NnjzivxveUZ5"
      },
      "source": [
        "b.min(axis=1)                            # min of each row"
      ],
      "execution_count": null,
      "outputs": []
    },
    {
      "cell_type": "code",
      "metadata": {
        "id": "3Rnw9hhTeXka"
      },
      "source": [
        "b.cumsum(axis=1)                         # cumulative sum along each row"
      ],
      "execution_count": null,
      "outputs": []
    },
    {
      "cell_type": "markdown",
      "metadata": {
        "id": "_NOr6g21eZyK"
      },
      "source": [
        "## Universal Functions\n",
        "\n",
        "NumPy provides familiar mathematical functions such as sin, cos, and exp. In NumPy, these are called “universal functions”(ufunc). Within NumPy, these functions operate elementwise on an array, producing an array as output."
      ]
    },
    {
      "cell_type": "code",
      "metadata": {
        "id": "DUdQeUHSekMi"
      },
      "source": [
        "B = np.arange(3)\n",
        "B"
      ],
      "execution_count": null,
      "outputs": []
    },
    {
      "cell_type": "code",
      "metadata": {
        "id": "BbpbujEMeqFK"
      },
      "source": [
        "np.exp(B)"
      ],
      "execution_count": null,
      "outputs": []
    },
    {
      "cell_type": "code",
      "metadata": {
        "id": "vDvypu_1esEy"
      },
      "source": [
        "np.sqrt(B)"
      ],
      "execution_count": null,
      "outputs": []
    },
    {
      "cell_type": "code",
      "metadata": {
        "id": "1M62rhq8ewnJ"
      },
      "source": [
        "C = np.array([2., -1., 4.])\n",
        "np.add(B, C)"
      ],
      "execution_count": null,
      "outputs": []
    },
    {
      "cell_type": "markdown",
      "metadata": {
        "id": "kSBnTp8xejlN"
      },
      "source": [
        "See also:\n",
        "\n",
        "all, any, apply_along_axis, argmax, argmin, argsort, average, bincount, ceil, clip, conj, corrcoef, cov, cross, cumprod, cumsum, diff, dot, floor, inner, inv, lexsort, max, maximum, mean, median, min, minimum, nonzero, outer, prod, re, round, sort, std, sum, trace, transpose, var, vdot, vectorize, where"
      ]
    },
    {
      "cell_type": "markdown",
      "metadata": {
        "id": "6qhuhBS7e6FW"
      },
      "source": [
        "## Indexing, Slicing and Iterating\n",
        "**One-dimensional** arrays can be indexed, sliced and iterated over, much like lists and other Python sequences."
      ]
    },
    {
      "cell_type": "code",
      "metadata": {
        "id": "RubU0qmKfC8G"
      },
      "source": [
        "a = np.arange(10)**3\n",
        "a"
      ],
      "execution_count": null,
      "outputs": []
    },
    {
      "cell_type": "code",
      "metadata": {
        "id": "QcPW5C7_fE5c"
      },
      "source": [
        "a[2]"
      ],
      "execution_count": null,
      "outputs": []
    },
    {
      "cell_type": "code",
      "metadata": {
        "id": "tSVtq_FVfIJm"
      },
      "source": [
        "a[2:5]"
      ],
      "execution_count": null,
      "outputs": []
    },
    {
      "cell_type": "code",
      "metadata": {
        "id": "O7pL5MpVfLMK"
      },
      "source": [
        "a[:6:2] = -1000    # equivalent to a[0:6:2] = -1000; from start to position 6, exclusive, set every 2nd element to -1000\n",
        "a"
      ],
      "execution_count": null,
      "outputs": []
    },
    {
      "cell_type": "code",
      "metadata": {
        "id": "2pLWYvq8fOoT"
      },
      "source": [
        "a[ : :-1]                                 # reversed a"
      ],
      "execution_count": null,
      "outputs": []
    },
    {
      "cell_type": "code",
      "metadata": {
        "id": "Uorve4irfRlH"
      },
      "source": [
        "for i in a:\n",
        "    print(i**(1/3.))"
      ],
      "execution_count": null,
      "outputs": []
    },
    {
      "cell_type": "markdown",
      "metadata": {
        "id": "uGaR-Rj4fVa_"
      },
      "source": [
        "**Multidimensional** arrays can have one index per axis. These indices are given in a tuple separated by commas:"
      ]
    },
    {
      "cell_type": "code",
      "metadata": {
        "id": "YtTKXsZafXRb"
      },
      "source": [
        " def f(x,y):\n",
        "    return 10*x+y"
      ],
      "execution_count": null,
      "outputs": []
    },
    {
      "cell_type": "code",
      "metadata": {
        "id": "NfbYKgXIfdSW"
      },
      "source": [
        "b = np.fromfunction(f,(5,4),dtype=int)\n",
        "b"
      ],
      "execution_count": null,
      "outputs": []
    },
    {
      "cell_type": "code",
      "metadata": {
        "id": "epYSepOAff2l"
      },
      "source": [
        "b[2,3]"
      ],
      "execution_count": null,
      "outputs": []
    },
    {
      "cell_type": "code",
      "metadata": {
        "id": "XlwyvVn0fjoq"
      },
      "source": [
        "b[0:5, 1]                       # each row in the second column of b"
      ],
      "execution_count": null,
      "outputs": []
    },
    {
      "cell_type": "code",
      "metadata": {
        "id": "ViuYOh38flMF"
      },
      "source": [
        "b[ : ,1]                        # equivalent to the previous example"
      ],
      "execution_count": null,
      "outputs": []
    },
    {
      "cell_type": "code",
      "metadata": {
        "id": "omwDW9UUfmr7"
      },
      "source": [
        "b[1:3, : ]                      # each column in the second and third row of b"
      ],
      "execution_count": null,
      "outputs": []
    },
    {
      "cell_type": "markdown",
      "metadata": {
        "id": "gHWSFBU4ftpn"
      },
      "source": [
        "When fewer indices are provided than the number of axes, the missing indices are considered complete slices:"
      ]
    },
    {
      "cell_type": "code",
      "metadata": {
        "id": "7fIlUBk3fuxp"
      },
      "source": [
        "b[-1]                                  # the last row. Equivalent to b[-1,:]"
      ],
      "execution_count": null,
      "outputs": []
    },
    {
      "cell_type": "markdown",
      "metadata": {
        "id": "UGPiqlX-fzOC"
      },
      "source": [
        "The expression within brackets in `b[i]` is treated as an `i` followed by as many instances of : as needed to represent the remaining axes. NumPy also allows you to write this using dots as `b[i,...]`.\n",
        "\n",
        "The **dots** (...) represent as many colons as needed to produce a complete indexing tuple. For example, if x is an array with 5 axes, then\n",
        "\n",
        "* `x[1,2,...]` is equivalent to `x[1,2,:,:,:]`,\n",
        "* `x[...,3]` to `x[:,:,:,:,3]` and\n",
        "* `x[4,...,5,:]` to `x[4,:,:,5,:]`."
      ]
    },
    {
      "cell_type": "code",
      "metadata": {
        "id": "ouPbiIdJgFEX"
      },
      "source": [
        "c = np.array( [[[  0,  1,  2],               # a 3D array (two stacked 2D arrays)\n",
        "                [ 10, 12, 13]],\n",
        "               [[100,101,102],\n",
        "                [110,112,113]]])"
      ],
      "execution_count": null,
      "outputs": []
    },
    {
      "cell_type": "code",
      "metadata": {
        "id": "OvGvxdSLgH6q"
      },
      "source": [
        "c.shape"
      ],
      "execution_count": null,
      "outputs": []
    },
    {
      "cell_type": "code",
      "metadata": {
        "id": "jtRXKhJHgKQo"
      },
      "source": [
        "c[1,...]                                   # same as c[1,:,:] or c[1]"
      ],
      "execution_count": null,
      "outputs": []
    },
    {
      "cell_type": "code",
      "metadata": {
        "id": "w1-GId6JgQSP"
      },
      "source": [
        "c[...,2]                                   # same as c[:,:,2]"
      ],
      "execution_count": null,
      "outputs": []
    },
    {
      "cell_type": "markdown",
      "metadata": {
        "id": "oDeQGte2gTXp"
      },
      "source": [
        "**Iterating** over multidimensional arrays is done with respect to the first axis:"
      ]
    },
    {
      "cell_type": "code",
      "metadata": {
        "id": "9yOvv1NdgSqX"
      },
      "source": [
        "for row in b:\n",
        "    print(row)"
      ],
      "execution_count": null,
      "outputs": []
    },
    {
      "cell_type": "markdown",
      "metadata": {
        "id": "vbkBiFrAgYrs"
      },
      "source": [
        "However, if one wants to perform an operation on each element in the array, one can use the `flat` attribute which is an iterator over all the elements of the array:"
      ]
    },
    {
      "cell_type": "code",
      "metadata": {
        "id": "1RUeUwHHgdk1"
      },
      "source": [
        "for element in b.flat:\n",
        "    print(element)"
      ],
      "execution_count": null,
      "outputs": []
    },
    {
      "cell_type": "markdown",
      "metadata": {
        "id": "EVN6GeK3gcij"
      },
      "source": [
        "See also:\n",
        "\n",
        "Indexing, Indexing (reference), newaxis, ndenumerate, indices"
      ]
    },
    {
      "cell_type": "markdown",
      "metadata": {
        "id": "wczK8qPHgi4x"
      },
      "source": [
        "## Shape Manipulation"
      ]
    },
    {
      "cell_type": "markdown",
      "metadata": {
        "id": "LWQZUEGLgnV4"
      },
      "source": [
        "### Changing the shape of an array\n",
        "\n",
        "An array has a shape given by the number of elements along each axis:"
      ]
    },
    {
      "cell_type": "code",
      "metadata": {
        "id": "-IYAOxm1gqhd"
      },
      "source": [
        "a = np.floor(10*np.random.random((3,4)))\n",
        "a"
      ],
      "execution_count": null,
      "outputs": []
    },
    {
      "cell_type": "code",
      "metadata": {
        "id": "12vXMFcUgrk5"
      },
      "source": [
        "a.shape"
      ],
      "execution_count": null,
      "outputs": []
    },
    {
      "cell_type": "markdown",
      "metadata": {
        "id": "tV166oqNgu16"
      },
      "source": [
        "The shape of an array can be changed with various commands. Note that the following three commands all return a modified array, but do not change the original array:"
      ]
    },
    {
      "cell_type": "code",
      "metadata": {
        "id": "QGS4O6CHgyWP"
      },
      "source": [
        "a.ravel()  # returns the array, flattened"
      ],
      "execution_count": null,
      "outputs": []
    },
    {
      "cell_type": "code",
      "metadata": {
        "id": "Du486Okog2HU"
      },
      "source": [
        "a.reshape(6,2)  # returns the array with a modified shape"
      ],
      "execution_count": null,
      "outputs": []
    },
    {
      "cell_type": "code",
      "metadata": {
        "id": "tWNtPfVmg4io"
      },
      "source": [
        "a.T  # returns the array, transposed"
      ],
      "execution_count": null,
      "outputs": []
    },
    {
      "cell_type": "code",
      "metadata": {
        "id": "swXghdeug6fh"
      },
      "source": [
        "a.T.shape"
      ],
      "execution_count": null,
      "outputs": []
    },
    {
      "cell_type": "code",
      "metadata": {
        "id": "hT7-hVH-g8V6"
      },
      "source": [
        "a.shape"
      ],
      "execution_count": null,
      "outputs": []
    },
    {
      "cell_type": "markdown",
      "metadata": {
        "id": "1wsPTqNzhBWy"
      },
      "source": [
        "The order of the elements in the array resulting from ravel() is normally “C-style”, that is, the rightmost index “changes the fastest”, so the element after a[0,0] is a[0,1]. If the array is reshaped to some other shape, again the array is treated as “C-style”. NumPy normally creates arrays stored in this order, so ravel() will usually not need to copy its argument, but if the array was made by taking slices of another array or created with unusual options, it may need to be copied. The functions ravel() and reshape() can also be instructed, using an optional argument, to use FORTRAN-style arrays, in which the leftmost index changes the fastest.\n",
        "\n",
        "The **reshape** function returns its argument with a modified shape, whereas the **ndarray.resize** method modifies the array itself:"
      ]
    },
    {
      "cell_type": "code",
      "metadata": {
        "id": "EdKzdGYuhBEU"
      },
      "source": [
        "a"
      ],
      "execution_count": null,
      "outputs": []
    },
    {
      "cell_type": "code",
      "metadata": {
        "id": "tMgyTEqjhKtd"
      },
      "source": [
        "a.resize((2,6))\n",
        "a"
      ],
      "execution_count": null,
      "outputs": []
    },
    {
      "cell_type": "markdown",
      "metadata": {
        "id": "mhqt3uydhL7U"
      },
      "source": [
        "If a dimension is given as -1 in a reshaping operation, the other dimensions are automatically calculated:"
      ]
    },
    {
      "cell_type": "code",
      "metadata": {
        "id": "2GcNavk2hOgf"
      },
      "source": [
        "a.reshape(3,-1)"
      ],
      "execution_count": null,
      "outputs": []
    },
    {
      "cell_type": "markdown",
      "metadata": {
        "id": "NEf4uIb1hRAi"
      },
      "source": [
        "See also:\n",
        "\n",
        "ndarray.shape, reshape, resize, ravel"
      ]
    },
    {
      "cell_type": "markdown",
      "metadata": {
        "id": "g7kwWhUqhigG"
      },
      "source": [
        "### Stacking together different arrays\n",
        "Several arrays can be stacked together along different axes:"
      ]
    },
    {
      "cell_type": "code",
      "metadata": {
        "id": "J62W9omFhpGW"
      },
      "source": [
        "a = np.floor(10*np.random.random((2,2)))\n",
        "a"
      ],
      "execution_count": null,
      "outputs": []
    },
    {
      "cell_type": "code",
      "metadata": {
        "id": "HauOYEKPhq0a"
      },
      "source": [
        "b = np.floor(10*np.random.random((2,2)))\n",
        "b"
      ],
      "execution_count": null,
      "outputs": []
    },
    {
      "cell_type": "code",
      "metadata": {
        "id": "l0lO93o0hsng"
      },
      "source": [
        "np.vstack((a,b))"
      ],
      "execution_count": null,
      "outputs": []
    },
    {
      "cell_type": "code",
      "metadata": {
        "id": "dSCyQHGVhuC8"
      },
      "source": [
        "np.hstack((a,b))"
      ],
      "execution_count": null,
      "outputs": []
    },
    {
      "cell_type": "markdown",
      "metadata": {
        "id": "oDu_I5f-hxsV"
      },
      "source": [
        "The function column_stack stacks 1D arrays as columns into a 2D array. It is equivalent to hstack only for 2D arrays:"
      ]
    },
    {
      "cell_type": "code",
      "metadata": {
        "id": "EWetNxn0h1Zg"
      },
      "source": [
        "from numpy import newaxis\n",
        "np.column_stack((a,b))     # with 2D arrays\n"
      ],
      "execution_count": null,
      "outputs": []
    },
    {
      "cell_type": "code",
      "metadata": {
        "id": "0d879d0jh3kN"
      },
      "source": [
        "a = np.array([4.,2.])\n",
        "b = np.array([3.,8.])\n",
        "np.column_stack((a,b))     # returns a 2D array"
      ],
      "execution_count": null,
      "outputs": []
    },
    {
      "cell_type": "code",
      "metadata": {
        "id": "LwZ4WmyAh6Dk"
      },
      "source": [
        "np.hstack((a,b))           # the result is different"
      ],
      "execution_count": null,
      "outputs": []
    },
    {
      "cell_type": "code",
      "metadata": {
        "id": "7hD5Dkezh72_"
      },
      "source": [
        "a[:,newaxis]               # this allows to have a 2D columns vector"
      ],
      "execution_count": null,
      "outputs": []
    },
    {
      "cell_type": "code",
      "metadata": {
        "id": "2xS9sdpCh9QD"
      },
      "source": [
        "np.column_stack((a[:,newaxis],b[:,newaxis]))"
      ],
      "execution_count": null,
      "outputs": []
    },
    {
      "cell_type": "code",
      "metadata": {
        "id": "-zSX1zBKh-4s"
      },
      "source": [
        "np.hstack((a[:,newaxis],b[:,newaxis]))   # the result is the same"
      ],
      "execution_count": null,
      "outputs": []
    },
    {
      "cell_type": "markdown",
      "metadata": {
        "id": "c5i0Y9xaiBUj"
      },
      "source": [
        "On the other hand, the function **row_stack** is equivalent to **vstack** for any input arrays. In general, for arrays of with more than two dimensions, **hstack** stacks along their second axes, **vstack** stacks along their first axes, and **concatenate** allows for an optional arguments giving the number of the axis along which the concatenation should happen.\n",
        "\n",
        "**Note**\n",
        "\n",
        "In complex cases, **r_** and **c_** are useful for creating arrays by stacking numbers along one axis. They allow the use of range literals (“:”)"
      ]
    },
    {
      "cell_type": "code",
      "metadata": {
        "id": "CFUJxEWniBE8"
      },
      "source": [
        "np.r_[1:4,0,4]"
      ],
      "execution_count": null,
      "outputs": []
    },
    {
      "cell_type": "markdown",
      "metadata": {
        "id": "GfK_ac9ojH28"
      },
      "source": [
        "## Indexing with Boolean Arrays\n",
        "\n",
        "When we index arrays with arrays of (integer) indices we are providing the list of indices to pick. With boolean indices the approach is different; we explicitly choose which items in the array we want and which ones we don’t.\n",
        "\n",
        "The most natural way one can think of for boolean indexing is to use boolean arrays that have the same shape as the original array:"
      ]
    },
    {
      "cell_type": "code",
      "metadata": {
        "id": "vQnFJLX-jRTp"
      },
      "source": [
        "a = np.arange(12).reshape(3,4)\n",
        "b = a > 4\n",
        "b                                          # b is a boolean with a's shape"
      ],
      "execution_count": null,
      "outputs": []
    },
    {
      "cell_type": "code",
      "metadata": {
        "id": "ITTCkwV6jTAR"
      },
      "source": [
        "a[b]                                       # 1d array with the selected elements"
      ],
      "execution_count": null,
      "outputs": []
    },
    {
      "cell_type": "markdown",
      "metadata": {
        "id": "yfKzwxZVjU2P"
      },
      "source": [
        "This property can be very useful in assignments:"
      ]
    },
    {
      "cell_type": "code",
      "metadata": {
        "id": "TbP8KC8ojXbs"
      },
      "source": [
        "a[b] = 0                                   # All elements of 'a' higher than 4 become 0\n",
        "a"
      ],
      "execution_count": null,
      "outputs": []
    }
  ]
}