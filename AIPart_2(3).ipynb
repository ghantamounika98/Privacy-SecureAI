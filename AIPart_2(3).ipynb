{
  "cells": [
    {
      "cell_type": "markdown",
      "metadata": {
        "id": "IVe8qwJBavLF"
      },
      "source": [
        "# Extraction attacks"
      ]
    },
    {
      "cell_type": "markdown",
      "source": [
        "Installing required packages"
      ],
      "metadata": {
        "id": "_17Nhsz07rjD"
      }
    },
    {
      "cell_type": "code",
      "execution_count": null,
      "metadata": {
        "colab": {
          "base_uri": "https://localhost:8080/"
        },
        "id": "LJk2Oi-nTcnh",
        "outputId": "bdde7962-9f46-4069-b97b-fb857d82b78a"
      },
      "outputs": [
        {
          "output_type": "stream",
          "name": "stdout",
          "text": [
            "Looking in indexes: https://pypi.org/simple, https://us-python.pkg.dev/colab-wheels/public/simple/\n",
            "Requirement already satisfied: tensorflow in /usr/local/lib/python3.9/dist-packages (2.12.0)\n",
            "Requirement already satisfied: flatbuffers>=2.0 in /usr/local/lib/python3.9/dist-packages (from tensorflow) (23.3.3)\n",
            "Requirement already satisfied: tensorflow-io-gcs-filesystem>=0.23.1 in /usr/local/lib/python3.9/dist-packages (from tensorflow) (0.32.0)\n",
            "Requirement already satisfied: jax>=0.3.15 in /usr/local/lib/python3.9/dist-packages (from tensorflow) (0.4.8)\n",
            "Requirement already satisfied: wrapt<1.15,>=1.11.0 in /usr/local/lib/python3.9/dist-packages (from tensorflow) (1.14.1)\n",
            "Requirement already satisfied: h5py>=2.9.0 in /usr/local/lib/python3.9/dist-packages (from tensorflow) (3.8.0)\n",
            "Requirement already satisfied: google-pasta>=0.1.1 in /usr/local/lib/python3.9/dist-packages (from tensorflow) (0.2.0)\n",
            "Requirement already satisfied: grpcio<2.0,>=1.24.3 in /usr/local/lib/python3.9/dist-packages (from tensorflow) (1.53.0)\n",
            "Requirement already satisfied: tensorboard<2.13,>=2.12 in /usr/local/lib/python3.9/dist-packages (from tensorflow) (2.12.2)\n",
            "Requirement already satisfied: setuptools in /usr/local/lib/python3.9/dist-packages (from tensorflow) (67.6.1)\n",
            "Requirement already satisfied: keras<2.13,>=2.12.0 in /usr/local/lib/python3.9/dist-packages (from tensorflow) (2.12.0)\n",
            "Requirement already satisfied: gast<=0.4.0,>=0.2.1 in /usr/local/lib/python3.9/dist-packages (from tensorflow) (0.4.0)\n",
            "Requirement already satisfied: numpy<1.24,>=1.22 in /usr/local/lib/python3.9/dist-packages (from tensorflow) (1.22.4)\n",
            "Requirement already satisfied: packaging in /usr/local/lib/python3.9/dist-packages (from tensorflow) (23.1)\n",
            "Requirement already satisfied: termcolor>=1.1.0 in /usr/local/lib/python3.9/dist-packages (from tensorflow) (2.2.0)\n",
            "Requirement already satisfied: absl-py>=1.0.0 in /usr/local/lib/python3.9/dist-packages (from tensorflow) (1.4.0)\n",
            "Requirement already satisfied: opt-einsum>=2.3.2 in /usr/local/lib/python3.9/dist-packages (from tensorflow) (3.3.0)\n",
            "Requirement already satisfied: protobuf!=4.21.0,!=4.21.1,!=4.21.2,!=4.21.3,!=4.21.4,!=4.21.5,<5.0.0dev,>=3.20.3 in /usr/local/lib/python3.9/dist-packages (from tensorflow) (3.20.3)\n",
            "Requirement already satisfied: tensorflow-estimator<2.13,>=2.12.0 in /usr/local/lib/python3.9/dist-packages (from tensorflow) (2.12.0)\n",
            "Requirement already satisfied: typing-extensions>=3.6.6 in /usr/local/lib/python3.9/dist-packages (from tensorflow) (4.5.0)\n",
            "Requirement already satisfied: six>=1.12.0 in /usr/local/lib/python3.9/dist-packages (from tensorflow) (1.16.0)\n",
            "Requirement already satisfied: libclang>=13.0.0 in /usr/local/lib/python3.9/dist-packages (from tensorflow) (16.0.0)\n",
            "Requirement already satisfied: astunparse>=1.6.0 in /usr/local/lib/python3.9/dist-packages (from tensorflow) (1.6.3)\n",
            "Requirement already satisfied: wheel<1.0,>=0.23.0 in /usr/local/lib/python3.9/dist-packages (from astunparse>=1.6.0->tensorflow) (0.40.0)\n",
            "Requirement already satisfied: ml-dtypes>=0.0.3 in /usr/local/lib/python3.9/dist-packages (from jax>=0.3.15->tensorflow) (0.1.0)\n",
            "Requirement already satisfied: scipy>=1.7 in /usr/local/lib/python3.9/dist-packages (from jax>=0.3.15->tensorflow) (1.10.1)\n",
            "Requirement already satisfied: google-auth<3,>=1.6.3 in /usr/local/lib/python3.9/dist-packages (from tensorboard<2.13,>=2.12->tensorflow) (2.17.3)\n",
            "Requirement already satisfied: tensorboard-data-server<0.8.0,>=0.7.0 in /usr/local/lib/python3.9/dist-packages (from tensorboard<2.13,>=2.12->tensorflow) (0.7.0)\n",
            "Requirement already satisfied: werkzeug>=1.0.1 in /usr/local/lib/python3.9/dist-packages (from tensorboard<2.13,>=2.12->tensorflow) (2.2.3)\n",
            "Requirement already satisfied: requests<3,>=2.21.0 in /usr/local/lib/python3.9/dist-packages (from tensorboard<2.13,>=2.12->tensorflow) (2.27.1)\n",
            "Requirement already satisfied: google-auth-oauthlib<1.1,>=0.5 in /usr/local/lib/python3.9/dist-packages (from tensorboard<2.13,>=2.12->tensorflow) (1.0.0)\n",
            "Requirement already satisfied: markdown>=2.6.8 in /usr/local/lib/python3.9/dist-packages (from tensorboard<2.13,>=2.12->tensorflow) (3.4.3)\n",
            "Requirement already satisfied: tensorboard-plugin-wit>=1.6.0 in /usr/local/lib/python3.9/dist-packages (from tensorboard<2.13,>=2.12->tensorflow) (1.8.1)\n",
            "Requirement already satisfied: cachetools<6.0,>=2.0.0 in /usr/local/lib/python3.9/dist-packages (from google-auth<3,>=1.6.3->tensorboard<2.13,>=2.12->tensorflow) (5.3.0)\n",
            "Requirement already satisfied: rsa<5,>=3.1.4 in /usr/local/lib/python3.9/dist-packages (from google-auth<3,>=1.6.3->tensorboard<2.13,>=2.12->tensorflow) (4.9)\n",
            "Requirement already satisfied: pyasn1-modules>=0.2.1 in /usr/local/lib/python3.9/dist-packages (from google-auth<3,>=1.6.3->tensorboard<2.13,>=2.12->tensorflow) (0.2.8)\n",
            "Requirement already satisfied: requests-oauthlib>=0.7.0 in /usr/local/lib/python3.9/dist-packages (from google-auth-oauthlib<1.1,>=0.5->tensorboard<2.13,>=2.12->tensorflow) (1.3.1)\n",
            "Requirement already satisfied: importlib-metadata>=4.4 in /usr/local/lib/python3.9/dist-packages (from markdown>=2.6.8->tensorboard<2.13,>=2.12->tensorflow) (6.4.1)\n",
            "Requirement already satisfied: certifi>=2017.4.17 in /usr/local/lib/python3.9/dist-packages (from requests<3,>=2.21.0->tensorboard<2.13,>=2.12->tensorflow) (2022.12.7)\n",
            "Requirement already satisfied: urllib3<1.27,>=1.21.1 in /usr/local/lib/python3.9/dist-packages (from requests<3,>=2.21.0->tensorboard<2.13,>=2.12->tensorflow) (1.26.15)\n",
            "Requirement already satisfied: charset-normalizer~=2.0.0 in /usr/local/lib/python3.9/dist-packages (from requests<3,>=2.21.0->tensorboard<2.13,>=2.12->tensorflow) (2.0.12)\n",
            "Requirement already satisfied: idna<4,>=2.5 in /usr/local/lib/python3.9/dist-packages (from requests<3,>=2.21.0->tensorboard<2.13,>=2.12->tensorflow) (3.4)\n",
            "Requirement already satisfied: MarkupSafe>=2.1.1 in /usr/local/lib/python3.9/dist-packages (from werkzeug>=1.0.1->tensorboard<2.13,>=2.12->tensorflow) (2.1.2)\n",
            "Requirement already satisfied: zipp>=0.5 in /usr/local/lib/python3.9/dist-packages (from importlib-metadata>=4.4->markdown>=2.6.8->tensorboard<2.13,>=2.12->tensorflow) (3.15.0)\n",
            "Requirement already satisfied: pyasn1<0.5.0,>=0.4.6 in /usr/local/lib/python3.9/dist-packages (from pyasn1-modules>=0.2.1->google-auth<3,>=1.6.3->tensorboard<2.13,>=2.12->tensorflow) (0.4.8)\n",
            "Requirement already satisfied: oauthlib>=3.0.0 in /usr/local/lib/python3.9/dist-packages (from requests-oauthlib>=0.7.0->google-auth-oauthlib<1.1,>=0.5->tensorboard<2.13,>=2.12->tensorflow) (3.2.2)\n"
          ]
        }
      ],
      "source": [
        "!pip install tensorflow"
      ]
    },
    {
      "cell_type": "code",
      "execution_count": null,
      "metadata": {
        "colab": {
          "base_uri": "https://localhost:8080/"
        },
        "id": "9vd74Tg4Zg_z",
        "outputId": "7605d081-d9d7-4478-a155-9283111a8ed9"
      },
      "outputs": [
        {
          "output_type": "stream",
          "name": "stdout",
          "text": [
            "Looking in indexes: https://pypi.org/simple, https://us-python.pkg.dev/colab-wheels/public/simple/\n",
            "Collecting adversarial-robustness-toolbox\n",
            "  Downloading adversarial_robustness_toolbox-1.14.1-py3-none-any.whl (1.5 MB)\n",
            "\u001b[2K     \u001b[90m━━━━━━━━━━━━━━━━━━━━━━━━━━━━━━━━━━━━━━━━\u001b[0m \u001b[32m1.5/1.5 MB\u001b[0m \u001b[31m11.1 MB/s\u001b[0m eta \u001b[36m0:00:00\u001b[0m\n",
            "\u001b[?25hRequirement already satisfied: scipy>=1.4.1 in /usr/local/lib/python3.9/dist-packages (from adversarial-robustness-toolbox) (1.10.1)\n",
            "Requirement already satisfied: numpy>=1.18.0 in /usr/local/lib/python3.9/dist-packages (from adversarial-robustness-toolbox) (1.22.4)\n",
            "Collecting scikit-learn<1.2.0,>=0.22.2\n",
            "  Downloading scikit_learn-1.1.3-cp39-cp39-manylinux_2_17_x86_64.manylinux2014_x86_64.whl (30.8 MB)\n",
            "\u001b[2K     \u001b[90m━━━━━━━━━━━━━━━━━━━━━━━━━━━━━━━━━━━━━━━━\u001b[0m \u001b[32m30.8/30.8 MB\u001b[0m \u001b[31m10.6 MB/s\u001b[0m eta \u001b[36m0:00:00\u001b[0m\n",
            "\u001b[?25hRequirement already satisfied: tqdm in /usr/local/lib/python3.9/dist-packages (from adversarial-robustness-toolbox) (4.65.0)\n",
            "Requirement already satisfied: six in /usr/local/lib/python3.9/dist-packages (from adversarial-robustness-toolbox) (1.16.0)\n",
            "Requirement already satisfied: setuptools in /usr/local/lib/python3.9/dist-packages (from adversarial-robustness-toolbox) (67.6.1)\n",
            "Requirement already satisfied: joblib>=1.0.0 in /usr/local/lib/python3.9/dist-packages (from scikit-learn<1.2.0,>=0.22.2->adversarial-robustness-toolbox) (1.2.0)\n",
            "Requirement already satisfied: threadpoolctl>=2.0.0 in /usr/local/lib/python3.9/dist-packages (from scikit-learn<1.2.0,>=0.22.2->adversarial-robustness-toolbox) (3.1.0)\n",
            "Installing collected packages: scikit-learn, adversarial-robustness-toolbox\n",
            "  Attempting uninstall: scikit-learn\n",
            "    Found existing installation: scikit-learn 1.2.2\n",
            "    Uninstalling scikit-learn-1.2.2:\n",
            "      Successfully uninstalled scikit-learn-1.2.2\n",
            "Successfully installed adversarial-robustness-toolbox-1.14.1 scikit-learn-1.1.3\n"
          ]
        }
      ],
      "source": [
        "pip install adversarial-robustness-toolbox"
      ]
    },
    {
      "cell_type": "code",
      "execution_count": null,
      "metadata": {
        "id": "KzhFvrLlZisn"
      },
      "outputs": [],
      "source": [
        "# Importing required dependencies\n",
        "import tensorflow as tf\n",
        "from tensorflow.keras.layers import Conv2D, MaxPool2D, Dense, Flatten\n",
        "import numpy as np\n",
        "import matplotlib.pyplot as plt\n",
        "import matplotlib\n",
        "from art.estimators.classification import KerasClassifier\n",
        "from art.attacks.evasion import FastGradientMethod\n",
        "from art.utils import load_dataset\n",
        "import tensorflow.keras.backend as K\n",
        "\n",
        "# Disabling eager execution from TF 2\n",
        "tf.compat.v1.disable_eager_execution()\n",
        "\n",
        "# Increasing Matplotlib font size\n",
        "matplotlib.rcParams.update({\"font.size\": 15})\n",
        "\n",
        "# Loading the data\n",
        "(train_images, train_labels), (test_images, test_labels), min, max = load_dataset(name=\"cifar10\")"
      ]
    },
    {
      "cell_type": "code",
      "execution_count": null,
      "metadata": {
        "id": "qvw4J15qaSeq"
      },
      "outputs": [],
      "source": [
        "# Creating model\n",
        "def create_model():\n",
        "    # Defining the model\n",
        "    model = tf.keras.models.Sequential([\n",
        "        Conv2D(filters=32, kernel_size=3, activation=\"relu\", input_shape=(32, 32, 3)),\n",
        "        MaxPool2D(pool_size=2),\n",
        "        Conv2D(filters=64, kernel_size=3, activation=\"relu\"),\n",
        "        MaxPool2D(pool_size=2),\n",
        "        Flatten(),\n",
        "        Dense(units=10, activation=\"softmax\")\n",
        "    ])\n",
        "\n",
        "    # Compiling the model\n",
        "    model.compile(\n",
        "        optimizer=\"adam\",\n",
        "        loss=\"categorical_crossentropy\",\n",
        "        metrics=[\"accuracy\"]\n",
        "        )\n",
        "\n",
        "    # Returning the model\n",
        "    return model"
      ]
    },
    {
      "cell_type": "code",
      "execution_count": null,
      "metadata": {
        "id": "4unICTyUaUQL"
      },
      "outputs": [],
      "source": [
        "# Importing required extraction attacks\n",
        "from art.attacks.extraction import CopycatCNN\n",
        "from art.attacks.extraction import KnockoffNets\n",
        "from art.attacks.extraction import FunctionallyEquivalentExtraction\n"
      ]
    },
    {
      "cell_type": "code",
      "source": [
        "# Setting aside a subset of the source dataset for the original model\n",
        "train_images_original = train_images[:4000]\n",
        "train_labels_original = train_labels[:4000]\n",
        "\n",
        "# Using the rest of the source dataset for the stolen model\n",
        "train_images_stolen = train_images[4000:]\n",
        "train_labels_stolen = train_labels[4000:]"
      ],
      "metadata": {
        "id": "DWt4OD3Llr4j"
      },
      "execution_count": null,
      "outputs": []
    },
    {
      "cell_type": "code",
      "execution_count": null,
      "metadata": {
        "colab": {
          "base_uri": "https://localhost:8080/"
        },
        "id": "mcjSsJchbw_U",
        "outputId": "a16a44dc-9e4e-44a0-e96e-0dfbecec0c19"
      },
      "outputs": [
        {
          "output_type": "stream",
          "name": "stdout",
          "text": [
            "Train on 4000 samples\n",
            "Epoch 1/15\n",
            "4000/4000 [==============================] - 1s 278us/sample - loss: 5.6383 - accuracy: 0.1715\n",
            "Epoch 2/15\n",
            "4000/4000 [==============================] - 1s 200us/sample - loss: 4.8201 - accuracy: 0.1933\n",
            "Epoch 3/15\n",
            "4000/4000 [==============================] - 1s 201us/sample - loss: 4.0778 - accuracy: 0.2257\n",
            "Epoch 4/15\n",
            "4000/4000 [==============================] - 1s 199us/sample - loss: 3.4210 - accuracy: 0.2740\n",
            "Epoch 5/15\n",
            "4000/4000 [==============================] - 1s 199us/sample - loss: 2.8434 - accuracy: 0.3285\n",
            "Epoch 6/15\n",
            "4000/4000 [==============================] - 1s 203us/sample - loss: 2.3346 - accuracy: 0.3905\n",
            "Epoch 7/15\n",
            "4000/4000 [==============================] - 1s 201us/sample - loss: 1.8899 - accuracy: 0.4515\n",
            "Epoch 8/15\n",
            "4000/4000 [==============================] - 1s 201us/sample - loss: 1.5048 - accuracy: 0.5153\n",
            "Epoch 9/15\n",
            "4000/4000 [==============================] - 1s 206us/sample - loss: 1.1856 - accuracy: 0.5982\n",
            "Epoch 10/15\n",
            "4000/4000 [==============================] - 1s 214us/sample - loss: 0.9316 - accuracy: 0.6783\n",
            "Epoch 11/15\n",
            "4000/4000 [==============================] - 1s 213us/sample - loss: 0.7383 - accuracy: 0.7585\n",
            "Epoch 12/15\n",
            "4000/4000 [==============================] - 1s 210us/sample - loss: 0.5924 - accuracy: 0.8242\n",
            "Epoch 13/15\n",
            "4000/4000 [==============================] - 1s 207us/sample - loss: 0.4820 - accuracy: 0.8675\n",
            "Epoch 14/15\n",
            "4000/4000 [==============================] - 1s 205us/sample - loss: 0.3972 - accuracy: 0.9028\n",
            "Epoch 15/15\n",
            "4000/4000 [==============================] - 1s 204us/sample - loss: 0.3320 - accuracy: 0.9258\n"
          ]
        }
      ],
      "source": [
        "import tensorflow_hub as hub\n",
        "from keras.models import Sequential\n",
        "from keras.layers import Dense, Flatten, Conv2D, MaxPooling2D, Activation, Dropout\n",
        "gan_model_url = \"https://tfhub.dev/deepmind/ganeval-cifar10-convnet/1\"\n",
        "gan_model = hub.KerasLayer(gan_model_url, trainable=False, input_shape=(32, 32, 3), dtype=tf.float32)\n",
        "\n",
        "model_original = Sequential()\n",
        "model_original.add(gan_model)\n",
        "model_original.add(Flatten())\n",
        "model_original.add(Dense(10))\n",
        "model_original.add(Activation(\"softmax\"))\n",
        "model_original.compile(loss=\"categorical_crossentropy\", optimizer=\"adam\", metrics=[\"accuracy\"])\n",
        "\n",
        "# Create classifier wrapper\n",
        "classifier = KerasClassifier(model_original, clip_values=(min, max))\n",
        "classifier.fit(train_images_original, train_labels_original, nb_epochs=15, batch_size=128)\n"
      ]
    },
    {
      "cell_type": "code",
      "execution_count": null,
      "metadata": {
        "id": "1aOPVO8pcEYj"
      },
      "outputs": [],
      "source": [
        "# Wrapping the model in the ART KerasClassifier class\n",
        "classifier_original = KerasClassifier(\n",
        "    model=model_original,\n",
        "    clip_values=(min, max))"
      ]
    },
    {
      "cell_type": "code",
      "execution_count": null,
      "metadata": {
        "id": "BcUmRTLCuDSH"
      },
      "outputs": [],
      "source": [
        "# Creating the \"neural net thief\" object that will steal the original classifier\n",
        "copycat_cnn = CopycatCNN(\n",
        "    batch_size_fit=256,\n",
        "    batch_size_query=256,\n",
        "    nb_epochs=15,\n",
        "    nb_stolen=len(train_images_stolen),\n",
        "    classifier=classifier_original\n",
        "    )"
      ]
    },
    {
      "cell_type": "code",
      "execution_count": null,
      "metadata": {
        "id": "QET7h8URcFH1"
      },
      "outputs": [],
      "source": [
        "# Creating the \"neural net thief\" object that will steal the original classifier\n",
        "knockoffnets = KnockoffNets(\n",
        "    batch_size_fit=256,\n",
        "    batch_size_query=256,\n",
        "    nb_epochs=20,\n",
        "    nb_stolen=len(train_images_stolen),\n",
        "    classifier=classifier_original\n",
        "    )"
      ]
    },
    {
      "cell_type": "code",
      "execution_count": null,
      "metadata": {
        "id": "zj3k-IV3iKP6"
      },
      "outputs": [],
      "source": [
        "from keras.layers import Dense, Flatten, Conv2D, MaxPooling2D, Flatten, InputLayer, Reshape\n",
        "# Below is used by `FunctionallyEquivalentExtraction`.\n",
        "model_flat = Sequential([InputLayer([3072]), Reshape([32, 32, 3]), model_original])\n",
        "model_flat.compile('sgd', 'categorical_crossentropy', ['accuracy'])\n",
        "classifier_flat_protected = KerasClassifier(model_flat, clip_values=(0, 1), use_logits=False)\n",
        "functionallyequivalentextraction = FunctionallyEquivalentExtraction(classifier=classifier_flat_protected, num_neurons=128)"
      ]
    },
    {
      "cell_type": "code",
      "execution_count": null,
      "metadata": {
        "id": "deCBml_niNpn"
      },
      "outputs": [],
      "source": [
        "# Creating a reference model for theft\n",
        "model_stolen = KerasClassifier(\n",
        "    model=create_model(),\n",
        "    clip_values=(min, max)\n",
        "    )"
      ]
    },
    {
      "cell_type": "code",
      "execution_count": null,
      "metadata": {
        "colab": {
          "base_uri": "https://localhost:8080/"
        },
        "id": "WKbYzSJFiQTP",
        "outputId": "7fa3bcac-793b-4443-ce05-f5483075da93"
      },
      "outputs": [
        {
          "output_type": "stream",
          "name": "stderr",
          "text": [
            "WARNING:art.attacks.extraction.copycat_cnn:This attack does not use the provided label y.\n",
            "/usr/local/lib/python3.9/dist-packages/keras/engine/training_v1.py:2359: UserWarning: `Model.state_updates` will be removed in a future version. This property should not be used in TensorFlow 2.0, as `updates` are applied automatically.\n",
            "  updates=self.state_updates,\n"
          ]
        },
        {
          "output_type": "stream",
          "name": "stdout",
          "text": [
            "Train on 46000 samples\n",
            "Epoch 1/15\n",
            "46000/46000 [==============================] - 3s 64us/sample - loss: 1.7579 - accuracy: 0.3735\n",
            "Epoch 2/15\n",
            "46000/46000 [==============================] - 2s 33us/sample - loss: 1.4602 - accuracy: 0.4947\n",
            "Epoch 3/15\n",
            "46000/46000 [==============================] - 2s 39us/sample - loss: 1.3614 - accuracy: 0.5368\n",
            "Epoch 4/15\n",
            "46000/46000 [==============================] - 2s 41us/sample - loss: 1.2843 - accuracy: 0.5668\n",
            "Epoch 5/15\n",
            "46000/46000 [==============================] - 2s 33us/sample - loss: 1.2294 - accuracy: 0.5868\n",
            "Epoch 6/15\n",
            "46000/46000 [==============================] - 1s 32us/sample - loss: 1.1866 - accuracy: 0.6024\n",
            "Epoch 7/15\n",
            "46000/46000 [==============================] - 1s 32us/sample - loss: 1.1424 - accuracy: 0.6202\n",
            "Epoch 8/15\n",
            "46000/46000 [==============================] - 1s 32us/sample - loss: 1.1103 - accuracy: 0.6308\n",
            "Epoch 9/15\n",
            "46000/46000 [==============================] - 1s 32us/sample - loss: 1.0844 - accuracy: 0.6406\n",
            "Epoch 10/15\n",
            "46000/46000 [==============================] - 1s 32us/sample - loss: 1.0604 - accuracy: 0.6497\n",
            "Epoch 11/15\n",
            "46000/46000 [==============================] - 2s 35us/sample - loss: 1.0436 - accuracy: 0.6532\n",
            "Epoch 12/15\n",
            "46000/46000 [==============================] - 2s 52us/sample - loss: 1.0255 - accuracy: 0.6613\n",
            "Epoch 13/15\n",
            "46000/46000 [==============================] - 2s 51us/sample - loss: 1.0111 - accuracy: 0.6666\n",
            "Epoch 14/15\n",
            "46000/46000 [==============================] - 2s 39us/sample - loss: 0.9935 - accuracy: 0.6710\n",
            "Epoch 15/15\n",
            "46000/46000 [==============================] - 3s 56us/sample - loss: 0.9664 - accuracy: 0.6828\n"
          ]
        }
      ],
      "source": [
        "# Extracting a thieved classifier by training the reference model\n",
        "stolen_classifier1 = copycat_cnn.extract(\n",
        "    x=train_images_stolen,\n",
        "    y=train_labels_stolen,\n",
        "    thieved_classifier=model_stolen\n",
        "    )"
      ]
    },
    {
      "cell_type": "code",
      "execution_count": null,
      "metadata": {
        "id": "_5FayMqPuWPH",
        "colab": {
          "base_uri": "https://localhost:8080/"
        },
        "outputId": "d5cde5a9-150d-41f7-8753-649544785961"
      },
      "outputs": [
        {
          "output_type": "stream",
          "name": "stderr",
          "text": [
            "WARNING:art.attacks.extraction.knockoff_nets:This attack with random sampling strategy does not use the provided label y.\n"
          ]
        }
      ],
      "source": [
        "# Extracting a thieved classifier by training the reference model\n",
        "stolen_classifier2 = knockoffnets.extract(\n",
        "    x=train_images_stolen,\n",
        "    y=train_labels_stolen,\n",
        "    thieved_classifier=model_stolen\n",
        "    )"
      ]
    },
    {
      "cell_type": "code",
      "execution_count": null,
      "metadata": {
        "id": "YcdM_dEiiRGc"
      },
      "outputs": [],
      "source": [
        "#Extracts a functionally equivalent classifier using the FunctionallyEquivalentExtraction technique.\n",
        "#It takes as input the flattened stolen training images and their corresponding labels, and the stolen model.\n",
        "stolen_classifier3 = FunctionallyEquivalentExtraction.extract(np.reshape(train_images_stolen, [len(train_images_stolen), -1]), train_labels_stolen, thieved_classifier=model_stolen)"
      ]
    },
    {
      "cell_type": "markdown",
      "metadata": {
        "id": "cdI5G9tVcMVk"
      },
      "source": [
        "1.Functionallity Equivalent Extraction\n",
        "\n",
        "2.Copycat CNN\n",
        "\n",
        "3.Knockoff Nets\n"
      ]
    },
    {
      "cell_type": "code",
      "execution_count": null,
      "metadata": {
        "id": "PwFOMds1iYUT"
      },
      "outputs": [],
      "source": [
        "# Testing the performance of the original classifier\n",
        "score_original = classifier_original._model.evaluate(\n",
        "    x=test_images,\n",
        "    y=test_labels\n",
        "    )\n",
        "\n",
        "# Testing the performance of the stolen classifier\n",
        "score_stolen = stolen_classifier1._model.evaluate(\n",
        "    x=test_images,\n",
        "    y=test_labels\n",
        "    )\n",
        "\n",
        "# Comparing test losses\n",
        "print(f\"Original test loss: {score_original[0]:.2f} \"\n",
        "      f\"Stolen test loss: {score_stolen[0]:.2f}\")\n",
        "\n",
        "# Comparing test accuracies\n",
        "print(f\"Original test accuracy: {score_original[1]:.2f} \"\n",
        "      f\"Stolen test accuracy: {score_stolen[1]:.2f}\")"
      ]
    },
    {
      "cell_type": "code",
      "execution_count": null,
      "metadata": {
        "id": "BJeTwKgqqGnx"
      },
      "outputs": [],
      "source": [
        "# Testing the performance of the original classifier\n",
        "score_original = classifier_original._model.evaluate(\n",
        "    x=test_images,\n",
        "    y=test_labels\n",
        "    )\n",
        "\n",
        "# Testing the performance of the stolen classifier\n",
        "score_stolen = stolen_classifier2._model.evaluate(\n",
        "    x=test_images,\n",
        "    y=test_labels\n",
        "    )\n",
        "\n",
        "# Comparing test losses\n",
        "print(f\"Original test loss: {score_original[0]:.2f} \"\n",
        "      f\"Stolen test loss: {score_stolen[0]:.2f}\")\n",
        "\n",
        "# Comparing test accuracies\n",
        "print(f\"Original test accuracy: {score_original[1]:.2f} \"\n",
        "      f\"Stolen test accuracy: {score_stolen[1]:.2f}\")"
      ]
    },
    {
      "cell_type": "markdown",
      "metadata": {
        "id": "_BmDVopwjnmr"
      },
      "source": [
        "Including the accuracy of the stolen model with different percentages of the data ( 5%, 10% and 30%)\n",
        "\n",
        "# CopyCatCNN"
      ]
    },
    {
      "cell_type": "markdown",
      "source": [
        "**Description of algorithm**\n",
        "\n",
        "If a target black-box CNN can be copied by persuading it to confess its knowledge through random non-labeled data. The copy is two-fold: i) the target network is queried with random data and its predictions are used to create a fake dataset with the knowledge of the network; and ii) a copycat network is trained with the fake dataset and should be able to achieve similar performance as the target network."
      ],
      "metadata": {
        "id": "sZj2obkANo8Q"
      }
    },
    {
      "cell_type": "code",
      "execution_count": null,
      "metadata": {
        "id": "zq6Xk_I4jsAK",
        "colab": {
          "base_uri": "https://localhost:8080/"
        },
        "outputId": "aee7de0c-e011-4794-9cf4-a3c035bd8c1a"
      },
      "outputs": [
        {
          "output_type": "stream",
          "name": "stderr",
          "text": [
            "WARNING:art.attacks.extraction.copycat_cnn:This attack does not use the provided label y.\n"
          ]
        },
        {
          "output_type": "stream",
          "name": "stdout",
          "text": [
            "Train on 200 samples\n",
            "Epoch 1/20\n",
            "200/200 [==============================] - 0s 2ms/sample - loss: 2.3188 - accuracy: 0.0850\n",
            "Epoch 2/20\n",
            "200/200 [==============================] - 0s 111us/sample - loss: 2.2817 - accuracy: 0.1250\n",
            "Epoch 3/20\n",
            "200/200 [==============================] - 0s 74us/sample - loss: 2.2591 - accuracy: 0.1400\n",
            "Epoch 4/20\n",
            "200/200 [==============================] - 0s 69us/sample - loss: 2.2438 - accuracy: 0.1450\n",
            "Epoch 5/20\n",
            "200/200 [==============================] - 0s 123us/sample - loss: 2.2279 - accuracy: 0.1450\n",
            "Epoch 6/20\n",
            "200/200 [==============================] - 0s 76us/sample - loss: 2.2072 - accuracy: 0.1650\n",
            "Epoch 7/20\n",
            "200/200 [==============================] - 0s 58us/sample - loss: 2.1822 - accuracy: 0.2100\n",
            "Epoch 8/20\n",
            "200/200 [==============================] - 0s 71us/sample - loss: 2.1542 - accuracy: 0.2500\n",
            "Epoch 9/20\n",
            "200/200 [==============================] - 0s 72us/sample - loss: 2.1225 - accuracy: 0.3100\n",
            "Epoch 10/20\n",
            "200/200 [==============================] - 0s 72us/sample - loss: 2.0873 - accuracy: 0.3450\n",
            "Epoch 11/20\n",
            "200/200 [==============================] - 0s 74us/sample - loss: 2.0481 - accuracy: 0.3900\n",
            "Epoch 12/20\n",
            "200/200 [==============================] - 0s 60us/sample - loss: 2.0056 - accuracy: 0.3950\n",
            "Epoch 13/20\n",
            "200/200 [==============================] - 0s 60us/sample - loss: 1.9601 - accuracy: 0.4000\n",
            "Epoch 14/20\n",
            "200/200 [==============================] - 0s 152us/sample - loss: 1.9110 - accuracy: 0.4250\n",
            "Epoch 15/20\n",
            "200/200 [==============================] - 0s 87us/sample - loss: 1.8602 - accuracy: 0.4400\n",
            "Epoch 16/20\n",
            "200/200 [==============================] - 0s 59us/sample - loss: 1.8095 - accuracy: 0.4300\n",
            "Epoch 17/20\n",
            "200/200 [==============================] - 0s 60us/sample - loss: 1.7584 - accuracy: 0.4400\n",
            "Epoch 18/20\n",
            "200/200 [==============================] - 0s 115us/sample - loss: 1.7070 - accuracy: 0.4500\n",
            "Epoch 19/20\n",
            "200/200 [==============================] - 0s 67us/sample - loss: 1.6583 - accuracy: 0.4750\n",
            "Epoch 20/20\n",
            "200/200 [==============================] - 0s 102us/sample - loss: 1.6108 - accuracy: 0.4800\n"
          ]
        },
        {
          "output_type": "stream",
          "name": "stderr",
          "text": [
            "WARNING:art.attacks.extraction.copycat_cnn:This attack does not use the provided label y.\n"
          ]
        },
        {
          "output_type": "stream",
          "name": "stdout",
          "text": [
            "Train on 400 samples\n",
            "Epoch 1/20\n",
            "400/400 [==============================] - 0s 706us/sample - loss: 2.3106 - accuracy: 0.1150\n",
            "Epoch 2/20\n",
            "400/400 [==============================] - 0s 54us/sample - loss: 2.2752 - accuracy: 0.1850\n",
            "Epoch 3/20\n",
            "400/400 [==============================] - 0s 43us/sample - loss: 2.2506 - accuracy: 0.2050\n",
            "Epoch 4/20\n",
            "400/400 [==============================] - 0s 45us/sample - loss: 2.2143 - accuracy: 0.2575\n",
            "Epoch 5/20\n",
            "400/400 [==============================] - 0s 62us/sample - loss: 2.1796 - accuracy: 0.3200\n",
            "Epoch 6/20\n",
            "400/400 [==============================] - 0s 46us/sample - loss: 2.1294 - accuracy: 0.3200\n",
            "Epoch 7/20\n",
            "400/400 [==============================] - 0s 44us/sample - loss: 2.0730 - accuracy: 0.3675\n",
            "Epoch 8/20\n",
            "400/400 [==============================] - 0s 44us/sample - loss: 2.0184 - accuracy: 0.3650\n",
            "Epoch 9/20\n",
            "400/400 [==============================] - 0s 45us/sample - loss: 1.9502 - accuracy: 0.4000\n",
            "Epoch 10/20\n",
            "400/400 [==============================] - 0s 73us/sample - loss: 1.8967 - accuracy: 0.4200\n",
            "Epoch 11/20\n",
            "400/400 [==============================] - 0s 48us/sample - loss: 1.8292 - accuracy: 0.4475\n",
            "Epoch 12/20\n",
            "400/400 [==============================] - 0s 45us/sample - loss: 1.7805 - accuracy: 0.4125\n",
            "Epoch 13/20\n",
            "400/400 [==============================] - 0s 45us/sample - loss: 1.7225 - accuracy: 0.4625\n",
            "Epoch 14/20\n",
            "400/400 [==============================] - 0s 44us/sample - loss: 1.6803 - accuracy: 0.4625\n",
            "Epoch 15/20\n",
            "400/400 [==============================] - 0s 51us/sample - loss: 1.6412 - accuracy: 0.4675\n",
            "Epoch 16/20\n",
            "400/400 [==============================] - 0s 48us/sample - loss: 1.6012 - accuracy: 0.4950\n",
            "Epoch 17/20\n",
            "400/400 [==============================] - 0s 51us/sample - loss: 1.5697 - accuracy: 0.4950\n",
            "Epoch 18/20\n",
            "400/400 [==============================] - 0s 56us/sample - loss: 1.5225 - accuracy: 0.5100\n",
            "Epoch 19/20\n",
            "400/400 [==============================] - 0s 50us/sample - loss: 1.4965 - accuracy: 0.5325\n",
            "Epoch 20/20\n",
            "400/400 [==============================] - 0s 46us/sample - loss: 1.4604 - accuracy: 0.5300\n"
          ]
        },
        {
          "output_type": "stream",
          "name": "stderr",
          "text": [
            "WARNING:art.attacks.extraction.copycat_cnn:This attack does not use the provided label y.\n"
          ]
        },
        {
          "output_type": "stream",
          "name": "stdout",
          "text": [
            "Train on 1200 samples\n",
            "Epoch 1/20\n",
            "1200/1200 [==============================] - 0s 156us/sample - loss: 2.3012 - accuracy: 0.1258\n",
            "Epoch 2/20\n",
            "1200/1200 [==============================] - 0s 34us/sample - loss: 2.2610 - accuracy: 0.1400\n",
            "Epoch 3/20\n",
            "1200/1200 [==============================] - 0s 39us/sample - loss: 2.2078 - accuracy: 0.2817\n",
            "Epoch 4/20\n",
            "1200/1200 [==============================] - 0s 34us/sample - loss: 2.1235 - accuracy: 0.2917\n",
            "Epoch 5/20\n",
            "1200/1200 [==============================] - 0s 35us/sample - loss: 2.0084 - accuracy: 0.3217\n",
            "Epoch 6/20\n",
            "1200/1200 [==============================] - 0s 36us/sample - loss: 1.9117 - accuracy: 0.3275\n",
            "Epoch 7/20\n",
            "1200/1200 [==============================] - 0s 40us/sample - loss: 1.8634 - accuracy: 0.3208\n",
            "Epoch 8/20\n",
            "1200/1200 [==============================] - 0s 34us/sample - loss: 1.8127 - accuracy: 0.3475\n",
            "Epoch 9/20\n",
            "1200/1200 [==============================] - 0s 35us/sample - loss: 1.7765 - accuracy: 0.3658\n",
            "Epoch 10/20\n",
            "1200/1200 [==============================] - 0s 36us/sample - loss: 1.7229 - accuracy: 0.3925\n",
            "Epoch 11/20\n",
            "1200/1200 [==============================] - 0s 34us/sample - loss: 1.6862 - accuracy: 0.4142\n",
            "Epoch 12/20\n",
            "1200/1200 [==============================] - 0s 40us/sample - loss: 1.6497 - accuracy: 0.4308\n",
            "Epoch 13/20\n",
            "1200/1200 [==============================] - 0s 35us/sample - loss: 1.6186 - accuracy: 0.4275\n",
            "Epoch 14/20\n",
            "1200/1200 [==============================] - 0s 36us/sample - loss: 1.5752 - accuracy: 0.4400\n",
            "Epoch 15/20\n",
            "1200/1200 [==============================] - 0s 35us/sample - loss: 1.5490 - accuracy: 0.4750\n",
            "Epoch 16/20\n",
            "1200/1200 [==============================] - 0s 35us/sample - loss: 1.5351 - accuracy: 0.4608\n",
            "Epoch 17/20\n",
            "1200/1200 [==============================] - 0s 42us/sample - loss: 1.5065 - accuracy: 0.4758\n",
            "Epoch 18/20\n",
            "1200/1200 [==============================] - 0s 35us/sample - loss: 1.4742 - accuracy: 0.4875\n",
            "Epoch 19/20\n",
            "1200/1200 [==============================] - 0s 35us/sample - loss: 1.4738 - accuracy: 0.4808\n",
            "Epoch 20/20\n",
            "1200/1200 [==============================] - 0s 35us/sample - loss: 1.4338 - accuracy: 0.5000\n"
          ]
        }
      ],
      "source": [
        "# Defining subsets to try\n",
        "data_subsets_to_try = [200, 400, 1200] # 5%, 10% and 30%\n",
        "\n",
        "# Initializing a dict to store scores\n",
        "scores1 = {}\n",
        "\n",
        "# Iterating over each data subset\n",
        "for data_subset in data_subsets_to_try:\n",
        "    # Creating a reference model for theft\n",
        "    model_stolen = KerasClassifier(\n",
        "        model=create_model(),\n",
        "        clip_values=(0, 1)\n",
        "        )\n",
        "\n",
        "    # Creating the \"neural net thief\" object\n",
        "    # to train with the current subset size\n",
        "    copycat_cnn = CopycatCNN(\n",
        "        batch_size_fit=256,\n",
        "        batch_size_query=256,\n",
        "        nb_epochs=20,\n",
        "        nb_stolen=data_subset,\n",
        "        classifier=classifier_original\n",
        "    )\n",
        "\n",
        "    # Extracting a thieved classifier,\n",
        "    # using a subset of the stolen data\n",
        "    stolen_classifier1 = copycat_cnn.extract(\n",
        "        x=train_images_stolen[:data_subset],\n",
        "        y=train_labels_stolen[:data_subset],\n",
        "        thieved_classifier=model_stolen\n",
        "        )\n",
        "\n",
        "    # Calculating test metrics for the current stolen model\n",
        "    scores1[data_subset] = stolen_classifier1._model.evaluate(\n",
        "        x=test_images,\n",
        "        y=test_labels\n",
        "    )"
      ]
    },
    {
      "cell_type": "markdown",
      "metadata": {
        "id": "O9zXVQ5ikHIn"
      },
      "source": [
        "The accuracy of the stolen model with different percentages of the data (5%, 10% and 30%). -\n",
        "# KnockOffNets"
      ]
    },
    {
      "cell_type": "markdown",
      "source": [
        "Description of algorithm\n",
        "\n",
        " 1.Querying a set of input images to the blackbox model to obtain predictions.\n",
        "\n",
        " 2.Training a \"knockoff\" with queried image-prediction pairs."
      ],
      "metadata": {
        "id": "CC6E40j0QrbV"
      }
    },
    {
      "cell_type": "code",
      "execution_count": null,
      "metadata": {
        "id": "lxLMNHDSkWBX",
        "colab": {
          "base_uri": "https://localhost:8080/"
        },
        "outputId": "9cba5218-460d-483b-e233-24be9cff7fa3"
      },
      "outputs": [
        {
          "output_type": "stream",
          "name": "stderr",
          "text": [
            "WARNING:art.attacks.extraction.copycat_cnn:This attack does not use the provided label y.\n",
            "WARNING:art.attacks.extraction.copycat_cnn:The size of the source input is smaller than the expected number of queries submitted to the victim classifier.\n"
          ]
        },
        {
          "output_type": "stream",
          "name": "stdout",
          "text": [
            "Train on 200 samples\n",
            "Epoch 1/20\n",
            "200/200 [==============================] - 0s 810us/sample - loss: 2.2909 - accuracy: 0.1350\n",
            "Epoch 2/20\n",
            "200/200 [==============================] - 0s 60us/sample - loss: 2.2658 - accuracy: 0.1350\n",
            "Epoch 3/20\n",
            "200/200 [==============================] - 0s 58us/sample - loss: 2.2478 - accuracy: 0.1550\n",
            "Epoch 4/20\n",
            "200/200 [==============================] - 0s 62us/sample - loss: 2.2311 - accuracy: 0.2100\n",
            "Epoch 5/20\n",
            "200/200 [==============================] - 0s 67us/sample - loss: 2.2112 - accuracy: 0.2250\n",
            "Epoch 6/20\n",
            "200/200 [==============================] - 0s 69us/sample - loss: 2.1866 - accuracy: 0.2300\n",
            "Epoch 7/20\n",
            "200/200 [==============================] - 0s 67us/sample - loss: 2.1575 - accuracy: 0.2700\n",
            "Epoch 8/20\n",
            "200/200 [==============================] - 0s 62us/sample - loss: 2.1252 - accuracy: 0.3100\n",
            "Epoch 9/20\n",
            "200/200 [==============================] - 0s 60us/sample - loss: 2.0893 - accuracy: 0.3500\n",
            "Epoch 10/20\n",
            "200/200 [==============================] - 0s 66us/sample - loss: 2.0506 - accuracy: 0.3750\n",
            "Epoch 11/20\n",
            "200/200 [==============================] - 0s 56us/sample - loss: 2.0089 - accuracy: 0.4100\n",
            "Epoch 12/20\n",
            "200/200 [==============================] - 0s 76us/sample - loss: 1.9634 - accuracy: 0.4050\n",
            "Epoch 13/20\n",
            "200/200 [==============================] - 0s 59us/sample - loss: 1.9167 - accuracy: 0.3900\n",
            "Epoch 14/20\n",
            "200/200 [==============================] - 0s 63us/sample - loss: 1.8709 - accuracy: 0.3900\n",
            "Epoch 15/20\n",
            "200/200 [==============================] - 0s 56us/sample - loss: 1.8241 - accuracy: 0.4150\n",
            "Epoch 16/20\n",
            "200/200 [==============================] - 0s 55us/sample - loss: 1.7766 - accuracy: 0.4300\n",
            "Epoch 17/20\n",
            "200/200 [==============================] - 0s 57us/sample - loss: 1.7314 - accuracy: 0.4550\n",
            "Epoch 18/20\n",
            "200/200 [==============================] - 0s 57us/sample - loss: 1.6862 - accuracy: 0.4700\n",
            "Epoch 19/20\n",
            "200/200 [==============================] - 0s 61us/sample - loss: 1.6419 - accuracy: 0.4600\n",
            "Epoch 20/20\n",
            "200/200 [==============================] - 0s 56us/sample - loss: 1.6000 - accuracy: 0.4850\n"
          ]
        },
        {
          "output_type": "stream",
          "name": "stderr",
          "text": [
            "WARNING:art.attacks.extraction.copycat_cnn:This attack does not use the provided label y.\n",
            "WARNING:art.attacks.extraction.copycat_cnn:The size of the source input is smaller than the expected number of queries submitted to the victim classifier.\n"
          ]
        },
        {
          "output_type": "stream",
          "name": "stdout",
          "text": [
            "Train on 400 samples\n",
            "Epoch 1/20\n",
            "400/400 [==============================] - 0s 448us/sample - loss: 2.3181 - accuracy: 0.0850\n",
            "Epoch 2/20\n",
            "400/400 [==============================] - 0s 74us/sample - loss: 2.2764 - accuracy: 0.1675\n",
            "Epoch 3/20\n",
            "400/400 [==============================] - 0s 54us/sample - loss: 2.2539 - accuracy: 0.1575\n",
            "Epoch 4/20\n",
            "400/400 [==============================] - 0s 51us/sample - loss: 2.2264 - accuracy: 0.2150\n",
            "Epoch 5/20\n",
            "400/400 [==============================] - 0s 50us/sample - loss: 2.1890 - accuracy: 0.2375\n",
            "Epoch 6/20\n",
            "400/400 [==============================] - 0s 65us/sample - loss: 2.1432 - accuracy: 0.2975\n",
            "Epoch 7/20\n",
            "400/400 [==============================] - 0s 54us/sample - loss: 2.0911 - accuracy: 0.3550\n",
            "Epoch 8/20\n",
            "400/400 [==============================] - 0s 50us/sample - loss: 2.0368 - accuracy: 0.3150\n",
            "Epoch 9/20\n",
            "400/400 [==============================] - 0s 50us/sample - loss: 1.9714 - accuracy: 0.3325\n",
            "Epoch 10/20\n",
            "400/400 [==============================] - 0s 65us/sample - loss: 1.9160 - accuracy: 0.3925\n",
            "Epoch 11/20\n",
            "400/400 [==============================] - 0s 50us/sample - loss: 1.8690 - accuracy: 0.4000\n",
            "Epoch 12/20\n",
            "400/400 [==============================] - 0s 50us/sample - loss: 1.8134 - accuracy: 0.3975\n",
            "Epoch 13/20\n",
            "400/400 [==============================] - 0s 53us/sample - loss: 1.7746 - accuracy: 0.4200\n",
            "Epoch 14/20\n",
            "400/400 [==============================] - 0s 66us/sample - loss: 1.7417 - accuracy: 0.4375\n",
            "Epoch 15/20\n",
            "400/400 [==============================] - 0s 64us/sample - loss: 1.7113 - accuracy: 0.4400\n",
            "Epoch 16/20\n",
            "400/400 [==============================] - 0s 76us/sample - loss: 1.6882 - accuracy: 0.4250\n",
            "Epoch 17/20\n",
            "400/400 [==============================] - 0s 59us/sample - loss: 1.6445 - accuracy: 0.4575\n",
            "Epoch 18/20\n",
            "400/400 [==============================] - 0s 61us/sample - loss: 1.6152 - accuracy: 0.4925\n",
            "Epoch 19/20\n",
            "400/400 [==============================] - 0s 60us/sample - loss: 1.5939 - accuracy: 0.4925\n",
            "Epoch 20/20\n",
            "400/400 [==============================] - 0s 65us/sample - loss: 1.5774 - accuracy: 0.5000\n"
          ]
        },
        {
          "output_type": "stream",
          "name": "stderr",
          "text": [
            "WARNING:art.attacks.extraction.copycat_cnn:This attack does not use the provided label y.\n"
          ]
        },
        {
          "output_type": "stream",
          "name": "stdout",
          "text": [
            "Train on 1200 samples\n",
            "Epoch 1/20\n",
            "1200/1200 [==============================] - 0s 173us/sample - loss: 2.2963 - accuracy: 0.1225\n",
            "Epoch 2/20\n",
            "1200/1200 [==============================] - 0s 47us/sample - loss: 2.2363 - accuracy: 0.2142\n",
            "Epoch 3/20\n",
            "1200/1200 [==============================] - 0s 37us/sample - loss: 2.1465 - accuracy: 0.2483\n",
            "Epoch 4/20\n",
            "1200/1200 [==============================] - 0s 35us/sample - loss: 2.0371 - accuracy: 0.2800\n",
            "Epoch 5/20\n",
            "1200/1200 [==============================] - 0s 40us/sample - loss: 1.9481 - accuracy: 0.3042\n",
            "Epoch 6/20\n",
            "1200/1200 [==============================] - 0s 36us/sample - loss: 1.8947 - accuracy: 0.3050\n",
            "Epoch 7/20\n",
            "1200/1200 [==============================] - 0s 41us/sample - loss: 1.8695 - accuracy: 0.3283\n",
            "Epoch 8/20\n",
            "1200/1200 [==============================] - 0s 36us/sample - loss: 1.8431 - accuracy: 0.3533\n",
            "Epoch 9/20\n",
            "1200/1200 [==============================] - 0s 41us/sample - loss: 1.8096 - accuracy: 0.3617\n",
            "Epoch 10/20\n",
            "1200/1200 [==============================] - 0s 39us/sample - loss: 1.7844 - accuracy: 0.3692\n",
            "Epoch 11/20\n",
            "1200/1200 [==============================] - 0s 43us/sample - loss: 1.7267 - accuracy: 0.3983\n",
            "Epoch 12/20\n",
            "1200/1200 [==============================] - 0s 37us/sample - loss: 1.6766 - accuracy: 0.4125\n",
            "Epoch 13/20\n",
            "1200/1200 [==============================] - 0s 37us/sample - loss: 1.6460 - accuracy: 0.4300\n",
            "Epoch 14/20\n",
            "1200/1200 [==============================] - 0s 36us/sample - loss: 1.6184 - accuracy: 0.4400\n",
            "Epoch 15/20\n",
            "1200/1200 [==============================] - 0s 37us/sample - loss: 1.5805 - accuracy: 0.4442\n",
            "Epoch 16/20\n",
            "1200/1200 [==============================] - 0s 39us/sample - loss: 1.5565 - accuracy: 0.4542\n",
            "Epoch 17/20\n",
            "1200/1200 [==============================] - 0s 36us/sample - loss: 1.5203 - accuracy: 0.4708\n",
            "Epoch 18/20\n",
            "1200/1200 [==============================] - 0s 39us/sample - loss: 1.4888 - accuracy: 0.4750\n",
            "Epoch 19/20\n",
            "1200/1200 [==============================] - 0s 40us/sample - loss: 1.4684 - accuracy: 0.4825\n",
            "Epoch 20/20\n",
            "1200/1200 [==============================] - 0s 42us/sample - loss: 1.4424 - accuracy: 0.4858\n"
          ]
        }
      ],
      "source": [
        "# Defining subsets to try\n",
        "data_subsets_to_try = [200, 400, 1200] # 5%, 10% and 30%\n",
        "\n",
        "# Initializing a dict to store scores\n",
        "scores2 = {}\n",
        "\n",
        "# Iterating over each data subset\n",
        "for data_subset in data_subsets_to_try:\n",
        "    # Creating a reference model for theft\n",
        "    model_stolen = KerasClassifier(\n",
        "        model=create_model(),\n",
        "        clip_values=(0, 1)\n",
        "        )\n",
        "\n",
        "    # Creating the \"neural net thief\" object\n",
        "    # to train with the current subset size\n",
        "    knockoffnets = KnockoffNets(\n",
        "        batch_size_fit=256,\n",
        "        batch_size_query=256,\n",
        "        nb_epochs=15,\n",
        "        nb_stolen=data_subset,\n",
        "        classifier=classifier_original\n",
        "    )\n",
        "\n",
        "    # Extracting a thieved classifier,\n",
        "    # using a subset of the stolen data\n",
        "    stolen_classifier2 = copycat_cnn.extract(\n",
        "        x=train_images_stolen[:data_subset],\n",
        "        y=train_labels_stolen[:data_subset],\n",
        "        thieved_classifier=model_stolen\n",
        "        )\n",
        "\n",
        "    # Calculating test metrics for the current stolen model\n",
        "    scores2[data_subset] = stolen_classifier2._model.evaluate(\n",
        "        x=test_images,\n",
        "        y=test_labels\n",
        "    )"
      ]
    },
    {
      "cell_type": "code",
      "execution_count": null,
      "metadata": {
        "id": "VCELQyTPkqLc",
        "colab": {
          "base_uri": "https://localhost:8080/",
          "height": 504
        },
        "outputId": "22fd0699-9214-4cd6-850a-0fdf60e97514"
      },
      "outputs": [
        {
          "output_type": "display_data",
          "data": {
            "text/plain": [
              "<Figure size 500x500 with 1 Axes>"
            ],
            "image/png": "[encoded data removed]"
          },
          "metadata": {}
        }
      ],
      "source": [
        "import matplotlib.pyplot as plt\n",
        "import matplotlib\n",
        "# Converting the dict values to a Python list\n",
        "score_values1 = list(scores1.values())\n",
        "\n",
        "# Creating a matplotlib figure\n",
        "fig = plt.figure(figsize=(5, 5))\n",
        "\n",
        "# Iterating over our data subsets, plotting the test loss for each\n",
        "for i in range(len(data_subsets_to_try)):\n",
        "    plt.bar(\n",
        "        x=str(data_subsets_to_try[i]),\n",
        "        height=score_values1[i][0]\n",
        "        )\n",
        "\n",
        "# Setting a title for the figure and showing it\n",
        "plt.title(label=\"Loss of the stolen classifiers based on the number of stolen samples for CopyCatCNN\")\n",
        "plt.xlabel(xlabel=\"Subset size\")\n",
        "plt.ylabel(ylabel=\"Test loss\")\n",
        "plt.show()"
      ]
    },
    {
      "cell_type": "code",
      "execution_count": null,
      "metadata": {
        "id": "W2Hiawhikxtq",
        "colab": {
          "base_uri": "https://localhost:8080/",
          "height": 504
        },
        "outputId": "1dfa2139-a399-41e7-923f-fbe6d55c4d33"
      },
      "outputs": [
        {
          "output_type": "display_data",
          "data": {
            "text/plain": [
              "<Figure size 500x500 with 1 Axes>"
            ],
            "image/png": "[encoded data removed]"
          },
          "metadata": {}
        }
      ],
      "source": [
        "import matplotlib.pyplot as plt\n",
        "import matplotlib\n",
        "# Converting the dict values to a Python list\n",
        "score_values2 = list(scores1.values())\n",
        "\n",
        "# Creating a matplotlib figure\n",
        "fig = plt.figure(figsize=(5, 5))\n",
        "\n",
        "# Iterating over our data subsets,\n",
        "# plotting the test loss for each\n",
        "for i in range(len(data_subsets_to_try)):\n",
        "    plt.bar(\n",
        "        x=str(data_subsets_to_try[i]),\n",
        "        height=score_values2[i][0]\n",
        "        )\n",
        "\n",
        "# Setting a title for the figure and showing it\n",
        "plt.title(label=\"Loss of the stolen classifiers based on the number of stolen samples for KnockOffNets\")\n",
        "plt.xlabel(xlabel=\"Subset size\")\n",
        "plt.ylabel(ylabel=\"Test loss\")\n",
        "plt.show()"
      ]
    },
    {
      "cell_type": "code",
      "execution_count": null,
      "metadata": {
        "id": "1yepuQsDk0qm",
        "colab": {
          "base_uri": "https://localhost:8080/",
          "height": 504
        },
        "outputId": "5c14a3fa-c936-4b66-f4cf-6d276275cdc2"
      },
      "outputs": [
        {
          "output_type": "display_data",
          "data": {
            "text/plain": [
              "<Figure size 500x500 with 1 Axes>"
            ],
            "image/png": "[encoded data removed]"
          },
          "metadata": {}
        }
      ],
      "source": [
        "# Creating a matplotlib figure\n",
        "fig = plt.figure(figsize=(5, 5))\n",
        "\n",
        "# Iterating over our data subsets,\n",
        "# plotting the test accuracy for each\n",
        "for i in range(len(data_subsets_to_try)):\n",
        "    plt.bar(\n",
        "        x=str(data_subsets_to_try[i]),\n",
        "        height=score_values1[i][1] * 100\n",
        "        )\n",
        "\n",
        "# Setting a title for the figure and showing it\n",
        "plt.title(label=\"Test accuracy of the stolen classifiers based on the number of stolen samples for CopyCatCNN\")\n",
        "plt.xlabel(xlabel=\"Subset size\")\n",
        "plt.ylabel(ylabel=\"Test accuracy\")\n",
        "plt.show()"
      ]
    },
    {
      "cell_type": "code",
      "execution_count": null,
      "metadata": {
        "id": "pTHW_BHuk16H",
        "colab": {
          "base_uri": "https://localhost:8080/",
          "height": 504
        },
        "outputId": "2ef27419-5f62-4e52-c1f5-26d4fd8af234"
      },
      "outputs": [
        {
          "output_type": "display_data",
          "data": {
            "text/plain": [
              "<Figure size 500x500 with 1 Axes>"
            ],
            "image/png": "[encoded data removed]"
          },
          "metadata": {}
        }
      ],
      "source": [
        "# Creating a matplotlib figure\n",
        "fig = plt.figure(figsize=(5, 5))\n",
        "\n",
        "# Iterating over our data subsets,plotting the test accuracy for each\n",
        "for i in range(len(data_subsets_to_try)):\n",
        "    plt.bar(\n",
        "        x=str(data_subsets_to_try[i]),\n",
        "        height=score_values2[i][1] * 100\n",
        "        )\n",
        "\n",
        "# Setting a title for the figure and showing it\n",
        "plt.title(label=\"Test accuracy of the stolen classifiers based on the number of stolen samples for KnockOffNets\")\n",
        "plt.xlabel(xlabel=\"Subset size\")\n",
        "plt.ylabel(ylabel=\"Test accuracy\")\n",
        "plt.show()"
      ]
    },
    {
      "cell_type": "code",
      "execution_count": null,
      "metadata": {
        "id": "GQZdqNAik6YE"
      },
      "outputs": [],
      "source": [
        "partial_x_train = train_images_stolen\n",
        "partial_y_train = train_labels_stolen\n",
        "partial_x_train = partial_x_train.reshape(-1,32*32*3)"
      ]
    },
    {
      "cell_type": "code",
      "execution_count": null,
      "metadata": {
        "id": "mS6hKirOk9P6"
      },
      "outputs": [],
      "source": [
        "#Remove this cell\n",
        "from keras.models import Sequential\n",
        "from keras.layers import Activation, Dense\n",
        "fen_eval_model = Sequential()\n",
        "fen_eval_model.add(Dense(1024, activation=\"relu\", input_shape=(32*32*3,)))\n",
        "fen_eval_model.add(Dense(10, activation=\"linear\"))\n",
        "\n",
        "fen_eval_model.compile(loss=\"categorical_crossentropy\", optimizer=\"adam\", metrics=[\"accuracy\"])\n"
      ]
    },
    {
      "cell_type": "code",
      "execution_count": null,
      "metadata": {
        "id": "9IxispBqmJ7t",
        "colab": {
          "base_uri": "https://localhost:8080/"
        },
        "outputId": "1471547e-15a7-411b-fd78-f20bf7f6f531"
      },
      "outputs": [
        {
          "output_type": "stream",
          "name": "stdout",
          "text": [
            "Train on 50000 samples\n",
            "Epoch 1/10\n",
            "50000/50000 [==============================] - 5s 106us/sample - loss: 11.1449 - accuracy: 0.1020\n",
            "Epoch 2/10\n",
            "50000/50000 [==============================] - 5s 93us/sample - loss: 11.2717 - accuracy: 0.1021\n",
            "Epoch 3/10\n",
            "50000/50000 [==============================] - 7s 131us/sample - loss: 11.2717 - accuracy: 0.1021\n",
            "Epoch 4/10\n",
            "50000/50000 [==============================] - 6s 111us/sample - loss: 11.2717 - accuracy: 0.1021\n",
            "Epoch 5/10\n",
            "50000/50000 [==============================] - 5s 102us/sample - loss: 11.2717 - accuracy: 0.1021\n",
            "Epoch 6/10\n",
            "50000/50000 [==============================] - 5s 107us/sample - loss: 11.2717 - accuracy: 0.1021\n",
            "Epoch 7/10\n",
            "50000/50000 [==============================] - 5s 95us/sample - loss: 11.2717 - accuracy: 0.1021\n",
            "Epoch 8/10\n",
            "50000/50000 [==============================] - 6s 110us/sample - loss: 11.2717 - accuracy: 0.1021\n",
            "Epoch 9/10\n",
            "50000/50000 [==============================] - 5s 93us/sample - loss: 11.2717 - accuracy: 0.1021\n",
            "Epoch 10/10\n",
            "50000/50000 [==============================] - 5s 92us/sample - loss: 11.2717 - accuracy: 0.1021\n"
          ]
        },
        {
          "output_type": "execute_result",
          "data": {
            "text/plain": [
              "<keras.callbacks.History at 0x7efb8478c130>"
            ]
          },
          "metadata": {},
          "execution_count": 29
        }
      ],
      "source": [
        "#Remove this cell\n",
        "fen_eval_model.fit(train_images.reshape(-1,32*32*3), train_labels, batch_size=32, epochs=10, verbose=1)"
      ]
    },
    {
      "cell_type": "code",
      "execution_count": null,
      "metadata": {
        "id": "utXckHNcl8o-"
      },
      "outputs": [],
      "source": [
        "def build_ganeval_model_flat():\n",
        "    K.clear_session()\n",
        "    model_url = \"https://tfhub.dev/deepmind/ganeval-cifar10-convnet/1\"\n",
        "    ganeval_module = hub.Module(model_url)\n",
        "\n",
        "    model = Sequential()\n",
        "    model.add(Reshape((32,32,3),input_shape=(32*32*3,)))\n",
        "    model.add(hub.KerasLayer(ganeval_module))\n",
        "    model.add(Activation('relu'))\n",
        "\n",
        "    model.compile(loss=\"categorical_crossentropy\", optimizer=\"SGD\", metrics=[\"accuracy\"])\n",
        "\n",
        "    return model"
      ]
    },
    {
      "cell_type": "code",
      "execution_count": null,
      "metadata": {
        "id": "I8lIoAI8mIO0",
        "colab": {
          "base_uri": "https://localhost:8080/"
        },
        "outputId": "65569acc-69bb-4f24-ee8f-7173a0b2f042"
      },
      "outputs": [
        {
          "output_type": "stream",
          "name": "stdout",
          "text": [
            "Model: \"sequential\"\n",
            "_________________________________________________________________\n",
            " Layer (type)                Output Shape              Param #   \n",
            "=================================================================\n",
            " reshape (Reshape)           (None, 32, 32, 3)         0         \n",
            "                                                                 \n",
            " keras_layer (KerasLayer)    (None, 10)                7796426   \n",
            "                                                                 \n",
            " activation (Activation)     (None, 10)                0         \n",
            "                                                                 \n",
            "=================================================================\n",
            "Total params: 7,796,426\n",
            "Trainable params: 0\n",
            "Non-trainable params: 7,796,426\n",
            "_________________________________________________________________\n"
          ]
        }
      ],
      "source": [
        "ge_flat_clf = build_ganeval_model_flat()\n",
        "\n",
        "# To display a summary of the model's architecture, including the layers and the number of parameters in each layer.\n",
        "ge_flat_clf.summary()"
      ]
    },
    {
      "cell_type": "code",
      "execution_count": null,
      "metadata": {
        "id": "r8CDHrssmQPA",
        "colab": {
          "base_uri": "https://localhost:8080/"
        },
        "outputId": "37c2bcbf-f699-4174-8c98-1079dd992409"
      },
      "outputs": [
        {
          "output_type": "execute_result",
          "data": {
            "text/plain": [
              "[0.26565913746667946, 0.99995655]"
            ]
          },
          "metadata": {},
          "execution_count": 33
        }
      ],
      "source": [
        "ge_flat_clf.evaluate(partial_x_train, partial_y_train)"
      ]
    },
    {
      "cell_type": "markdown",
      "source": [
        "# Functionally Equivalent Extraction"
      ],
      "metadata": {
        "id": "lcuAAO7S-iyD"
      }
    },
    {
      "cell_type": "markdown",
      "source": [
        "A learning-based attack exploiting the victim to supervise the training of an extracted model. Extracting a functionally-equivalent model whose predictions are identical to those of the victim model on all possible inputs."
      ],
      "metadata": {
        "id": "EWOqgaMcRH7l"
      }
    },
    {
      "cell_type": "code",
      "source": [
        "from art.attacks.extraction import FunctionallyEquivalentExtraction"
      ],
      "metadata": {
        "id": "ns6FYxe0-vNW"
      },
      "execution_count": null,
      "outputs": []
    },
    {
      "cell_type": "code",
      "source": [
        "model_url = \"https://tfhub.dev/deepmind/ganeval-cifar10-convnet/1\"\n",
        "hub_layer = hub.KerasLayer(model_url, input_shape=(32, 32, 3), trainable=False)\n",
        "\n",
        "model = tf.keras.Sequential([\n",
        "    tf.keras.layers.InputLayer([3072]),\n",
        "    tf.keras.layers.Reshape([32, 32, 3]),\n",
        "    hub_layer,\n",
        "    tf.keras.layers.Flatten(),\n",
        "    tf.keras.layers.Dense(10, activation='softmax')\n",
        "])\n",
        "\n",
        "model.compile(optimizer='adam',\n",
        "              loss='categorical_crossentropy',\n",
        "              metrics=['accuracy'])"
      ],
      "metadata": {
        "id": "-X6pW4NZ-h3X"
      },
      "execution_count": null,
      "outputs": []
    },
    {
      "cell_type": "code",
      "source": [
        "model.fit(train_images.reshape(-1,32*32*3), train_labels, epochs=15, batch_size=200, validation_split=0.1)"
      ],
      "metadata": {
        "colab": {
          "base_uri": "https://localhost:8080/"
        },
        "id": "queMuMNr-2tT",
        "outputId": "1b51c585-6660-4dec-93d6-ade077e45aea"
      },
      "execution_count": null,
      "outputs": [
        {
          "output_type": "stream",
          "name": "stdout",
          "text": [
            "Train on 45000 samples, validate on 5000 samples\n",
            "Epoch 1/15\n",
            "45000/45000 [==============================] - 9s 208us/sample - loss: 0.0989 - accuracy: 0.9917 - val_loss: 0.0783 - val_accuracy: 0.9936\n",
            "Epoch 2/15\n",
            "45000/45000 [==============================] - 9s 207us/sample - loss: 0.0600 - accuracy: 0.9972 - val_loss: 0.0521 - val_accuracy: 0.9972\n",
            "Epoch 3/15\n",
            "45000/45000 [==============================] - 9s 209us/sample - loss: 0.0418 - accuracy: 0.9986 - val_loss: 0.0380 - val_accuracy: 0.9984\n",
            "Epoch 4/15\n",
            "45000/45000 [==============================] - 9s 209us/sample - loss: 0.0314 - accuracy: 0.9991 - val_loss: 0.0294 - val_accuracy: 0.9988\n",
            "Epoch 5/15\n",
            "45000/45000 [==============================] - 10s 213us/sample - loss: 0.0247 - accuracy: 0.9994 - val_loss: 0.0236 - val_accuracy: 0.9990\n",
            "Epoch 6/15\n",
            "45000/45000 [==============================] - 10s 219us/sample - loss: 0.0201 - accuracy: 0.9996 - val_loss: 0.0195 - val_accuracy: 0.9990\n",
            "Epoch 7/15\n",
            "45000/45000 [==============================] - 10s 214us/sample - loss: 0.0167 - accuracy: 0.9997 - val_loss: 0.0164 - val_accuracy: 0.9992\n",
            "Epoch 8/15\n",
            "45000/45000 [==============================] - 10s 214us/sample - loss: 0.0142 - accuracy: 0.9997 - val_loss: 0.0140 - val_accuracy: 0.9992\n",
            "Epoch 9/15\n",
            "45000/45000 [==============================] - 10s 214us/sample - loss: 0.0122 - accuracy: 0.9998 - val_loss: 0.0121 - val_accuracy: 0.9994\n",
            "Epoch 10/15\n",
            "45000/45000 [==============================] - 10s 213us/sample - loss: 0.0106 - accuracy: 0.9998 - val_loss: 0.0105 - val_accuracy: 0.9994\n",
            "Epoch 11/15\n",
            "45000/45000 [==============================] - 10s 211us/sample - loss: 0.0092 - accuracy: 0.9998 - val_loss: 0.0093 - val_accuracy: 0.9996\n",
            "Epoch 12/15\n",
            "45000/45000 [==============================] - 10s 212us/sample - loss: 0.0082 - accuracy: 0.9999 - val_loss: 0.0082 - val_accuracy: 0.9996\n",
            "Epoch 13/15\n",
            "45000/45000 [==============================] - 10s 213us/sample - loss: 0.0072 - accuracy: 0.9999 - val_loss: 0.0073 - val_accuracy: 0.9996\n",
            "Epoch 14/15\n",
            "45000/45000 [==============================] - 10s 213us/sample - loss: 0.0064 - accuracy: 0.9999 - val_loss: 0.0065 - val_accuracy: 0.9998\n",
            "Epoch 15/15\n",
            "45000/45000 [==============================] - 10s 214us/sample - loss: 0.0058 - accuracy: 0.9999 - val_loss: 0.0059 - val_accuracy: 1.0000\n"
          ]
        },
        {
          "output_type": "execute_result",
          "data": {
            "text/plain": [
              "<keras.callbacks.History at 0x7efb77627400>"
            ]
          },
          "metadata": {},
          "execution_count": 45
        }
      ]
    },
    {
      "cell_type": "code",
      "source": [
        "# Creating a matplotlib figure\n",
        "fig = plt.figure(figsize=(5, 5))\n",
        "\n",
        "# Iterating over our data subsets,plotting the test accuracy for each\n",
        "for i in range(len(data_subsets_to_try)):\n",
        "    plt.bar(\n",
        "        x=str(data_subsets_to_try[i]),\n",
        "        height=score_values2[i][1] * 100\n",
        "        )\n",
        "\n",
        "# Setting a title for the figure and showing it\n",
        "plt.title(label=\"Accuracy of the stolen classifiers based on the number of stolen samples for Functionally Equivalent Extraction\")\n",
        "plt.xlabel(xlabel=\"Subset size\")\n",
        "plt.ylabel(ylabel=\"Test accuracy\")\n",
        "plt.show()"
      ],
      "metadata": {
        "colab": {
          "base_uri": "https://localhost:8080/",
          "height": 471
        },
        "id": "KrzjNUF6ANSf",
        "outputId": "dd98ca6d-2f2a-4d87-eafc-711d80facd52"
      },
      "execution_count": null,
      "outputs": [
        {
          "output_type": "display_data",
          "data": {
            "text/plain": [
              "<Figure size 500x500 with 1 Axes>"
            ],
            "image/png": "[encoded data removed]"
          },
          "metadata": {}
        }
      ]
    }
  ],
  "metadata": {
    "colab": {
      "provenance": []
    },
    "kernelspec": {
      "display_name": "Python 3",
      "name": "python3"
    },
    "language_info": {
      "name": "python"
    },
    "accelerator": "GPU",
    "gpuClass": "standard"
  },
  "nbformat": 4,
  "nbformat_minor": 0
}