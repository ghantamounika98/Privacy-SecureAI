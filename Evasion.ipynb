{
  "cells": [
    {
      "cell_type": "markdown",
      "metadata": {
        "id": "Q3W31bZhqItp"
      },
      "source": [
        "# Evading SVMs\n",
        "\n",
        "In this section we will be training an SVM (support vector machine) to distinguish between the digits 0 and 1. The data is coming from the MNIST dataset which contains handwritten digits. We will be using `scikit-learn` to train our SVM."
      ]
    },
    {
      "cell_type": "markdown",
      "metadata": {
        "id": "hPC8dzH8qItq"
      },
      "source": [
        "First let's start out by importing a few essentials."
      ]
    },
    {
      "cell_type": "code",
      "execution_count": null,
      "metadata": {
        "id": "s97020IAqIts"
      },
      "outputs": [],
      "source": [
        "from sklearn import svm\n",
        "import numpy as np\n",
        "import os\n",
        "import matplotlib.pyplot as plt\n",
        "from keras.datasets import mnist"
      ]
    },
    {
      "cell_type": "markdown",
      "metadata": {
        "id": "XPnHl_60qItv"
      },
      "source": [
        "Since we are only interested in the 1s and 0s in the data, we will need to pick those out. Since we need to this for both the test and training data, let's write a function for it.\n",
        "\n",
        "This function does a few other things as well.\n",
        "- It normalizes the data, bringing it into the interval [0,1]\n",
        "- It is also only using part of the data to make things a bit faster\n",
        "- It also reshapes the data so we can use it with SVMs"
      ]
    },
    {
      "cell_type": "code",
      "execution_count": null,
      "metadata": {
        "id": "d6hPg5bgqItw"
      },
      "outputs": [],
      "source": [
        "def exract_ones_and_zeroes(data, labels, number):\n",
        "    # select data with label 0/1 (Tip: use np.argwhere() function)\n",
        "    data_zeroes = ...\n",
        "    data_ones = ...\n",
        "\n",
        "    x = np.vstack(...)\n",
        "\n",
        "    # Normalization\n",
        "    x = x.reshape(x.shape[0], -1) / 255.0\n",
        "    # data_zeroes = data_zeroes.reshape(data_zeroes.shape[0], -1) / 255.0\n",
        "    # data_ones = data_ones.reshape(data_ones.shape[0], -1) / 255.0\n",
        "    # x = np.vstack((data_zeroes,data_ones))\n",
        "\n",
        "    print(x.shape)\n",
        "\n",
        "    # prepare labels\n",
        "    labels_zeroes = ...\n",
        "    labels_ones = ...\n",
        "    y = np.append(...)\n",
        "\n",
        "    return x, y"
      ]
    },
    {
      "cell_type": "markdown",
      "metadata": {
        "id": "FNvfSI-4qItz"
      },
      "source": [
        "Next we need to load the data and spilt it into training and testing sets."
      ]
    },
    {
      "cell_type": "code",
      "execution_count": null,
      "metadata": {
        "id": "wRUe9zjoqIt0",
        "outputId": "9a36f1fa-daa1-4ba9-92fc-470a26f01b55",
        "colab": {
          "base_uri": "https://localhost:8080/"
        }
      },
      "outputs": [
        {
          "output_type": "stream",
          "name": "stdout",
          "text": [
            "(200, 784)\n",
            "(20, 784)\n"
          ]
        }
      ],
      "source": [
        "from keras.datasets import mnist\n",
        "(x_train, y_train), (x_test, y_test) = mnist.load_data()\n",
        "\n",
        "# extract ones and zeroes\n",
        "x_train, y_train = ...\n",
        "x_test, y_test = ..."
      ]
    },
    {
      "cell_type": "markdown",
      "metadata": {
        "id": "F1rTmepbqIt4"
      },
      "source": [
        "We are going to define a SVM with a RBF (radial basis function) kernel and train it.\n",
        "Once training is done we are going to print the accuracy and show one of the images."
      ]
    },
    {
      "cell_type": "code",
      "execution_count": null,
      "metadata": {
        "id": "NBetnZElqIt5",
        "outputId": "ea414ccb-8297-4639-ac4f-bb3a4c7ac4b8",
        "colab": {
          "base_uri": "https://localhost:8080/"
        }
      },
      "outputs": [
        {
          "output_type": "stream",
          "name": "stdout",
          "text": [
            "accuracy on test set: 1.0\n"
          ]
        }
      ],
      "source": [
        "# Use SVM to train and test data\n",
        "clf = svm.SVC(...)\n",
        "clf.fit( ...)\n",
        "print( 'accuracy on test set:', ...)"
      ]
    },
    {
      "cell_type": "markdown",
      "metadata": {
        "id": "5nr7TEcbqIt9"
      },
      "source": [
        "To evade the classifier, we first pick a sample that we want to change. After that we need to retrieve some of the parameters of the SVM which we will need to calculate the gradients."
      ]
    },
    {
      "cell_type": "code",
      "execution_count": null,
      "metadata": {
        "id": "CJejqaOmqIt-",
        "outputId": "577339c6-dc54-46ce-b729-889ccd187ee6",
        "colab": {
          "base_uri": "https://localhost:8080/",
          "height": 248
        }
      },
      "outputs": [
        {
          "output_type": "display_data",
          "data": {
            "text/plain": [
              "<Figure size 432x288 with 1 Axes>"
            ],
            "image/png": "[encoded data removed]"
          },
          "metadata": {
            "needs_background": "light"
          }
        }
      ],
      "source": [
        "# choose a sample and then predict the sample's label\n",
        "plt.imshow( x_test[ 0 ].reshape( 28, 28 ), cmap=\"gray_r\" )\n",
        "plt.axis( 'off' )\n",
        "plt.show( )"
      ]
    },
    {
      "cell_type": "code",
      "source": [
        "sample = x_test[11]\n",
        "print( 'class prediction for the test samples:', clf.predict( [ sample ] ) )"
      ],
      "metadata": {
        "colab": {
          "base_uri": "https://localhost:8080/"
        },
        "id": "YH0TwXxHHb4M",
        "outputId": "61c3d12b-e19f-4ae5-9930-22e5bd73f0e4"
      },
      "execution_count": null,
      "outputs": [
        {
          "output_type": "stream",
          "name": "stdout",
          "text": [
            "class prediction for the test samples: [1.]\n"
          ]
        }
      ]
    },
    {
      "cell_type": "markdown",
      "metadata": {
        "id": "4J0c-T80qIuK"
      },
      "source": [
        "Now that we have the internal parameters we can calcuate the gradients of the SVM and apply the modifications to our selected sample."
      ]
    },
    {
      "cell_type": "code",
      "execution_count": null,
      "metadata": {
        "id": "1pMAohmqqIuL"
      },
      "outputs": [],
      "source": [
        "# Retrieve the internal parameters from the SVM\n",
        "alpha = clf.dual_coef_\n",
        "svs = clf.support_vectors_\n",
        "nsv = svs.shape[ 0 ]\n",
        "b = clf.intercept_\n",
        "\n",
        "# lambda, strength of the modification\n",
        "lmbd = 10.6\n",
        "\n",
        "# the sample we modify\n",
        "mod_sample = sample[ : ]\n",
        "\n",
        "# Compute the kernel row matrix and kernel gradients for xc\n",
        "kgrad = np.empty( svs.shape )\n",
        "\n",
        "# do multiple update rounds\n",
        "for n in range(1):\n",
        "    # for all support vectors\n",
        "    for i in range( nsv ):\n",
        "        sv = ... # select each support vector x_i\n",
        "        k = ... # Compute the kernel gradient for x_i\n",
        "        kgrad[ i, : ] = ...\n",
        "    grad = ...\n",
        "    # modify the sample use the gradient\n",
        "    mod_sample = np.clip( ... )\n",
        "\n",
        "mod_sample = np.clip( mod_sample, 0., 1.)\n",
        "\n",
        "print( 'class prediction for the original sample:', ...)\n",
        "print( 'class prediction for the modified sample:', ...)\n",
        "print( 'original sample:')\n",
        "plt.imshow( sample.reshape( 28, 28 ), cmap=\"gray_r\" )\n",
        "plt.show( )\n",
        "print( 'modified sample:')\n",
        "plt.imshow( mod_sample.reshape( 28, 28 ), cmap=\"gray_r\" )\n",
        "plt.show( )\n",
        "\n",
        "\n",
        "print( 'difference between the two samples:')\n",
        "plt.imshow( np.abs(sample-mod_sample).reshape( 28, 28 ), cmap=\"gray_r\" )\n",
        "plt.show( )"
      ]
    }
  ],
  "metadata": {
    "colab": {
      "provenance": []
    },
    "kernelspec": {
      "display_name": "Python 3",
      "language": "python",
      "name": "python3"
    },
    "language_info": {
      "codemirror_mode": {
        "name": "ipython",
        "version": 3
      },
      "file_extension": ".py",
      "mimetype": "text/x-python",
      "name": "python",
      "nbconvert_exporter": "python",
      "pygments_lexer": "ipython3",
      "version": "3.6.4"
    },
    "accelerator": "GPU",
    "gpuClass": "standard"
  },
  "nbformat": 4,
  "nbformat_minor": 0
}