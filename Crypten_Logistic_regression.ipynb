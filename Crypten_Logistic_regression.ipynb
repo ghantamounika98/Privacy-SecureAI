{
  "cells": [
    {
      "cell_type": "markdown",
      "metadata": {
        "id": "WjnQYUbDU6PN"
      },
      "source": [
        "# Training a Model on Encrypted Data"
      ]
    },
    {
      "cell_type": "code",
      "source": [
        "!pip install crypten"
      ],
      "metadata": {
        "id": "aK8TpVfuVGpa",
        "outputId": "8b427141-159a-45a1-d803-eac350586dca",
        "colab": {
          "base_uri": "https://localhost:8080/"
        }
      },
      "execution_count": null,
      "outputs": [
        {
          "output_type": "stream",
          "name": "stdout",
          "text": [
            "Looking in indexes: https://pypi.org/simple, https://us-python.pkg.dev/colab-wheels/public/simple/\n",
            "Collecting crypten\n",
            "  Downloading crypten-0.4.1-py3-none-any.whl (259 kB)\n",
            "\u001b[2K     \u001b[90m━━━━━━━━━━━━━━━━━━━━━━━━━━━━━━━━━━━━━━\u001b[0m \u001b[32m259.9/259.9 KB\u001b[0m \u001b[31m10.6 MB/s\u001b[0m eta \u001b[36m0:00:00\u001b[0m\n",
            "\u001b[?25hRequirement already satisfied: torch>=1.7.0 in /usr/local/lib/python3.8/dist-packages (from crypten) (1.13.1+cu116)\n",
            "Requirement already satisfied: future in /usr/local/lib/python3.8/dist-packages (from crypten) (0.16.0)\n",
            "Collecting onnx>=1.7.0\n",
            "  Downloading onnx-1.13.1-cp38-cp38-manylinux_2_17_x86_64.manylinux2014_x86_64.whl (13.5 MB)\n",
            "\u001b[2K     \u001b[90m━━━━━━━━━━━━━━━━━━━━━━━━━━━━━━━━━━━━━━━━\u001b[0m \u001b[32m13.5/13.5 MB\u001b[0m \u001b[31m63.2 MB/s\u001b[0m eta \u001b[36m0:00:00\u001b[0m\n",
            "\u001b[?25hCollecting omegaconf>=2.0.6\n",
            "  Downloading omegaconf-2.3.0-py3-none-any.whl (79 kB)\n",
            "\u001b[2K     \u001b[90m━━━━━━━━━━━━━━━━━━━━━━━━━━━━━━━━━━━━━━━━\u001b[0m \u001b[32m79.5/79.5 KB\u001b[0m \u001b[31m5.9 MB/s\u001b[0m eta \u001b[36m0:00:00\u001b[0m\n",
            "\u001b[?25hRequirement already satisfied: pandas>=1.2.2 in /usr/local/lib/python3.8/dist-packages (from crypten) (1.3.5)\n",
            "Requirement already satisfied: tensorboard in /usr/local/lib/python3.8/dist-packages (from crypten) (2.11.2)\n",
            "Collecting sklearn\n",
            "  Downloading sklearn-0.0.post1.tar.gz (3.6 kB)\n",
            "  Preparing metadata (setup.py) ... \u001b[?25l\u001b[?25hdone\n",
            "Requirement already satisfied: torchvision>=0.9.1 in /usr/local/lib/python3.8/dist-packages (from crypten) (0.14.1+cu116)\n",
            "Requirement already satisfied: pyyaml>=5.3.1 in /usr/local/lib/python3.8/dist-packages (from crypten) (6.0)\n",
            "Requirement already satisfied: scipy>=1.6.0 in /usr/local/lib/python3.8/dist-packages (from crypten) (1.7.3)\n",
            "Collecting antlr4-python3-runtime==4.9.*\n",
            "  Downloading antlr4-python3-runtime-4.9.3.tar.gz (117 kB)\n",
            "\u001b[2K     \u001b[90m━━━━━━━━━━━━━━━━━━━━━━━━━━━━━━━━━━━━━━━\u001b[0m \u001b[32m117.0/117.0 KB\u001b[0m \u001b[31m7.2 MB/s\u001b[0m eta \u001b[36m0:00:00\u001b[0m\n",
            "\u001b[?25h  Preparing metadata (setup.py) ... \u001b[?25l\u001b[?25hdone\n",
            "Requirement already satisfied: numpy>=1.16.6 in /usr/local/lib/python3.8/dist-packages (from onnx>=1.7.0->crypten) (1.22.4)\n",
            "Collecting protobuf<4,>=3.20.2\n",
            "  Downloading protobuf-3.20.3-cp38-cp38-manylinux_2_5_x86_64.manylinux1_x86_64.whl (1.0 MB)\n",
            "\u001b[2K     \u001b[90m━━━━━━━━━━━━━━━━━━━━━━━━━━━━━━━━━━━━━━━━\u001b[0m \u001b[32m1.0/1.0 MB\u001b[0m \u001b[31m14.0 MB/s\u001b[0m eta \u001b[36m0:00:00\u001b[0m\n",
            "\u001b[?25hRequirement already satisfied: typing-extensions>=3.6.2.1 in /usr/local/lib/python3.8/dist-packages (from onnx>=1.7.0->crypten) (4.5.0)\n",
            "Requirement already satisfied: pytz>=2017.3 in /usr/local/lib/python3.8/dist-packages (from pandas>=1.2.2->crypten) (2022.7.1)\n",
            "Requirement already satisfied: python-dateutil>=2.7.3 in /usr/local/lib/python3.8/dist-packages (from pandas>=1.2.2->crypten) (2.8.2)\n",
            "Requirement already satisfied: requests in /usr/local/lib/python3.8/dist-packages (from torchvision>=0.9.1->crypten) (2.25.1)\n",
            "Requirement already satisfied: pillow!=8.3.*,>=5.3.0 in /usr/local/lib/python3.8/dist-packages (from torchvision>=0.9.1->crypten) (7.1.2)\n",
            "Requirement already satisfied: tensorboard-data-server<0.7.0,>=0.6.0 in /usr/local/lib/python3.8/dist-packages (from tensorboard->crypten) (0.6.1)\n",
            "Requirement already satisfied: google-auth<3,>=1.6.3 in /usr/local/lib/python3.8/dist-packages (from tensorboard->crypten) (2.16.1)\n",
            "Requirement already satisfied: setuptools>=41.0.0 in /usr/local/lib/python3.8/dist-packages (from tensorboard->crypten) (57.4.0)\n",
            "Requirement already satisfied: werkzeug>=1.0.1 in /usr/local/lib/python3.8/dist-packages (from tensorboard->crypten) (1.0.1)\n",
            "Requirement already satisfied: grpcio>=1.24.3 in /usr/local/lib/python3.8/dist-packages (from tensorboard->crypten) (1.51.1)\n",
            "Requirement already satisfied: tensorboard-plugin-wit>=1.6.0 in /usr/local/lib/python3.8/dist-packages (from tensorboard->crypten) (1.8.1)\n",
            "Requirement already satisfied: google-auth-oauthlib<0.5,>=0.4.1 in /usr/local/lib/python3.8/dist-packages (from tensorboard->crypten) (0.4.6)\n",
            "Requirement already satisfied: wheel>=0.26 in /usr/local/lib/python3.8/dist-packages (from tensorboard->crypten) (0.38.4)\n",
            "Requirement already satisfied: absl-py>=0.4 in /usr/local/lib/python3.8/dist-packages (from tensorboard->crypten) (1.4.0)\n",
            "Requirement already satisfied: markdown>=2.6.8 in /usr/local/lib/python3.8/dist-packages (from tensorboard->crypten) (3.4.1)\n",
            "Requirement already satisfied: pyasn1-modules>=0.2.1 in /usr/local/lib/python3.8/dist-packages (from google-auth<3,>=1.6.3->tensorboard->crypten) (0.2.8)\n",
            "Requirement already satisfied: rsa<5,>=3.1.4 in /usr/local/lib/python3.8/dist-packages (from google-auth<3,>=1.6.3->tensorboard->crypten) (4.9)\n",
            "Requirement already satisfied: cachetools<6.0,>=2.0.0 in /usr/local/lib/python3.8/dist-packages (from google-auth<3,>=1.6.3->tensorboard->crypten) (5.3.0)\n",
            "Requirement already satisfied: six>=1.9.0 in /usr/local/lib/python3.8/dist-packages (from google-auth<3,>=1.6.3->tensorboard->crypten) (1.15.0)\n",
            "Requirement already satisfied: requests-oauthlib>=0.7.0 in /usr/local/lib/python3.8/dist-packages (from google-auth-oauthlib<0.5,>=0.4.1->tensorboard->crypten) (1.3.1)\n",
            "Requirement already satisfied: importlib-metadata>=4.4 in /usr/local/lib/python3.8/dist-packages (from markdown>=2.6.8->tensorboard->crypten) (6.0.0)\n",
            "Requirement already satisfied: idna<3,>=2.5 in /usr/local/lib/python3.8/dist-packages (from requests->torchvision>=0.9.1->crypten) (2.10)\n",
            "Requirement already satisfied: urllib3<1.27,>=1.21.1 in /usr/local/lib/python3.8/dist-packages (from requests->torchvision>=0.9.1->crypten) (1.24.3)\n",
            "Requirement already satisfied: certifi>=2017.4.17 in /usr/local/lib/python3.8/dist-packages (from requests->torchvision>=0.9.1->crypten) (2022.12.7)\n",
            "Requirement already satisfied: chardet<5,>=3.0.2 in /usr/local/lib/python3.8/dist-packages (from requests->torchvision>=0.9.1->crypten) (4.0.0)\n",
            "Requirement already satisfied: zipp>=0.5 in /usr/local/lib/python3.8/dist-packages (from importlib-metadata>=4.4->markdown>=2.6.8->tensorboard->crypten) (3.14.0)\n",
            "Requirement already satisfied: pyasn1<0.5.0,>=0.4.6 in /usr/local/lib/python3.8/dist-packages (from pyasn1-modules>=0.2.1->google-auth<3,>=1.6.3->tensorboard->crypten) (0.4.8)\n",
            "Requirement already satisfied: oauthlib>=3.0.0 in /usr/local/lib/python3.8/dist-packages (from requests-oauthlib>=0.7.0->google-auth-oauthlib<0.5,>=0.4.1->tensorboard->crypten) (3.2.2)\n",
            "Building wheels for collected packages: antlr4-python3-runtime, sklearn\n",
            "  Building wheel for antlr4-python3-runtime (setup.py) ... \u001b[?25l\u001b[?25hdone\n",
            "  Created wheel for antlr4-python3-runtime: filename=antlr4_python3_runtime-4.9.3-py3-none-any.whl size=144575 sha256=15ec4d45a761cddad94e5442065f92baf552f41fd984c4cda9df8512036d33ab\n",
            "  Stored in directory: /root/.cache/pip/wheels/b1/a3/c2/6df046c09459b73cc9bb6c4401b0be6c47048baf9a1617c485\n",
            "  Building wheel for sklearn (setup.py) ... \u001b[?25l\u001b[?25hdone\n",
            "  Created wheel for sklearn: filename=sklearn-0.0.post1-py3-none-any.whl size=2344 sha256=0e74b07ecee1eb90526209bad6e5014e48d88cb972331576287607419f95e58e\n",
            "  Stored in directory: /root/.cache/pip/wheels/14/25/f7/1cc0956978ae479e75140219088deb7a36f60459df242b1a72\n",
            "Successfully built antlr4-python3-runtime sklearn\n",
            "Installing collected packages: sklearn, antlr4-python3-runtime, protobuf, omegaconf, onnx, crypten\n",
            "  Attempting uninstall: protobuf\n",
            "    Found existing installation: protobuf 3.19.6\n",
            "    Uninstalling protobuf-3.19.6:\n",
            "      Successfully uninstalled protobuf-3.19.6\n",
            "\u001b[31mERROR: pip's dependency resolver does not currently take into account all the packages that are installed. This behaviour is the source of the following dependency conflicts.\n",
            "tensorflow 2.11.0 requires protobuf<3.20,>=3.9.2, but you have protobuf 3.20.3 which is incompatible.\u001b[0m\u001b[31m\n",
            "\u001b[0mSuccessfully installed antlr4-python3-runtime-4.9.3 crypten-0.4.1 omegaconf-2.3.0 onnx-1.13.1 protobuf-3.20.3 sklearn-0.0.post1\n"
          ]
        }
      ]
    },
    {
      "cell_type": "code",
      "source": [
        "!git clone https://github.com/facebookresearch/CrypTen"
      ],
      "metadata": {
        "colab": {
          "base_uri": "https://localhost:8080/"
        },
        "id": "g0DZHtOCsnlQ",
        "outputId": "a64b388e-b08e-4b52-eb69-fd1ca96b3d8e"
      },
      "execution_count": null,
      "outputs": [
        {
          "output_type": "stream",
          "name": "stdout",
          "text": [
            "Cloning into 'CrypTen'...\n",
            "remote: Enumerating objects: 3178, done.\u001b[K\n",
            "remote: Counting objects: 100% (1041/1041), done.\u001b[K\n",
            "remote: Compressing objects: 100% (151/151), done.\u001b[K\n",
            "remote: Total 3178 (delta 950), reused 899 (delta 888), pack-reused 2137\u001b[K\n",
            "Receiving objects: 100% (3178/3178), 14.21 MiB | 20.21 MiB/s, done.\n",
            "Resolving deltas: 100% (2285/2285), done.\n"
          ]
        }
      ]
    },
    {
      "cell_type": "code",
      "execution_count": null,
      "metadata": {
        "id": "kgk5J4hrU6PP"
      },
      "outputs": [],
      "source": [
        "import sys\n",
        "import torch\n",
        "import torchvision\n",
        "import matplotlib.pyplot as plt\n",
        "\n",
        "\n",
        "#python 3.7 is required\n",
        "#assert sys.version_info[0] == 3 and sys.version_info[1] == 7, \"python 3.7 is required\"\n",
        "\n",
        "import crypten\n",
        "crypten.init()\n",
        "\n",
        "%matplotlib inline"
      ]
    },
    {
      "cell_type": "markdown",
      "metadata": {
        "id": "LaaM2-OaU6PQ"
      },
      "source": [
        "## MNIST"
      ]
    },
    {
      "cell_type": "code",
      "execution_count": null,
      "metadata": {
        "id": "OMUJ9pgLU6PR",
        "outputId": "7e4f12d0-1d99-423c-c471-a8c56e1116a2",
        "colab": {
          "base_uri": "https://localhost:8080/",
          "height": 431,
          "referenced_widgets": [
            "c31c2c89a7ff4be3a9baf3bb2da3ba12",
            "0cb67d6427f34998889ad0db14de5fe4",
            "0b3195cf94584684981a59caae02b10e",
            "8d3c0769479d421886418626b539307c",
            "ffde61b7acf34702a933e495f06fc1e8",
            "4fce4f1b532a47269957f53d4837b363",
            "8ea3464cefd24ab2b7747c160cd0a942",
            "b41938543f2c46f19e005f435bf7d072",
            "cb42c03d1a6f459ea8d1e6ac0ef02156",
            "3278b75d9abd49429f51707f3550c0c7",
            "ff760378f58640d497734c7926ebd165",
            "e17219b73bc84f41b01ce86717250a37",
            "9a421e3552d748478c824bab82c9139d",
            "ff5055083e3b48fb85aa34e936e38004",
            "e588d66bf497472e801957342479fabd",
            "2f7386413b7840668a30d6a51c63e936",
            "89314bd73fe44ae7b0ee005163749f03",
            "0a5b8ef57f3841678b070386d7377c3c",
            "54343f2d7c394c03a660d289fc29c00a",
            "ec5be17db16a46f491a2ecc99b151a91",
            "46bf8cfae6bf42f6855aa546a4ae3dfe",
            "f07c9e2ae5b84f13b728e4e8ea5cf796",
            "3f285a62cd45453b9882f18ec802de15",
            "fb0407ce10ef4dae91ee89d9bf3d004a",
            "bea5486edda744b3bc0f60ac3f59d8e1",
            "48df08c5a941413c94e1e32d607529b2",
            "129195ebadd4404db79e91d43f7d47a4",
            "6dcc5b22833a415f8561097d20229392",
            "3a8238d8ae804cd18bdffd76611d0e58",
            "ef8b10a31e574f3089b8dccdceda60af",
            "d91ef394236c4670967131e55234ab87",
            "f44047dd8112452f9bfb697c0ed67bd4",
            "21f693ad36224a758024c4a9344b5947",
            "6257ba782c8f4b24aa943c39e2958a22",
            "3e3bbfc158574d4e9a0838fc26045f9c",
            "40398d03bf20475d86f44f5e8cae3f8a",
            "278870fd20f8408baf904b161712ab48",
            "b8f28f1ce9ca439a899f7adcf254c564",
            "993d5ff26e284277807dc078932e9133",
            "2f26a807799b45bcac871ee1d3fcbfc4",
            "2282a3dcac0040bfa83fcdae2a1089d8",
            "039a1d7282a24324ac39cf5f5e9fb49c",
            "5dac3498d24c49bdaa7e8ab29a021dab",
            "1566bdd7fea24714a6044b63105a1831"
          ]
        }
      },
      "outputs": [
        {
          "output_type": "stream",
          "name": "stdout",
          "text": [
            "Downloading http://yann.lecun.com/exdb/mnist/train-images-idx3-ubyte.gz\n",
            "Downloading http://yann.lecun.com/exdb/mnist/train-images-idx3-ubyte.gz to /tmp/data/MNIST/raw/train-images-idx3-ubyte.gz\n"
          ]
        },
        {
          "output_type": "display_data",
          "data": {
            "text/plain": [
              "  0%|          | 0/9912422 [00:00<?, ?it/s]"
            ],
            "application/vnd.jupyter.widget-view+json": {
              "version_major": 2,
              "version_minor": 0,
              "model_id": "c31c2c89a7ff4be3a9baf3bb2da3ba12"
            }
          },
          "metadata": {}
        },
        {
          "output_type": "stream",
          "name": "stdout",
          "text": [
            "Extracting /tmp/data/MNIST/raw/train-images-idx3-ubyte.gz to /tmp/data/MNIST/raw\n",
            "\n",
            "Downloading http://yann.lecun.com/exdb/mnist/train-labels-idx1-ubyte.gz\n",
            "Downloading http://yann.lecun.com/exdb/mnist/train-labels-idx1-ubyte.gz to /tmp/data/MNIST/raw/train-labels-idx1-ubyte.gz\n"
          ]
        },
        {
          "output_type": "display_data",
          "data": {
            "text/plain": [
              "  0%|          | 0/28881 [00:00<?, ?it/s]"
            ],
            "application/vnd.jupyter.widget-view+json": {
              "version_major": 2,
              "version_minor": 0,
              "model_id": "e17219b73bc84f41b01ce86717250a37"
            }
          },
          "metadata": {}
        },
        {
          "output_type": "stream",
          "name": "stdout",
          "text": [
            "Extracting /tmp/data/MNIST/raw/train-labels-idx1-ubyte.gz to /tmp/data/MNIST/raw\n",
            "\n",
            "Downloading http://yann.lecun.com/exdb/mnist/t10k-images-idx3-ubyte.gz\n",
            "Downloading http://yann.lecun.com/exdb/mnist/t10k-images-idx3-ubyte.gz to /tmp/data/MNIST/raw/t10k-images-idx3-ubyte.gz\n"
          ]
        },
        {
          "output_type": "display_data",
          "data": {
            "text/plain": [
              "  0%|          | 0/1648877 [00:00<?, ?it/s]"
            ],
            "application/vnd.jupyter.widget-view+json": {
              "version_major": 2,
              "version_minor": 0,
              "model_id": "3f285a62cd45453b9882f18ec802de15"
            }
          },
          "metadata": {}
        },
        {
          "output_type": "stream",
          "name": "stdout",
          "text": [
            "Extracting /tmp/data/MNIST/raw/t10k-images-idx3-ubyte.gz to /tmp/data/MNIST/raw\n",
            "\n",
            "Downloading http://yann.lecun.com/exdb/mnist/t10k-labels-idx1-ubyte.gz\n",
            "Downloading http://yann.lecun.com/exdb/mnist/t10k-labels-idx1-ubyte.gz to /tmp/data/MNIST/raw/t10k-labels-idx1-ubyte.gz\n"
          ]
        },
        {
          "output_type": "display_data",
          "data": {
            "text/plain": [
              "  0%|          | 0/4542 [00:00<?, ?it/s]"
            ],
            "application/vnd.jupyter.widget-view+json": {
              "version_major": 2,
              "version_minor": 0,
              "model_id": "6257ba782c8f4b24aa943c39e2958a22"
            }
          },
          "metadata": {}
        },
        {
          "output_type": "stream",
          "name": "stdout",
          "text": [
            "Extracting /tmp/data/MNIST/raw/t10k-labels-idx1-ubyte.gz to /tmp/data/MNIST/raw\n",
            "\n"
          ]
        }
      ],
      "source": [
        "digits = torchvision.datasets.MNIST(root='/tmp/data',train=True,transform=torchvision.transforms.ToTensor(),\n",
        "                                    download=True)\n",
        "\n",
        "digits_test = torchvision.datasets.MNIST(root='/tmp/data',train=True,transform=torchvision.transforms.ToTensor(),\n",
        "                                    download=True)"
      ]
    },
    {
      "cell_type": "code",
      "execution_count": null,
      "metadata": {
        "id": "W-1M91KXU6PR",
        "colab": {
          "base_uri": "https://localhost:8080/",
          "height": 283
        },
        "outputId": "7c4fd20c-e526-41c0-d960-8ea5e5547bdb"
      },
      "outputs": [
        {
          "output_type": "stream",
          "name": "stdout",
          "text": [
            "label for image is  5\n"
          ]
        },
        {
          "output_type": "display_data",
          "data": {
            "text/plain": [
              "<Figure size 432x288 with 1 Axes>"
            ],
            "image/png": "[encoded data removed]"
          },
          "metadata": {
            "needs_background": "light"
          }
        }
      ],
      "source": [
        "plt.imshow(digits[0][0][0], cmap='gray', interpolation='none')\n",
        "print(\"label for image is \",digits[0][1])"
      ]
    },
    {
      "cell_type": "markdown",
      "metadata": {
        "id": "io-8UjFfU6PS"
      },
      "source": [
        "## Preprocess Into Tensors"
      ]
    },
    {
      "cell_type": "code",
      "execution_count": null,
      "metadata": {
        "id": "sggR-ytBU6PS"
      },
      "outputs": [],
      "source": [
        "def take_samples(digits, n_samples=1000):\n",
        "    \"\"\"Returns images and labels based on sample size\"\"\"\n",
        "    images, labels = [], []\n",
        "\n",
        "    for i, digit in enumerate(digits):\n",
        "        if i == n_samples:\n",
        "            break\n",
        "        # Prepare samples\n",
        "        image, label = digit\n",
        "        images.append(image)\n",
        "        label_one_hot = torch.nn.functional.one_hot(torch.tensor(label),10)\n",
        "        labels.append(label_one_hot)\n",
        "    images = torch.cat(images)\n",
        "    labels = torch.stack(labels)\n",
        "    return images, labels\n",
        ""
      ]
    },
    {
      "cell_type": "code",
      "execution_count": null,
      "metadata": {
        "id": "f0jNV_mBU6PT"
      },
      "outputs": [],
      "source": [
        "# Prepare training samples using take_samples()\n",
        "images, labels = take_samples(digits,n_samples=1000)"
      ]
    },
    {
      "cell_type": "code",
      "source": [
        "# Prepare testing samples using take_samples()\n",
        "images_test, labels_test = take_samples(digits_test,n_samples=100)"
      ],
      "metadata": {
        "id": "E17Dz7J7EhGF"
      },
      "execution_count": null,
      "outputs": []
    },
    {
      "cell_type": "code",
      "execution_count": null,
      "metadata": {
        "id": "YxIOSSnnU6PU"
      },
      "outputs": [],
      "source": [
        "# Please encrypt the images and labels using crypten.cryptensor() function\n",
        "images_enc = crypten.cryptensor(images)\n",
        "labels_enc = crypten.cryptensor(labels)"
      ]
    },
    {
      "cell_type": "code",
      "execution_count": null,
      "metadata": {
        "id": "5Q75q-vyU6PU",
        "outputId": "e237fe99-5815-4178-a86e-0eddb8bc6977",
        "colab": {
          "base_uri": "https://localhost:8080/"
        }
      },
      "outputs": [
        {
          "output_type": "execute_result",
          "data": {
            "text/plain": [
              "MPCTensor(\n",
              "\t_tensor=tensor([[    0,     0,     0,     0,     0,     0,     0,     0,     0,     0,\n",
              "             0,     0,     0,     0,     0,     0,     0,     0,     0,     0,\n",
              "             0,     0,     0,     0,     0,     0,     0,     0],\n",
              "        [    0,     0,     0,     0,     0,     0,     0,     0,     0,     0,\n",
              "             0,     0,     0,     0,     0,     0,     0,     0,     0,     0,\n",
              "             0,     0,     0,     0,     0,     0,     0,     0],\n",
              "        [    0,     0,     0,     0,     0,     0,     0,     0,     0,     0,\n",
              "             0,     0,     0,     0,     0,     0,     0,     0,     0,     0,\n",
              "             0,     0,     0,     0,     0,     0,     0,     0],\n",
              "        [    0,     0,     0,     0,     0,     0,     0,     0,     0,     0,\n",
              "             0,     0,     0,     0,     0,     0,     0,     0,     0,     0,\n",
              "             0,     0,     0,     0,     0,     0,     0,     0],\n",
              "        [    0,     0,     0,     0,     0,     0,     0,     0,     0,     0,\n",
              "             0,     0,     0,     0,     0,     0,     0,     0,     0,     0,\n",
              "             0,     0,     0,     0,     0,     0,     0,     0],\n",
              "        [    0,     0,     0,     0,     0,     0,     0,     0,     0,     0,\n",
              "             0,     0,   771,  4626,  4626,  4626, 32382, 34952, 44975,  6682,\n",
              "         42662, 65536, 63479, 32639,     0,     0,     0,     0],\n",
              "        [    0,     0,     0,     0,     0,     0,     0,     0,  7710,  9252,\n",
              "         24158, 39578, 43690, 65021, 65021, 65021, 65021, 65021, 57825, 44204,\n",
              "         65021, 62194, 50115, 16448,     0,     0,     0,     0],\n",
              "        [    0,     0,     0,     0,     0,     0,     0, 12593, 61166, 65021,\n",
              "         65021, 65021, 65021, 65021, 65021, 65021, 65021, 64507, 23901, 21074,\n",
              "         21074, 14392, 10023,     0,     0,     0,     0,     0],\n",
              "        [    0,     0,     0,     0,     0,     0,     0,  4626, 56283, 65021,\n",
              "         65021, 65021, 65021, 65021, 50886, 46774, 63479, 61937,     0,     0,\n",
              "             0,     0,     0,     0,     0,     0,     0,     0],\n",
              "        [    0,     0,     0,     0,     0,     0,     0,     0, 20560, 40092,\n",
              "         27499, 65021, 65021, 52685,  2827,     0, 11051, 39578,     0,     0,\n",
              "             0,     0,     0,     0,     0,     0,     0,     0],\n",
              "        [    0,     0,     0,     0,     0,     0,     0,     0,     0,  3598,\n",
              "           257, 39578, 65021, 23130,     0,     0,     0,     0,     0,     0,\n",
              "             0,     0,     0,     0,     0,     0,     0,     0],\n",
              "        [    0,     0,     0,     0,     0,     0,     0,     0,     0,     0,\n",
              "             0, 35723, 65021, 48830,   514,     0,     0,     0,     0,     0,\n",
              "             0,     0,     0,     0,     0,     0,     0,     0],\n",
              "        [    0,     0,     0,     0,     0,     0,     0,     0,     0,     0,\n",
              "             0,  2827, 48830, 65021, 17990,     0,     0,     0,     0,     0,\n",
              "             0,     0,     0,     0,     0,     0,     0,     0],\n",
              "        [    0,     0,     0,     0,     0,     0,     0,     0,     0,     0,\n",
              "             0,     0,  8995, 61937, 57825, 41120, 27756,   257,     0,     0,\n",
              "             0,     0,     0,     0,     0,     0,     0,     0],\n",
              "        [    0,     0,     0,     0,     0,     0,     0,     0,     0,     0,\n",
              "             0,     0,     0, 20817, 61680, 65021, 65021, 30583,  6425,     0,\n",
              "             0,     0,     0,     0,     0,     0,     0,     0],\n",
              "        [    0,     0,     0,     0,     0,     0,     0,     0,     0,     0,\n",
              "             0,     0,     0,     0, 11565, 47802, 65021, 65021, 38550,  6939,\n",
              "             0,     0,     0,     0,     0,     0,     0,     0],\n",
              "        [    0,     0,     0,     0,     0,     0,     0,     0,     0,     0,\n",
              "             0,     0,     0,     0,     0,  4112, 23901, 64764, 65021, 48059,\n",
              "             0,     0,     0,     0,     0,     0,     0,     0],\n",
              "        [    0,     0,     0,     0,     0,     0,     0,     0,     0,     0,\n",
              "             0,     0,     0,     0,     0,     0,     0, 63993, 65021, 63993,\n",
              "         16448,     0,     0,     0,     0,     0,     0,     0],\n",
              "        [    0,     0,     0,     0,     0,     0,     0,     0,     0,     0,\n",
              "             0,     0,     0,     0, 11822, 33410, 47031, 65021, 65021, 53199,\n",
              "           514,     0,     0,     0,     0,     0,     0,     0],\n",
              "        [    0,     0,     0,     0,     0,     0,     0,     0,     0,     0,\n",
              "             0,     0, 10023, 38036, 58853, 65021, 65021, 65021, 64250, 46774,\n",
              "             0,     0,     0,     0,     0,     0,     0,     0],\n",
              "        [    0,     0,     0,     0,     0,     0,     0,     0,     0,     0,\n",
              "          6168, 29298, 56797, 65021, 65021, 65021, 65021, 51657, 20046,     0,\n",
              "             0,     0,     0,     0,     0,     0,     0,     0],\n",
              "        [    0,     0,     0,     0,     0,     0,     0,     0,  5911, 16962,\n",
              "         54741, 65021, 65021, 65021, 65021, 50886, 20817,   514,     0,     0,\n",
              "             0,     0,     0,     0,     0,     0,     0,     0],\n",
              "        [    0,     0,     0,     0,     0,     0,  4626, 43947, 56283, 65021,\n",
              "         65021, 65021, 65021, 50115, 20560,  2313,     0,     0,     0,     0,\n",
              "             0,     0,     0,     0,     0,     0,     0,     0],\n",
              "        [    0,     0,     0,     0, 14135, 44204, 58082, 65021, 65021, 65021,\n",
              "         65021, 62708, 34181,  2827,     0,     0,     0,     0,     0,     0,\n",
              "             0,     0,     0,     0,     0,     0,     0,     0],\n",
              "        [    0,     0,     0,     0, 34952, 65021, 65021, 65021, 54484, 34695,\n",
              "         33924,  4112,     0,     0,     0,     0,     0,     0,     0,     0,\n",
              "             0,     0,     0,     0,     0,     0,     0,     0],\n",
              "        [    0,     0,     0,     0,     0,     0,     0,     0,     0,     0,\n",
              "             0,     0,     0,     0,     0,     0,     0,     0,     0,     0,\n",
              "             0,     0,     0,     0,     0,     0,     0,     0],\n",
              "        [    0,     0,     0,     0,     0,     0,     0,     0,     0,     0,\n",
              "             0,     0,     0,     0,     0,     0,     0,     0,     0,     0,\n",
              "             0,     0,     0,     0,     0,     0,     0,     0],\n",
              "        [    0,     0,     0,     0,     0,     0,     0,     0,     0,     0,\n",
              "             0,     0,     0,     0,     0,     0,     0,     0,     0,     0,\n",
              "             0,     0,     0,     0,     0,     0,     0,     0]])\n",
              "\tplain_text=HIDDEN\n",
              "\tptype=ptype.arithmetic\n",
              ")"
            ]
          },
          "metadata": {},
          "execution_count": 26
        }
      ],
      "source": [
        "images_enc[0]"
      ]
    },
    {
      "cell_type": "code",
      "execution_count": null,
      "metadata": {
        "id": "ZMoJQtAEU6PU"
      },
      "outputs": [],
      "source": [
        "# prepare encrypt testing samples\n",
        "images_test_enc = crypten.cryptensor(images_test)\n",
        "labels_test_enc = crypten.cryptensor(labels_test)"
      ]
    },
    {
      "cell_type": "markdown",
      "metadata": {
        "id": "1rXPsdo8U6PU"
      },
      "source": [
        "## Logistic Regression Model\n",
        "\n",
        "(multiclass logistic regression)"
      ]
    },
    {
      "cell_type": "code",
      "execution_count": null,
      "metadata": {
        "id": "i_hG2L61U6PV"
      },
      "outputs": [],
      "source": [
        "class LogisticRegression(crypten.nn.Module):\n",
        "\n",
        "    def __init__(self):\n",
        "        super().__init__()\n",
        "        # images are 28x28 pixels\n",
        "        self.linear1 = crypten.nn.Linear(28 * 28, 100)\n",
        "        # change model\n",
        "        self.linear2 = crypten.nn.Linear(100,10)\n",
        "\n",
        "    def forward(self, x):\n",
        "        x=self.linear1(x)\n",
        "        return self.linear2(x)\n",
        "\n",
        ""
      ]
    },
    {
      "cell_type": "code",
      "execution_count": null,
      "metadata": {
        "id": "1SoqjpC3U6PV"
      },
      "outputs": [],
      "source": [
        "model = LogisticRegression().encrypt()"
      ]
    },
    {
      "cell_type": "code",
      "execution_count": null,
      "metadata": {
        "id": "pN_4uNK4U6PV",
        "outputId": "4286ba2a-e58a-4e91-e594-698b8df4d80d",
        "colab": {
          "base_uri": "https://localhost:8080/"
        }
      },
      "outputs": [
        {
          "output_type": "execute_result",
          "data": {
            "text/plain": [
              "MPCTensor(\n",
              "\t_tensor=tensor([[  4318,   2241,   -520,  ...,  -7715,   3612,  -9097],\n",
              "        [ -6616,   4534,  -1417,  ...,   6136,  -7211,  -7271],\n",
              "        [ -1566,   3805,  -5744,  ...,  -4701,  -3783, -11780],\n",
              "        ...,\n",
              "        [   584,  -2536,  -2055,  ...,  -2107,   -691,  -8080],\n",
              "        [ -2713,   9981,    632,  ...,  -1630,   5794,  -3642],\n",
              "        [  6399,   9638,  -7435,  ...,  -7209,   2926, -14868]])\n",
              "\tplain_text=HIDDEN\n",
              "\tptype=ptype.arithmetic\n",
              ")"
            ]
          },
          "metadata": {},
          "execution_count": 46
        }
      ],
      "source": [
        "model(images_enc.reshape(-1,784))"
      ]
    },
    {
      "cell_type": "markdown",
      "metadata": {
        "id": "l_HFHdLTU6PW"
      },
      "source": [
        "### Train Model on Encrypted Images"
      ]
    },
    {
      "cell_type": "code",
      "execution_count": null,
      "metadata": {
        "id": "5cPDVwZnU6PW"
      },
      "outputs": [],
      "source": [
        "def train_model(model, X, y, epochs=10, learning_rate=0.05):\n",
        "    criterion = crypten.nn.CrossEntropyLoss()\n",
        "\n",
        "    for epoch in range(epochs):\n",
        "        model.zero_grad()\n",
        "        # calculate the loss\n",
        "        output = model(X)\n",
        "        loss = criterion(output,y)\n",
        "\n",
        "        print(f\"epoch {epoch} loss: {loss.get_plain_text()}\")\n",
        "        loss.backward()\n",
        "        model.update_parameters(learning_rate)\n",
        "    return model"
      ]
    },
    {
      "cell_type": "code",
      "execution_count": null,
      "metadata": {
        "id": "HOH1t9pmU6PW",
        "outputId": "9c48c49e-12b1-4b93-c5be-9f9e70c89586",
        "colab": {
          "base_uri": "https://localhost:8080/"
        }
      },
      "outputs": [
        {
          "output_type": "stream",
          "name": "stdout",
          "text": [
            "epoch 0 loss: 2.327789306640625\n",
            "epoch 1 loss: 2.3101043701171875\n",
            "epoch 2 loss: 2.2926483154296875\n",
            "epoch 3 loss: 2.2755126953125\n",
            "epoch 4 loss: 2.2585906982421875\n",
            "epoch 5 loss: 2.2417755126953125\n",
            "epoch 6 loss: 2.225189208984375\n",
            "epoch 7 loss: 2.2085113525390625\n",
            "epoch 8 loss: 2.192047119140625\n",
            "epoch 9 loss: 2.175506591796875\n",
            "epoch 10 loss: 2.15899658203125\n",
            "epoch 11 loss: 2.1426239013671875\n",
            "epoch 12 loss: 2.1260833740234375\n",
            "epoch 13 loss: 2.1096038818359375\n",
            "epoch 14 loss: 2.0930633544921875\n",
            "epoch 15 loss: 2.0763702392578125\n",
            "epoch 16 loss: 2.059661865234375\n",
            "epoch 17 loss: 2.04296875\n",
            "epoch 18 loss: 2.0261077880859375\n",
            "epoch 19 loss: 2.00921630859375\n",
            "epoch 20 loss: 1.992156982421875\n",
            "epoch 21 loss: 1.9750823974609375\n",
            "epoch 22 loss: 1.9579925537109375\n",
            "epoch 23 loss: 1.94073486328125\n",
            "epoch 24 loss: 1.9233551025390625\n",
            "epoch 25 loss: 1.9058685302734375\n",
            "epoch 26 loss: 1.8883514404296875\n",
            "epoch 27 loss: 1.87066650390625\n",
            "epoch 28 loss: 1.8529815673828125\n",
            "epoch 29 loss: 1.835235595703125\n",
            "epoch 30 loss: 1.817413330078125\n",
            "epoch 31 loss: 1.79949951171875\n",
            "epoch 32 loss: 1.781463623046875\n",
            "epoch 33 loss: 1.7635040283203125\n",
            "epoch 34 loss: 1.745452880859375\n",
            "epoch 35 loss: 1.72747802734375\n",
            "epoch 36 loss: 1.7093353271484375\n",
            "epoch 37 loss: 1.6913299560546875\n",
            "epoch 38 loss: 1.673370361328125\n",
            "epoch 39 loss: 1.6553192138671875\n",
            "epoch 40 loss: 1.637451171875\n",
            "epoch 41 loss: 1.6195220947265625\n",
            "epoch 42 loss: 1.6018218994140625\n",
            "epoch 43 loss: 1.584075927734375\n",
            "epoch 44 loss: 1.56646728515625\n",
            "epoch 45 loss: 1.5490875244140625\n",
            "epoch 46 loss: 1.5317230224609375\n",
            "epoch 47 loss: 1.5144805908203125\n",
            "epoch 48 loss: 1.4974822998046875\n",
            "epoch 49 loss: 1.4805145263671875\n",
            "epoch 50 loss: 1.4638519287109375\n",
            "epoch 51 loss: 1.44732666015625\n",
            "epoch 52 loss: 1.43109130859375\n",
            "epoch 53 loss: 1.4149322509765625\n",
            "epoch 54 loss: 1.3990478515625\n",
            "epoch 55 loss: 1.38323974609375\n",
            "epoch 56 loss: 1.3678131103515625\n",
            "epoch 57 loss: 1.3524322509765625\n",
            "epoch 58 loss: 1.33758544921875\n",
            "epoch 59 loss: 1.322784423828125\n",
            "epoch 60 loss: 1.30810546875\n",
            "epoch 61 loss: 1.2938995361328125\n",
            "epoch 62 loss: 1.27978515625\n",
            "epoch 63 loss: 1.2659149169921875\n",
            "epoch 64 loss: 1.2523956298828125\n",
            "epoch 65 loss: 1.2389373779296875\n",
            "epoch 66 loss: 1.2258148193359375\n",
            "epoch 67 loss: 1.212860107421875\n",
            "epoch 68 loss: 1.2002716064453125\n",
            "epoch 69 loss: 1.187896728515625\n",
            "epoch 70 loss: 1.1757354736328125\n",
            "epoch 71 loss: 1.1636962890625\n",
            "epoch 72 loss: 1.1519317626953125\n",
            "epoch 73 loss: 1.14056396484375\n",
            "epoch 74 loss: 1.1292877197265625\n",
            "epoch 75 loss: 1.1183013916015625\n",
            "epoch 76 loss: 1.1075286865234375\n",
            "epoch 77 loss: 1.0968780517578125\n",
            "epoch 78 loss: 1.086456298828125\n",
            "epoch 79 loss: 1.0763092041015625\n",
            "epoch 80 loss: 1.0662841796875\n",
            "epoch 81 loss: 1.0565338134765625\n",
            "epoch 82 loss: 1.0469818115234375\n",
            "epoch 83 loss: 1.0374603271484375\n",
            "epoch 84 loss: 1.028289794921875\n",
            "epoch 85 loss: 1.019195556640625\n",
            "epoch 86 loss: 1.010406494140625\n",
            "epoch 87 loss: 1.0016632080078125\n",
            "epoch 88 loss: 0.993194580078125\n",
            "epoch 89 loss: 0.98480224609375\n",
            "epoch 90 loss: 0.976654052734375\n",
            "epoch 91 loss: 0.968536376953125\n",
            "epoch 92 loss: 0.960693359375\n",
            "epoch 93 loss: 0.9529876708984375\n",
            "epoch 94 loss: 0.945465087890625\n",
            "epoch 95 loss: 0.93798828125\n",
            "epoch 96 loss: 0.93072509765625\n",
            "epoch 97 loss: 0.9235992431640625\n",
            "epoch 98 loss: 0.9164581298828125\n",
            "epoch 99 loss: 0.9097747802734375\n"
          ]
        }
      ],
      "source": [
        "model = train_model(model, images_enc.reshape(-1,784), labels_enc,epochs=100, learning_rate=0.05)"
      ]
    },
    {
      "cell_type": "markdown",
      "metadata": {
        "id": "o2jHdhSHU6PW"
      },
      "source": [
        "### Decrypt Prediction"
      ]
    },
    {
      "cell_type": "code",
      "execution_count": null,
      "metadata": {
        "id": "-HLgBAvaU6PW"
      },
      "outputs": [],
      "source": [
        "prediction = model(images_enc[2].reshape(-1,784).unsqueeze(0))"
      ]
    },
    {
      "cell_type": "code",
      "execution_count": null,
      "metadata": {
        "id": "16alykFvU6PW",
        "colab": {
          "base_uri": "https://localhost:8080/"
        },
        "outputId": "e77475cb-0b62-4ded-d8d5-170775cc7886"
      },
      "outputs": [
        {
          "output_type": "execute_result",
          "data": {
            "text/plain": [
              "tensor(4)"
            ]
          },
          "metadata": {},
          "execution_count": 70
        }
      ],
      "source": [
        "prediction.get_plain_text().argmax()"
      ]
    },
    {
      "cell_type": "code",
      "execution_count": null,
      "metadata": {
        "id": "3Z9Jb921U6PX",
        "colab": {
          "base_uri": "https://localhost:8080/",
          "height": 283
        },
        "outputId": "e0361bf9-1233-4646-9ea6-bfc20b604296"
      },
      "outputs": [
        {
          "output_type": "execute_result",
          "data": {
            "text/plain": [
              "<matplotlib.image.AxesImage at 0x7f2b743a6ee0>"
            ]
          },
          "metadata": {},
          "execution_count": 71
        },
        {
          "output_type": "display_data",
          "data": {
            "text/plain": [
              "<Figure size 432x288 with 1 Axes>"
            ],
            "image/png": "[encoded data removed]"
          },
          "metadata": {
            "needs_background": "light"
          }
        }
      ],
      "source": [
        "plt.imshow(images[2], cmap='gray', interpolation='none')"
      ]
    },
    {
      "cell_type": "markdown",
      "metadata": {
        "id": "UtfaUzXfU6PX"
      },
      "source": [
        "### Test Model Accuracy"
      ]
    },
    {
      "cell_type": "code",
      "execution_count": null,
      "metadata": {
        "id": "mraQHLNyU6PX"
      },
      "outputs": [],
      "source": [
        "def avg_test_accuracy(model, X, y):\n",
        "    # calculate predicted labels and then calculate the accuracy with the groundtruth ones.\n",
        "    prediction.get_plain_text\n",
        "    avg_test_accuracy\n",
        "    correct = (predicted == labels).sum().float()\n",
        "    return float(correct / y.shape[0])"
      ]
    },
    {
      "cell_type": "code",
      "execution_count": null,
      "metadata": {
        "id": "NinL9fx9U6PX",
        "colab": {
          "base_uri": "https://localhost:8080/"
        },
        "outputId": "3a3e13d2-709f-4fbd-ac7d-412f294fda17"
      },
      "outputs": [
        {
          "output_type": "execute_result",
          "data": {
            "text/plain": [
              "0.8899999856948853"
            ]
          },
          "metadata": {},
          "execution_count": 77
        }
      ],
      "source": [
        "avg_test_accuracy(...)"
      ]
    },
    {
      "cell_type": "markdown",
      "source": [
        "# Try different the number of samples"
      ],
      "metadata": {
        "id": "b84If30aSA9A"
      }
    }
  ],
  "metadata": {
    "kernelspec": {
      "display_name": "Python 3",
      "name": "python3"
    },
    "language_info": {
      "name": "python"
    },
    "colab": {
      "provenance": []
    },
    "gpuClass": "standard",
    "accelerator": "GPU",
    "widgets": {
      "application/vnd.jupyter.widget-state+json": {
        "c31c2c89a7ff4be3a9baf3bb2da3ba12": {
          "model_module": "@jupyter-widgets/controls",
          "model_name": "HBoxModel",
          "model_module_version": "1.5.0",
          "state": {
            "_dom_classes": [],
            "_model_module": "@jupyter-widgets/controls",
            "_model_module_version": "1.5.0",
            "_model_name": "HBoxModel",
            "_view_count": null,
            "_view_module": "@jupyter-widgets/controls",
            "_view_module_version": "1.5.0",
            "_view_name": "HBoxView",
            "box_style": "",
            "children": [
              "IPY_MODEL_0cb67d6427f34998889ad0db14de5fe4",
              "IPY_MODEL_0b3195cf94584684981a59caae02b10e",
              "IPY_MODEL_8d3c0769479d421886418626b539307c"
            ],
            "layout": "IPY_MODEL_ffde61b7acf34702a933e495f06fc1e8"
          }
        },
        "0cb67d6427f34998889ad0db14de5fe4": {
          "model_module": "@jupyter-widgets/controls",
          "model_name": "HTMLModel",
          "model_module_version": "1.5.0",
          "state": {
            "_dom_classes": [],
            "_model_module": "@jupyter-widgets/controls",
            "_model_module_version": "1.5.0",
            "_model_name": "HTMLModel",
            "_view_count": null,
            "_view_module": "@jupyter-widgets/controls",
            "_view_module_version": "1.5.0",
            "_view_name": "HTMLView",
            "description": "",
            "description_tooltip": null,
            "layout": "IPY_MODEL_4fce4f1b532a47269957f53d4837b363",
            "placeholder": "​",
            "style": "IPY_MODEL_8ea3464cefd24ab2b7747c160cd0a942",
            "value": "100%"
          }
        },
        "0b3195cf94584684981a59caae02b10e": {
          "model_module": "@jupyter-widgets/controls",
          "model_name": "FloatProgressModel",
          "model_module_version": "1.5.0",
          "state": {
            "_dom_classes": [],
            "_model_module": "@jupyter-widgets/controls",
            "_model_module_version": "1.5.0",
            "_model_name": "FloatProgressModel",
            "_view_count": null,
            "_view_module": "@jupyter-widgets/controls",
            "_view_module_version": "1.5.0",
            "_view_name": "ProgressView",
            "bar_style": "success",
            "description": "",
            "description_tooltip": null,
            "layout": "IPY_MODEL_b41938543f2c46f19e005f435bf7d072",
            "max": 9912422,
            "min": 0,
            "orientation": "horizontal",
            "style": "IPY_MODEL_cb42c03d1a6f459ea8d1e6ac0ef02156",
            "value": 9912422
          }
        },
        "8d3c0769479d421886418626b539307c": {
          "model_module": "@jupyter-widgets/controls",
          "model_name": "HTMLModel",
          "model_module_version": "1.5.0",
          "state": {
            "_dom_classes": [],
            "_model_module": "@jupyter-widgets/controls",
            "_model_module_version": "1.5.0",
            "_model_name": "HTMLModel",
            "_view_count": null,
            "_view_module": "@jupyter-widgets/controls",
            "_view_module_version": "1.5.0",
            "_view_name": "HTMLView",
            "description": "",
            "description_tooltip": null,
            "layout": "IPY_MODEL_3278b75d9abd49429f51707f3550c0c7",
            "placeholder": "​",
            "style": "IPY_MODEL_ff760378f58640d497734c7926ebd165",
            "value": " 9912422/9912422 [00:00&lt;00:00, 127222994.44it/s]"
          }
        },
        "ffde61b7acf34702a933e495f06fc1e8": {
          "model_module": "@jupyter-widgets/base",
          "model_name": "LayoutModel",
          "model_module_version": "1.2.0",
          "state": {
            "_model_module": "@jupyter-widgets/base",
            "_model_module_version": "1.2.0",
            "_model_name": "LayoutModel",
            "_view_count": null,
            "_view_module": "@jupyter-widgets/base",
            "_view_module_version": "1.2.0",
            "_view_name": "LayoutView",
            "align_content": null,
            "align_items": null,
            "align_self": null,
            "border": null,
            "bottom": null,
            "display": null,
            "flex": null,
            "flex_flow": null,
            "grid_area": null,
            "grid_auto_columns": null,
            "grid_auto_flow": null,
            "grid_auto_rows": null,
            "grid_column": null,
            "grid_gap": null,
            "grid_row": null,
            "grid_template_areas": null,
            "grid_template_columns": null,
            "grid_template_rows": null,
            "height": null,
            "justify_content": null,
            "justify_items": null,
            "left": null,
            "margin": null,
            "max_height": null,
            "max_width": null,
            "min_height": null,
            "min_width": null,
            "object_fit": null,
            "object_position": null,
            "order": null,
            "overflow": null,
            "overflow_x": null,
            "overflow_y": null,
            "padding": null,
            "right": null,
            "top": null,
            "visibility": null,
            "width": null
          }
        },
        "4fce4f1b532a47269957f53d4837b363": {
          "model_module": "@jupyter-widgets/base",
          "model_name": "LayoutModel",
          "model_module_version": "1.2.0",
          "state": {
            "_model_module": "@jupyter-widgets/base",
            "_model_module_version": "1.2.0",
            "_model_name": "LayoutModel",
            "_view_count": null,
            "_view_module": "@jupyter-widgets/base",
            "_view_module_version": "1.2.0",
            "_view_name": "LayoutView",
            "align_content": null,
            "align_items": null,
            "align_self": null,
            "border": null,
            "bottom": null,
            "display": null,
            "flex": null,
            "flex_flow": null,
            "grid_area": null,
            "grid_auto_columns": null,
            "grid_auto_flow": null,
            "grid_auto_rows": null,
            "grid_column": null,
            "grid_gap": null,
            "grid_row": null,
            "grid_template_areas": null,
            "grid_template_columns": null,
            "grid_template_rows": null,
            "height": null,
            "justify_content": null,
            "justify_items": null,
            "left": null,
            "margin": null,
            "max_height": null,
            "max_width": null,
            "min_height": null,
            "min_width": null,
            "object_fit": null,
            "object_position": null,
            "order": null,
            "overflow": null,
            "overflow_x": null,
            "overflow_y": null,
            "padding": null,
            "right": null,
            "top": null,
            "visibility": null,
            "width": null
          }
        },
        "8ea3464cefd24ab2b7747c160cd0a942": {
          "model_module": "@jupyter-widgets/controls",
          "model_name": "DescriptionStyleModel",
          "model_module_version": "1.5.0",
          "state": {
            "_model_module": "@jupyter-widgets/controls",
            "_model_module_version": "1.5.0",
            "_model_name": "DescriptionStyleModel",
            "_view_count": null,
            "_view_module": "@jupyter-widgets/base",
            "_view_module_version": "1.2.0",
            "_view_name": "StyleView",
            "description_width": ""
          }
        },
        "b41938543f2c46f19e005f435bf7d072": {
          "model_module": "@jupyter-widgets/base",
          "model_name": "LayoutModel",
          "model_module_version": "1.2.0",
          "state": {
            "_model_module": "@jupyter-widgets/base",
            "_model_module_version": "1.2.0",
            "_model_name": "LayoutModel",
            "_view_count": null,
            "_view_module": "@jupyter-widgets/base",
            "_view_module_version": "1.2.0",
            "_view_name": "LayoutView",
            "align_content": null,
            "align_items": null,
            "align_self": null,
            "border": null,
            "bottom": null,
            "display": null,
            "flex": null,
            "flex_flow": null,
            "grid_area": null,
            "grid_auto_columns": null,
            "grid_auto_flow": null,
            "grid_auto_rows": null,
            "grid_column": null,
            "grid_gap": null,
            "grid_row": null,
            "grid_template_areas": null,
            "grid_template_columns": null,
            "grid_template_rows": null,
            "height": null,
            "justify_content": null,
            "justify_items": null,
            "left": null,
            "margin": null,
            "max_height": null,
            "max_width": null,
            "min_height": null,
            "min_width": null,
            "object_fit": null,
            "object_position": null,
            "order": null,
            "overflow": null,
            "overflow_x": null,
            "overflow_y": null,
            "padding": null,
            "right": null,
            "top": null,
            "visibility": null,
            "width": null
          }
        },
        "cb42c03d1a6f459ea8d1e6ac0ef02156": {
          "model_module": "@jupyter-widgets/controls",
          "model_name": "ProgressStyleModel",
          "model_module_version": "1.5.0",
          "state": {
            "_model_module": "@jupyter-widgets/controls",
            "_model_module_version": "1.5.0",
            "_model_name": "ProgressStyleModel",
            "_view_count": null,
            "_view_module": "@jupyter-widgets/base",
            "_view_module_version": "1.2.0",
            "_view_name": "StyleView",
            "bar_color": null,
            "description_width": ""
          }
        },
        "3278b75d9abd49429f51707f3550c0c7": {
          "model_module": "@jupyter-widgets/base",
          "model_name": "LayoutModel",
          "model_module_version": "1.2.0",
          "state": {
            "_model_module": "@jupyter-widgets/base",
            "_model_module_version": "1.2.0",
            "_model_name": "LayoutModel",
            "_view_count": null,
            "_view_module": "@jupyter-widgets/base",
            "_view_module_version": "1.2.0",
            "_view_name": "LayoutView",
            "align_content": null,
            "align_items": null,
            "align_self": null,
            "border": null,
            "bottom": null,
            "display": null,
            "flex": null,
            "flex_flow": null,
            "grid_area": null,
            "grid_auto_columns": null,
            "grid_auto_flow": null,
            "grid_auto_rows": null,
            "grid_column": null,
            "grid_gap": null,
            "grid_row": null,
            "grid_template_areas": null,
            "grid_template_columns": null,
            "grid_template_rows": null,
            "height": null,
            "justify_content": null,
            "justify_items": null,
            "left": null,
            "margin": null,
            "max_height": null,
            "max_width": null,
            "min_height": null,
            "min_width": null,
            "object_fit": null,
            "object_position": null,
            "order": null,
            "overflow": null,
            "overflow_x": null,
            "overflow_y": null,
            "padding": null,
            "right": null,
            "top": null,
            "visibility": null,
            "width": null
          }
        },
        "ff760378f58640d497734c7926ebd165": {
          "model_module": "@jupyter-widgets/controls",
          "model_name": "DescriptionStyleModel",
          "model_module_version": "1.5.0",
          "state": {
            "_model_module": "@jupyter-widgets/controls",
            "_model_module_version": "1.5.0",
            "_model_name": "DescriptionStyleModel",
            "_view_count": null,
            "_view_module": "@jupyter-widgets/base",
            "_view_module_version": "1.2.0",
            "_view_name": "StyleView",
            "description_width": ""
          }
        },
        "e17219b73bc84f41b01ce86717250a37": {
          "model_module": "@jupyter-widgets/controls",
          "model_name": "HBoxModel",
          "model_module_version": "1.5.0",
          "state": {
            "_dom_classes": [],
            "_model_module": "@jupyter-widgets/controls",
            "_model_module_version": "1.5.0",
            "_model_name": "HBoxModel",
            "_view_count": null,
            "_view_module": "@jupyter-widgets/controls",
            "_view_module_version": "1.5.0",
            "_view_name": "HBoxView",
            "box_style": "",
            "children": [
              "IPY_MODEL_9a421e3552d748478c824bab82c9139d",
              "IPY_MODEL_ff5055083e3b48fb85aa34e936e38004",
              "IPY_MODEL_e588d66bf497472e801957342479fabd"
            ],
            "layout": "IPY_MODEL_2f7386413b7840668a30d6a51c63e936"
          }
        },
        "9a421e3552d748478c824bab82c9139d": {
          "model_module": "@jupyter-widgets/controls",
          "model_name": "HTMLModel",
          "model_module_version": "1.5.0",
          "state": {
            "_dom_classes": [],
            "_model_module": "@jupyter-widgets/controls",
            "_model_module_version": "1.5.0",
            "_model_name": "HTMLModel",
            "_view_count": null,
            "_view_module": "@jupyter-widgets/controls",
            "_view_module_version": "1.5.0",
            "_view_name": "HTMLView",
            "description": "",
            "description_tooltip": null,
            "layout": "IPY_MODEL_89314bd73fe44ae7b0ee005163749f03",
            "placeholder": "​",
            "style": "IPY_MODEL_0a5b8ef57f3841678b070386d7377c3c",
            "value": "100%"
          }
        },
        "ff5055083e3b48fb85aa34e936e38004": {
          "model_module": "@jupyter-widgets/controls",
          "model_name": "FloatProgressModel",
          "model_module_version": "1.5.0",
          "state": {
            "_dom_classes": [],
            "_model_module": "@jupyter-widgets/controls",
            "_model_module_version": "1.5.0",
            "_model_name": "FloatProgressModel",
            "_view_count": null,
            "_view_module": "@jupyter-widgets/controls",
            "_view_module_version": "1.5.0",
            "_view_name": "ProgressView",
            "bar_style": "success",
            "description": "",
            "description_tooltip": null,
            "layout": "IPY_MODEL_54343f2d7c394c03a660d289fc29c00a",
            "max": 28881,
            "min": 0,
            "orientation": "horizontal",
            "style": "IPY_MODEL_ec5be17db16a46f491a2ecc99b151a91",
            "value": 28881
          }
        },
        "e588d66bf497472e801957342479fabd": {
          "model_module": "@jupyter-widgets/controls",
          "model_name": "HTMLModel",
          "model_module_version": "1.5.0",
          "state": {
            "_dom_classes": [],
            "_model_module": "@jupyter-widgets/controls",
            "_model_module_version": "1.5.0",
            "_model_name": "HTMLModel",
            "_view_count": null,
            "_view_module": "@jupyter-widgets/controls",
            "_view_module_version": "1.5.0",
            "_view_name": "HTMLView",
            "description": "",
            "description_tooltip": null,
            "layout": "IPY_MODEL_46bf8cfae6bf42f6855aa546a4ae3dfe",
            "placeholder": "​",
            "style": "IPY_MODEL_f07c9e2ae5b84f13b728e4e8ea5cf796",
            "value": " 28881/28881 [00:00&lt;00:00, 1576733.36it/s]"
          }
        },
        "2f7386413b7840668a30d6a51c63e936": {
          "model_module": "@jupyter-widgets/base",
          "model_name": "LayoutModel",
          "model_module_version": "1.2.0",
          "state": {
            "_model_module": "@jupyter-widgets/base",
            "_model_module_version": "1.2.0",
            "_model_name": "LayoutModel",
            "_view_count": null,
            "_view_module": "@jupyter-widgets/base",
            "_view_module_version": "1.2.0",
            "_view_name": "LayoutView",
            "align_content": null,
            "align_items": null,
            "align_self": null,
            "border": null,
            "bottom": null,
            "display": null,
            "flex": null,
            "flex_flow": null,
            "grid_area": null,
            "grid_auto_columns": null,
            "grid_auto_flow": null,
            "grid_auto_rows": null,
            "grid_column": null,
            "grid_gap": null,
            "grid_row": null,
            "grid_template_areas": null,
            "grid_template_columns": null,
            "grid_template_rows": null,
            "height": null,
            "justify_content": null,
            "justify_items": null,
            "left": null,
            "margin": null,
            "max_height": null,
            "max_width": null,
            "min_height": null,
            "min_width": null,
            "object_fit": null,
            "object_position": null,
            "order": null,
            "overflow": null,
            "overflow_x": null,
            "overflow_y": null,
            "padding": null,
            "right": null,
            "top": null,
            "visibility": null,
            "width": null
          }
        },
        "89314bd73fe44ae7b0ee005163749f03": {
          "model_module": "@jupyter-widgets/base",
          "model_name": "LayoutModel",
          "model_module_version": "1.2.0",
          "state": {
            "_model_module": "@jupyter-widgets/base",
            "_model_module_version": "1.2.0",
            "_model_name": "LayoutModel",
            "_view_count": null,
            "_view_module": "@jupyter-widgets/base",
            "_view_module_version": "1.2.0",
            "_view_name": "LayoutView",
            "align_content": null,
            "align_items": null,
            "align_self": null,
            "border": null,
            "bottom": null,
            "display": null,
            "flex": null,
            "flex_flow": null,
            "grid_area": null,
            "grid_auto_columns": null,
            "grid_auto_flow": null,
            "grid_auto_rows": null,
            "grid_column": null,
            "grid_gap": null,
            "grid_row": null,
            "grid_template_areas": null,
            "grid_template_columns": null,
            "grid_template_rows": null,
            "height": null,
            "justify_content": null,
            "justify_items": null,
            "left": null,
            "margin": null,
            "max_height": null,
            "max_width": null,
            "min_height": null,
            "min_width": null,
            "object_fit": null,
            "object_position": null,
            "order": null,
            "overflow": null,
            "overflow_x": null,
            "overflow_y": null,
            "padding": null,
            "right": null,
            "top": null,
            "visibility": null,
            "width": null
          }
        },
        "0a5b8ef57f3841678b070386d7377c3c": {
          "model_module": "@jupyter-widgets/controls",
          "model_name": "DescriptionStyleModel",
          "model_module_version": "1.5.0",
          "state": {
            "_model_module": "@jupyter-widgets/controls",
            "_model_module_version": "1.5.0",
            "_model_name": "DescriptionStyleModel",
            "_view_count": null,
            "_view_module": "@jupyter-widgets/base",
            "_view_module_version": "1.2.0",
            "_view_name": "StyleView",
            "description_width": ""
          }
        },
        "54343f2d7c394c03a660d289fc29c00a": {
          "model_module": "@jupyter-widgets/base",
          "model_name": "LayoutModel",
          "model_module_version": "1.2.0",
          "state": {
            "_model_module": "@jupyter-widgets/base",
            "_model_module_version": "1.2.0",
            "_model_name": "LayoutModel",
            "_view_count": null,
            "_view_module": "@jupyter-widgets/base",
            "_view_module_version": "1.2.0",
            "_view_name": "LayoutView",
            "align_content": null,
            "align_items": null,
            "align_self": null,
            "border": null,
            "bottom": null,
            "display": null,
            "flex": null,
            "flex_flow": null,
            "grid_area": null,
            "grid_auto_columns": null,
            "grid_auto_flow": null,
            "grid_auto_rows": null,
            "grid_column": null,
            "grid_gap": null,
            "grid_row": null,
            "grid_template_areas": null,
            "grid_template_columns": null,
            "grid_template_rows": null,
            "height": null,
            "justify_content": null,
            "justify_items": null,
            "left": null,
            "margin": null,
            "max_height": null,
            "max_width": null,
            "min_height": null,
            "min_width": null,
            "object_fit": null,
            "object_position": null,
            "order": null,
            "overflow": null,
            "overflow_x": null,
            "overflow_y": null,
            "padding": null,
            "right": null,
            "top": null,
            "visibility": null,
            "width": null
          }
        },
        "ec5be17db16a46f491a2ecc99b151a91": {
          "model_module": "@jupyter-widgets/controls",
          "model_name": "ProgressStyleModel",
          "model_module_version": "1.5.0",
          "state": {
            "_model_module": "@jupyter-widgets/controls",
            "_model_module_version": "1.5.0",
            "_model_name": "ProgressStyleModel",
            "_view_count": null,
            "_view_module": "@jupyter-widgets/base",
            "_view_module_version": "1.2.0",
            "_view_name": "StyleView",
            "bar_color": null,
            "description_width": ""
          }
        },
        "46bf8cfae6bf42f6855aa546a4ae3dfe": {
          "model_module": "@jupyter-widgets/base",
          "model_name": "LayoutModel",
          "model_module_version": "1.2.0",
          "state": {
            "_model_module": "@jupyter-widgets/base",
            "_model_module_version": "1.2.0",
            "_model_name": "LayoutModel",
            "_view_count": null,
            "_view_module": "@jupyter-widgets/base",
            "_view_module_version": "1.2.0",
            "_view_name": "LayoutView",
            "align_content": null,
            "align_items": null,
            "align_self": null,
            "border": null,
            "bottom": null,
            "display": null,
            "flex": null,
            "flex_flow": null,
            "grid_area": null,
            "grid_auto_columns": null,
            "grid_auto_flow": null,
            "grid_auto_rows": null,
            "grid_column": null,
            "grid_gap": null,
            "grid_row": null,
            "grid_template_areas": null,
            "grid_template_columns": null,
            "grid_template_rows": null,
            "height": null,
            "justify_content": null,
            "justify_items": null,
            "left": null,
            "margin": null,
            "max_height": null,
            "max_width": null,
            "min_height": null,
            "min_width": null,
            "object_fit": null,
            "object_position": null,
            "order": null,
            "overflow": null,
            "overflow_x": null,
            "overflow_y": null,
            "padding": null,
            "right": null,
            "top": null,
            "visibility": null,
            "width": null
          }
        },
        "f07c9e2ae5b84f13b728e4e8ea5cf796": {
          "model_module": "@jupyter-widgets/controls",
          "model_name": "DescriptionStyleModel",
          "model_module_version": "1.5.0",
          "state": {
            "_model_module": "@jupyter-widgets/controls",
            "_model_module_version": "1.5.0",
            "_model_name": "DescriptionStyleModel",
            "_view_count": null,
            "_view_module": "@jupyter-widgets/base",
            "_view_module_version": "1.2.0",
            "_view_name": "StyleView",
            "description_width": ""
          }
        },
        "3f285a62cd45453b9882f18ec802de15": {
          "model_module": "@jupyter-widgets/controls",
          "model_name": "HBoxModel",
          "model_module_version": "1.5.0",
          "state": {
            "_dom_classes": [],
            "_model_module": "@jupyter-widgets/controls",
            "_model_module_version": "1.5.0",
            "_model_name": "HBoxModel",
            "_view_count": null,
            "_view_module": "@jupyter-widgets/controls",
            "_view_module_version": "1.5.0",
            "_view_name": "HBoxView",
            "box_style": "",
            "children": [
              "IPY_MODEL_fb0407ce10ef4dae91ee89d9bf3d004a",
              "IPY_MODEL_bea5486edda744b3bc0f60ac3f59d8e1",
              "IPY_MODEL_48df08c5a941413c94e1e32d607529b2"
            ],
            "layout": "IPY_MODEL_129195ebadd4404db79e91d43f7d47a4"
          }
        },
        "fb0407ce10ef4dae91ee89d9bf3d004a": {
          "model_module": "@jupyter-widgets/controls",
          "model_name": "HTMLModel",
          "model_module_version": "1.5.0",
          "state": {
            "_dom_classes": [],
            "_model_module": "@jupyter-widgets/controls",
            "_model_module_version": "1.5.0",
            "_model_name": "HTMLModel",
            "_view_count": null,
            "_view_module": "@jupyter-widgets/controls",
            "_view_module_version": "1.5.0",
            "_view_name": "HTMLView",
            "description": "",
            "description_tooltip": null,
            "layout": "IPY_MODEL_6dcc5b22833a415f8561097d20229392",
            "placeholder": "​",
            "style": "IPY_MODEL_3a8238d8ae804cd18bdffd76611d0e58",
            "value": "100%"
          }
        },
        "bea5486edda744b3bc0f60ac3f59d8e1": {
          "model_module": "@jupyter-widgets/controls",
          "model_name": "FloatProgressModel",
          "model_module_version": "1.5.0",
          "state": {
            "_dom_classes": [],
            "_model_module": "@jupyter-widgets/controls",
            "_model_module_version": "1.5.0",
            "_model_name": "FloatProgressModel",
            "_view_count": null,
            "_view_module": "@jupyter-widgets/controls",
            "_view_module_version": "1.5.0",
            "_view_name": "ProgressView",
            "bar_style": "success",
            "description": "",
            "description_tooltip": null,
            "layout": "IPY_MODEL_ef8b10a31e574f3089b8dccdceda60af",
            "max": 1648877,
            "min": 0,
            "orientation": "horizontal",
            "style": "IPY_MODEL_d91ef394236c4670967131e55234ab87",
            "value": 1648877
          }
        },
        "48df08c5a941413c94e1e32d607529b2": {
          "model_module": "@jupyter-widgets/controls",
          "model_name": "HTMLModel",
          "model_module_version": "1.5.0",
          "state": {
            "_dom_classes": [],
            "_model_module": "@jupyter-widgets/controls",
            "_model_module_version": "1.5.0",
            "_model_name": "HTMLModel",
            "_view_count": null,
            "_view_module": "@jupyter-widgets/controls",
            "_view_module_version": "1.5.0",
            "_view_name": "HTMLView",
            "description": "",
            "description_tooltip": null,
            "layout": "IPY_MODEL_f44047dd8112452f9bfb697c0ed67bd4",
            "placeholder": "​",
            "style": "IPY_MODEL_21f693ad36224a758024c4a9344b5947",
            "value": " 1648877/1648877 [00:00&lt;00:00, 40563840.35it/s]"
          }
        },
        "129195ebadd4404db79e91d43f7d47a4": {
          "model_module": "@jupyter-widgets/base",
          "model_name": "LayoutModel",
          "model_module_version": "1.2.0",
          "state": {
            "_model_module": "@jupyter-widgets/base",
            "_model_module_version": "1.2.0",
            "_model_name": "LayoutModel",
            "_view_count": null,
            "_view_module": "@jupyter-widgets/base",
            "_view_module_version": "1.2.0",
            "_view_name": "LayoutView",
            "align_content": null,
            "align_items": null,
            "align_self": null,
            "border": null,
            "bottom": null,
            "display": null,
            "flex": null,
            "flex_flow": null,
            "grid_area": null,
            "grid_auto_columns": null,
            "grid_auto_flow": null,
            "grid_auto_rows": null,
            "grid_column": null,
            "grid_gap": null,
            "grid_row": null,
            "grid_template_areas": null,
            "grid_template_columns": null,
            "grid_template_rows": null,
            "height": null,
            "justify_content": null,
            "justify_items": null,
            "left": null,
            "margin": null,
            "max_height": null,
            "max_width": null,
            "min_height": null,
            "min_width": null,
            "object_fit": null,
            "object_position": null,
            "order": null,
            "overflow": null,
            "overflow_x": null,
            "overflow_y": null,
            "padding": null,
            "right": null,
            "top": null,
            "visibility": null,
            "width": null
          }
        },
        "6dcc5b22833a415f8561097d20229392": {
          "model_module": "@jupyter-widgets/base",
          "model_name": "LayoutModel",
          "model_module_version": "1.2.0",
          "state": {
            "_model_module": "@jupyter-widgets/base",
            "_model_module_version": "1.2.0",
            "_model_name": "LayoutModel",
            "_view_count": null,
            "_view_module": "@jupyter-widgets/base",
            "_view_module_version": "1.2.0",
            "_view_name": "LayoutView",
            "align_content": null,
            "align_items": null,
            "align_self": null,
            "border": null,
            "bottom": null,
            "display": null,
            "flex": null,
            "flex_flow": null,
            "grid_area": null,
            "grid_auto_columns": null,
            "grid_auto_flow": null,
            "grid_auto_rows": null,
            "grid_column": null,
            "grid_gap": null,
            "grid_row": null,
            "grid_template_areas": null,
            "grid_template_columns": null,
            "grid_template_rows": null,
            "height": null,
            "justify_content": null,
            "justify_items": null,
            "left": null,
            "margin": null,
            "max_height": null,
            "max_width": null,
            "min_height": null,
            "min_width": null,
            "object_fit": null,
            "object_position": null,
            "order": null,
            "overflow": null,
            "overflow_x": null,
            "overflow_y": null,
            "padding": null,
            "right": null,
            "top": null,
            "visibility": null,
            "width": null
          }
        },
        "3a8238d8ae804cd18bdffd76611d0e58": {
          "model_module": "@jupyter-widgets/controls",
          "model_name": "DescriptionStyleModel",
          "model_module_version": "1.5.0",
          "state": {
            "_model_module": "@jupyter-widgets/controls",
            "_model_module_version": "1.5.0",
            "_model_name": "DescriptionStyleModel",
            "_view_count": null,
            "_view_module": "@jupyter-widgets/base",
            "_view_module_version": "1.2.0",
            "_view_name": "StyleView",
            "description_width": ""
          }
        },
        "ef8b10a31e574f3089b8dccdceda60af": {
          "model_module": "@jupyter-widgets/base",
          "model_name": "LayoutModel",
          "model_module_version": "1.2.0",
          "state": {
            "_model_module": "@jupyter-widgets/base",
            "_model_module_version": "1.2.0",
            "_model_name": "LayoutModel",
            "_view_count": null,
            "_view_module": "@jupyter-widgets/base",
            "_view_module_version": "1.2.0",
            "_view_name": "LayoutView",
            "align_content": null,
            "align_items": null,
            "align_self": null,
            "border": null,
            "bottom": null,
            "display": null,
            "flex": null,
            "flex_flow": null,
            "grid_area": null,
            "grid_auto_columns": null,
            "grid_auto_flow": null,
            "grid_auto_rows": null,
            "grid_column": null,
            "grid_gap": null,
            "grid_row": null,
            "grid_template_areas": null,
            "grid_template_columns": null,
            "grid_template_rows": null,
            "height": null,
            "justify_content": null,
            "justify_items": null,
            "left": null,
            "margin": null,
            "max_height": null,
            "max_width": null,
            "min_height": null,
            "min_width": null,
            "object_fit": null,
            "object_position": null,
            "order": null,
            "overflow": null,
            "overflow_x": null,
            "overflow_y": null,
            "padding": null,
            "right": null,
            "top": null,
            "visibility": null,
            "width": null
          }
        },
        "d91ef394236c4670967131e55234ab87": {
          "model_module": "@jupyter-widgets/controls",
          "model_name": "ProgressStyleModel",
          "model_module_version": "1.5.0",
          "state": {
            "_model_module": "@jupyter-widgets/controls",
            "_model_module_version": "1.5.0",
            "_model_name": "ProgressStyleModel",
            "_view_count": null,
            "_view_module": "@jupyter-widgets/base",
            "_view_module_version": "1.2.0",
            "_view_name": "StyleView",
            "bar_color": null,
            "description_width": ""
          }
        },
        "f44047dd8112452f9bfb697c0ed67bd4": {
          "model_module": "@jupyter-widgets/base",
          "model_name": "LayoutModel",
          "model_module_version": "1.2.0",
          "state": {
            "_model_module": "@jupyter-widgets/base",
            "_model_module_version": "1.2.0",
            "_model_name": "LayoutModel",
            "_view_count": null,
            "_view_module": "@jupyter-widgets/base",
            "_view_module_version": "1.2.0",
            "_view_name": "LayoutView",
            "align_content": null,
            "align_items": null,
            "align_self": null,
            "border": null,
            "bottom": null,
            "display": null,
            "flex": null,
            "flex_flow": null,
            "grid_area": null,
            "grid_auto_columns": null,
            "grid_auto_flow": null,
            "grid_auto_rows": null,
            "grid_column": null,
            "grid_gap": null,
            "grid_row": null,
            "grid_template_areas": null,
            "grid_template_columns": null,
            "grid_template_rows": null,
            "height": null,
            "justify_content": null,
            "justify_items": null,
            "left": null,
            "margin": null,
            "max_height": null,
            "max_width": null,
            "min_height": null,
            "min_width": null,
            "object_fit": null,
            "object_position": null,
            "order": null,
            "overflow": null,
            "overflow_x": null,
            "overflow_y": null,
            "padding": null,
            "right": null,
            "top": null,
            "visibility": null,
            "width": null
          }
        },
        "21f693ad36224a758024c4a9344b5947": {
          "model_module": "@jupyter-widgets/controls",
          "model_name": "DescriptionStyleModel",
          "model_module_version": "1.5.0",
          "state": {
            "_model_module": "@jupyter-widgets/controls",
            "_model_module_version": "1.5.0",
            "_model_name": "DescriptionStyleModel",
            "_view_count": null,
            "_view_module": "@jupyter-widgets/base",
            "_view_module_version": "1.2.0",
            "_view_name": "StyleView",
            "description_width": ""
          }
        },
        "6257ba782c8f4b24aa943c39e2958a22": {
          "model_module": "@jupyter-widgets/controls",
          "model_name": "HBoxModel",
          "model_module_version": "1.5.0",
          "state": {
            "_dom_classes": [],
            "_model_module": "@jupyter-widgets/controls",
            "_model_module_version": "1.5.0",
            "_model_name": "HBoxModel",
            "_view_count": null,
            "_view_module": "@jupyter-widgets/controls",
            "_view_module_version": "1.5.0",
            "_view_name": "HBoxView",
            "box_style": "",
            "children": [
              "IPY_MODEL_3e3bbfc158574d4e9a0838fc26045f9c",
              "IPY_MODEL_40398d03bf20475d86f44f5e8cae3f8a",
              "IPY_MODEL_278870fd20f8408baf904b161712ab48"
            ],
            "layout": "IPY_MODEL_b8f28f1ce9ca439a899f7adcf254c564"
          }
        },
        "3e3bbfc158574d4e9a0838fc26045f9c": {
          "model_module": "@jupyter-widgets/controls",
          "model_name": "HTMLModel",
          "model_module_version": "1.5.0",
          "state": {
            "_dom_classes": [],
            "_model_module": "@jupyter-widgets/controls",
            "_model_module_version": "1.5.0",
            "_model_name": "HTMLModel",
            "_view_count": null,
            "_view_module": "@jupyter-widgets/controls",
            "_view_module_version": "1.5.0",
            "_view_name": "HTMLView",
            "description": "",
            "description_tooltip": null,
            "layout": "IPY_MODEL_993d5ff26e284277807dc078932e9133",
            "placeholder": "​",
            "style": "IPY_MODEL_2f26a807799b45bcac871ee1d3fcbfc4",
            "value": "100%"
          }
        },
        "40398d03bf20475d86f44f5e8cae3f8a": {
          "model_module": "@jupyter-widgets/controls",
          "model_name": "FloatProgressModel",
          "model_module_version": "1.5.0",
          "state": {
            "_dom_classes": [],
            "_model_module": "@jupyter-widgets/controls",
            "_model_module_version": "1.5.0",
            "_model_name": "FloatProgressModel",
            "_view_count": null,
            "_view_module": "@jupyter-widgets/controls",
            "_view_module_version": "1.5.0",
            "_view_name": "ProgressView",
            "bar_style": "success",
            "description": "",
            "description_tooltip": null,
            "layout": "IPY_MODEL_2282a3dcac0040bfa83fcdae2a1089d8",
            "max": 4542,
            "min": 0,
            "orientation": "horizontal",
            "style": "IPY_MODEL_039a1d7282a24324ac39cf5f5e9fb49c",
            "value": 4542
          }
        },
        "278870fd20f8408baf904b161712ab48": {
          "model_module": "@jupyter-widgets/controls",
          "model_name": "HTMLModel",
          "model_module_version": "1.5.0",
          "state": {
            "_dom_classes": [],
            "_model_module": "@jupyter-widgets/controls",
            "_model_module_version": "1.5.0",
            "_model_name": "HTMLModel",
            "_view_count": null,
            "_view_module": "@jupyter-widgets/controls",
            "_view_module_version": "1.5.0",
            "_view_name": "HTMLView",
            "description": "",
            "description_tooltip": null,
            "layout": "IPY_MODEL_5dac3498d24c49bdaa7e8ab29a021dab",
            "placeholder": "​",
            "style": "IPY_MODEL_1566bdd7fea24714a6044b63105a1831",
            "value": " 4542/4542 [00:00&lt;00:00, 273168.94it/s]"
          }
        },
        "b8f28f1ce9ca439a899f7adcf254c564": {
          "model_module": "@jupyter-widgets/base",
          "model_name": "LayoutModel",
          "model_module_version": "1.2.0",
          "state": {
            "_model_module": "@jupyter-widgets/base",
            "_model_module_version": "1.2.0",
            "_model_name": "LayoutModel",
            "_view_count": null,
            "_view_module": "@jupyter-widgets/base",
            "_view_module_version": "1.2.0",
            "_view_name": "LayoutView",
            "align_content": null,
            "align_items": null,
            "align_self": null,
            "border": null,
            "bottom": null,
            "display": null,
            "flex": null,
            "flex_flow": null,
            "grid_area": null,
            "grid_auto_columns": null,
            "grid_auto_flow": null,
            "grid_auto_rows": null,
            "grid_column": null,
            "grid_gap": null,
            "grid_row": null,
            "grid_template_areas": null,
            "grid_template_columns": null,
            "grid_template_rows": null,
            "height": null,
            "justify_content": null,
            "justify_items": null,
            "left": null,
            "margin": null,
            "max_height": null,
            "max_width": null,
            "min_height": null,
            "min_width": null,
            "object_fit": null,
            "object_position": null,
            "order": null,
            "overflow": null,
            "overflow_x": null,
            "overflow_y": null,
            "padding": null,
            "right": null,
            "top": null,
            "visibility": null,
            "width": null
          }
        },
        "993d5ff26e284277807dc078932e9133": {
          "model_module": "@jupyter-widgets/base",
          "model_name": "LayoutModel",
          "model_module_version": "1.2.0",
          "state": {
            "_model_module": "@jupyter-widgets/base",
            "_model_module_version": "1.2.0",
            "_model_name": "LayoutModel",
            "_view_count": null,
            "_view_module": "@jupyter-widgets/base",
            "_view_module_version": "1.2.0",
            "_view_name": "LayoutView",
            "align_content": null,
            "align_items": null,
            "align_self": null,
            "border": null,
            "bottom": null,
            "display": null,
            "flex": null,
            "flex_flow": null,
            "grid_area": null,
            "grid_auto_columns": null,
            "grid_auto_flow": null,
            "grid_auto_rows": null,
            "grid_column": null,
            "grid_gap": null,
            "grid_row": null,
            "grid_template_areas": null,
            "grid_template_columns": null,
            "grid_template_rows": null,
            "height": null,
            "justify_content": null,
            "justify_items": null,
            "left": null,
            "margin": null,
            "max_height": null,
            "max_width": null,
            "min_height": null,
            "min_width": null,
            "object_fit": null,
            "object_position": null,
            "order": null,
            "overflow": null,
            "overflow_x": null,
            "overflow_y": null,
            "padding": null,
            "right": null,
            "top": null,
            "visibility": null,
            "width": null
          }
        },
        "2f26a807799b45bcac871ee1d3fcbfc4": {
          "model_module": "@jupyter-widgets/controls",
          "model_name": "DescriptionStyleModel",
          "model_module_version": "1.5.0",
          "state": {
            "_model_module": "@jupyter-widgets/controls",
            "_model_module_version": "1.5.0",
            "_model_name": "DescriptionStyleModel",
            "_view_count": null,
            "_view_module": "@jupyter-widgets/base",
            "_view_module_version": "1.2.0",
            "_view_name": "StyleView",
            "description_width": ""
          }
        },
        "2282a3dcac0040bfa83fcdae2a1089d8": {
          "model_module": "@jupyter-widgets/base",
          "model_name": "LayoutModel",
          "model_module_version": "1.2.0",
          "state": {
            "_model_module": "@jupyter-widgets/base",
            "_model_module_version": "1.2.0",
            "_model_name": "LayoutModel",
            "_view_count": null,
            "_view_module": "@jupyter-widgets/base",
            "_view_module_version": "1.2.0",
            "_view_name": "LayoutView",
            "align_content": null,
            "align_items": null,
            "align_self": null,
            "border": null,
            "bottom": null,
            "display": null,
            "flex": null,
            "flex_flow": null,
            "grid_area": null,
            "grid_auto_columns": null,
            "grid_auto_flow": null,
            "grid_auto_rows": null,
            "grid_column": null,
            "grid_gap": null,
            "grid_row": null,
            "grid_template_areas": null,
            "grid_template_columns": null,
            "grid_template_rows": null,
            "height": null,
            "justify_content": null,
            "justify_items": null,
            "left": null,
            "margin": null,
            "max_height": null,
            "max_width": null,
            "min_height": null,
            "min_width": null,
            "object_fit": null,
            "object_position": null,
            "order": null,
            "overflow": null,
            "overflow_x": null,
            "overflow_y": null,
            "padding": null,
            "right": null,
            "top": null,
            "visibility": null,
            "width": null
          }
        },
        "039a1d7282a24324ac39cf5f5e9fb49c": {
          "model_module": "@jupyter-widgets/controls",
          "model_name": "ProgressStyleModel",
          "model_module_version": "1.5.0",
          "state": {
            "_model_module": "@jupyter-widgets/controls",
            "_model_module_version": "1.5.0",
            "_model_name": "ProgressStyleModel",
            "_view_count": null,
            "_view_module": "@jupyter-widgets/base",
            "_view_module_version": "1.2.0",
            "_view_name": "StyleView",
            "bar_color": null,
            "description_width": ""
          }
        },
        "5dac3498d24c49bdaa7e8ab29a021dab": {
          "model_module": "@jupyter-widgets/base",
          "model_name": "LayoutModel",
          "model_module_version": "1.2.0",
          "state": {
            "_model_module": "@jupyter-widgets/base",
            "_model_module_version": "1.2.0",
            "_model_name": "LayoutModel",
            "_view_count": null,
            "_view_module": "@jupyter-widgets/base",
            "_view_module_version": "1.2.0",
            "_view_name": "LayoutView",
            "align_content": null,
            "align_items": null,
            "align_self": null,
            "border": null,
            "bottom": null,
            "display": null,
            "flex": null,
            "flex_flow": null,
            "grid_area": null,
            "grid_auto_columns": null,
            "grid_auto_flow": null,
            "grid_auto_rows": null,
            "grid_column": null,
            "grid_gap": null,
            "grid_row": null,
            "grid_template_areas": null,
            "grid_template_columns": null,
            "grid_template_rows": null,
            "height": null,
            "justify_content": null,
            "justify_items": null,
            "left": null,
            "margin": null,
            "max_height": null,
            "max_width": null,
            "min_height": null,
            "min_width": null,
            "object_fit": null,
            "object_position": null,
            "order": null,
            "overflow": null,
            "overflow_x": null,
            "overflow_y": null,
            "padding": null,
            "right": null,
            "top": null,
            "visibility": null,
            "width": null
          }
        },
        "1566bdd7fea24714a6044b63105a1831": {
          "model_module": "@jupyter-widgets/controls",
          "model_name": "DescriptionStyleModel",
          "model_module_version": "1.5.0",
          "state": {
            "_model_module": "@jupyter-widgets/controls",
            "_model_module_version": "1.5.0",
            "_model_name": "DescriptionStyleModel",
            "_view_count": null,
            "_view_module": "@jupyter-widgets/base",
            "_view_module_version": "1.2.0",
            "_view_name": "StyleView",
            "description_width": ""
          }
        }
      }
    }
  },
  "nbformat": 4,
  "nbformat_minor": 0
}