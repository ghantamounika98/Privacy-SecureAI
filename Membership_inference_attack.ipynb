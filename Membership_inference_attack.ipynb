{
  "cells": [
    {
      "cell_type": "markdown",
      "metadata": {
        "id": "Q6w_jUt-B14g"
      },
      "source": [
        "# Running membership inference attacks on the Nursery data"
      ]
    },
    {
      "cell_type": "markdown",
      "metadata": {
        "id": "8RzvTBtqB14k"
      },
      "source": [
        "In this tutorial we will show how to run black-box membership attacks. This will be demonstrated on the Nursery dataset (original dataset can be found here: https://archive.ics.uci.edu/ml/datasets/nursery)."
      ]
    },
    {
      "cell_type": "code",
      "source": [
        "!pip install adversarial-robustness-toolbox"
      ],
      "metadata": {
        "id": "haCZOnWgB8G5",
        "colab": {
          "base_uri": "https://localhost:8080/"
        },
        "outputId": "4b50c98a-4bc1-4875-dda5-8b968de282b1"
      },
      "execution_count": null,
      "outputs": [
        {
          "output_type": "stream",
          "name": "stdout",
          "text": [
            "Looking in indexes: https://pypi.org/simple, https://us-python.pkg.dev/colab-wheels/public/simple/\n",
            "Collecting adversarial-robustness-toolbox\n",
            "  Downloading adversarial_robustness_toolbox-1.14.0-py3-none-any.whl (1.5 MB)\n",
            "\u001b[2K     \u001b[90m━━━━━━━━━━━━━━━━━━━━━━━━━━━━━━━━━━━━━━━━\u001b[0m \u001b[32m1.5/1.5 MB\u001b[0m \u001b[31m16.5 MB/s\u001b[0m eta \u001b[36m0:00:00\u001b[0m\n",
            "\u001b[?25hRequirement already satisfied: six in /usr/local/lib/python3.9/dist-packages (from adversarial-robustness-toolbox) (1.16.0)\n",
            "Requirement already satisfied: scipy>=1.4.1 in /usr/local/lib/python3.9/dist-packages (from adversarial-robustness-toolbox) (1.10.1)\n",
            "Requirement already satisfied: tqdm in /usr/local/lib/python3.9/dist-packages (from adversarial-robustness-toolbox) (4.65.0)\n",
            "Requirement already satisfied: numpy>=1.18.0 in /usr/local/lib/python3.9/dist-packages (from adversarial-robustness-toolbox) (1.22.4)\n",
            "Collecting scikit-learn<1.2.0,>=0.22.2\n",
            "  Downloading scikit_learn-1.1.3-cp39-cp39-manylinux_2_17_x86_64.manylinux2014_x86_64.whl (30.8 MB)\n",
            "\u001b[2K     \u001b[90m━━━━━━━━━━━━━━━━━━━━━━━━━━━━━━━━━━━━━━━━\u001b[0m \u001b[32m30.8/30.8 MB\u001b[0m \u001b[31m28.1 MB/s\u001b[0m eta \u001b[36m0:00:00\u001b[0m\n",
            "\u001b[?25hRequirement already satisfied: setuptools in /usr/local/lib/python3.9/dist-packages (from adversarial-robustness-toolbox) (67.6.1)\n",
            "Requirement already satisfied: joblib>=1.0.0 in /usr/local/lib/python3.9/dist-packages (from scikit-learn<1.2.0,>=0.22.2->adversarial-robustness-toolbox) (1.2.0)\n",
            "Requirement already satisfied: threadpoolctl>=2.0.0 in /usr/local/lib/python3.9/dist-packages (from scikit-learn<1.2.0,>=0.22.2->adversarial-robustness-toolbox) (3.1.0)\n",
            "Installing collected packages: scikit-learn, adversarial-robustness-toolbox\n",
            "  Attempting uninstall: scikit-learn\n",
            "    Found existing installation: scikit-learn 1.2.2\n",
            "    Uninstalling scikit-learn-1.2.2:\n",
            "      Successfully uninstalled scikit-learn-1.2.2\n",
            "Successfully installed adversarial-robustness-toolbox-1.14.0 scikit-learn-1.1.3\n"
          ]
        }
      ]
    },
    {
      "cell_type": "markdown",
      "metadata": {
        "id": "-Chfd_1nB14m"
      },
      "source": [
        "We have already preprocessed the dataset such that all categorical features are one-hot encoded, and the data was scaled using sklearn's StandardScaler."
      ]
    },
    {
      "cell_type": "code",
      "execution_count": null,
      "metadata": {
        "id": "F-nPBExpB14n"
      },
      "outputs": [],
      "source": [
        "import os\n",
        "import sys\n",
        "sys.path.insert(0, os.path.abspath('..'))"
      ]
    },
    {
      "cell_type": "markdown",
      "metadata": {
        "id": "PsB0a0zsB14o"
      },
      "source": [
        "## Load data"
      ]
    },
    {
      "cell_type": "code",
      "execution_count": null,
      "metadata": {
        "id": "SuI0VUNIB14p"
      },
      "outputs": [],
      "source": [
        "from art.utils import load_nursery\n",
        "(x_train, y_train), (x_test, y_test), _, _ = load_nursery(test_set=0.5)"
      ]
    },
    {
      "cell_type": "markdown",
      "metadata": {
        "id": "0Qeruy4IB14p"
      },
      "source": [
        "## Train random forest model"
      ]
    },
    {
      "cell_type": "code",
      "execution_count": null,
      "metadata": {
        "id": "yyyPE5hhB14q",
        "colab": {
          "base_uri": "https://localhost:8080/"
        },
        "outputId": "1ced561d-db51-487d-d31f-48803137f77b"
      },
      "outputs": [
        {
          "output_type": "stream",
          "name": "stdout",
          "text": [
            "Base model accuracy:  0.9745291756715035\n"
          ]
        }
      ],
      "source": [
        "from sklearn.ensemble import RandomForestClassifier\n",
        "\n",
        "\n",
        "model = RandomForestClassifier() # Define random forest model using RandomForestClassifier\n",
        "model.fit(x_train, y_train) # Evalutation\n",
        "print('Base model accuracy: ', model.score(x_test, y_test ))"
      ]
    },
    {
      "cell_type": "markdown",
      "metadata": {
        "id": "etyUjR1yB14r"
      },
      "source": [
        "## Attack\n",
        "### Rule-based attack\n",
        "The rule-based attack uses the simple rule to determine membership in the training data: if the model's prediction for a sample is correct, then it is a member. Otherwise, it is not a member."
      ]
    },
    {
      "cell_type": "code",
      "execution_count": null,
      "metadata": {
        "id": "38o6fOJ4B14t",
        "colab": {
          "base_uri": "https://localhost:8080/"
        },
        "outputId": "3a65c55d-1a77-433f-ce05-ecccda78b5c2"
      },
      "outputs": [
        {
          "output_type": "stream",
          "name": "stderr",
          "text": [
            "/usr/local/lib/python3.9/dist-packages/sklearn/utils/deprecation.py:103: FutureWarning: Attribute `n_features_` was deprecated in version 1.0 and will be removed in 1.2. Use `n_features_in_` instead.\n",
            "  warnings.warn(msg, category=FutureWarning)\n"
          ]
        },
        {
          "output_type": "stream",
          "name": "stdout",
          "text": [
            "Members Accuracy: 1.0000\n",
            "Non Members Accuracy 0.0255\n",
            "Attack Accuracy 0.5127\n"
          ]
        }
      ],
      "source": [
        "import numpy as np\n",
        "from art.estimators.classification.scikitlearn import ScikitlearnRandomForestClassifier\n",
        "from art.attacks.inference.membership_inference import MembershipInferenceBlackBoxRuleBased\n",
        "\n",
        "art_classifier = ScikitlearnRandomForestClassifier(model) # use ScikitlearnRandomForestClassifier in art\n",
        "attack = MembershipInferenceBlackBoxRuleBased(art_classifier) # define the attack object using MembershipInferenceBlackBoxRuleBased\n",
        "\n",
        "# infer attacked feature\n",
        "inferred_train = attack.infer(x_train, y_train)\n",
        "inferred_test = attack.infer(x_test, y_test)\n",
        "\n",
        "# check accuracy\n",
        "train_acc = np.sum(inferred_train) / len(inferred_train)\n",
        "test_acc = 1 - (np.sum(inferred_test) / len(inferred_test))\n",
        "acc = (train_acc * len(inferred_train) + test_acc * len(inferred_test)) / (len(inferred_train) + len(inferred_test))\n",
        "print(f\"Members Accuracy: {train_acc:.4f}\")\n",
        "print(f\"Non Members Accuracy {test_acc:.4f}\")\n",
        "print(f\"Attack Accuracy {acc:.4f}\")"
      ]
    },
    {
      "cell_type": "markdown",
      "metadata": {
        "id": "MeSWrqJ9B14v"
      },
      "source": [
        "This means that on average for 51% of the data, membership status is inferred correctly."
      ]
    },
    {
      "cell_type": "code",
      "execution_count": null,
      "metadata": {
        "id": "cKoXAJxvB14v",
        "colab": {
          "base_uri": "https://localhost:8080/"
        },
        "outputId": "24ad674b-eca1-437f-a3d2-43ea3f1468ef"
      },
      "outputs": [
        {
          "output_type": "stream",
          "name": "stdout",
          "text": [
            "(0.506449847549058, 1.0)\n"
          ]
        }
      ],
      "source": [
        "def calc_precision_recall(predicted, actual, positive_value=1):\n",
        "    score = 0  # both predicted and actual are positive\n",
        "    num_positive_predicted = 0  # predicted positive\n",
        "    num_positive_actual = 0  # actual positive\n",
        "    for i in range(len(predicted)):\n",
        "        if predicted[i] == positive_value:\n",
        "            num_positive_predicted += 1\n",
        "        if actual[i] == positive_value:\n",
        "            num_positive_actual += 1\n",
        "        if predicted[i] == actual[i]:\n",
        "            if predicted[i] == positive_value:\n",
        "                score += 1\n",
        "\n",
        "    if num_positive_predicted == 0:\n",
        "        precision = 1\n",
        "    else:\n",
        "        precision = score / num_positive_predicted  # the fraction of predicted “Yes” responses that are correct\n",
        "    if num_positive_actual == 0:\n",
        "        recall = 1\n",
        "    else:\n",
        "        recall = score / num_positive_actual  # the fraction of “Yes” responses that are predicted correctly\n",
        "\n",
        "    return precision, recall\n",
        "\n",
        "# rule-based\n",
        "print(calc_precision_recall(np.concatenate((inferred_train, inferred_test)),\n",
        "                            np.concatenate((np.ones(len(inferred_train)), np.zeros(len(inferred_test)))))) # using the infer attacked features to calculate the precision and recall of the membership attack"
      ]
    },
    {
      "cell_type": "markdown",
      "metadata": {
        "id": "JN6X733UB14x"
      },
      "source": [
        "### Black-box attack\n",
        "The black-box attack basically trains an additional classifier (called the attack model) to predict the membership status of a sample. It can use as input to the learning process probabilities/logits or losses, depending on the type of model and provided configuration.\n",
        "#### Train attack model"
      ]
    },
    {
      "cell_type": "code",
      "execution_count": null,
      "metadata": {
        "id": "r_imkLyoB14x"
      },
      "outputs": [],
      "source": [
        "from art.attacks.inference.membership_inference import MembershipInferenceBlackBox\n",
        "\n",
        "attack_train_ratio = 0.5\n",
        "attack_test_ratio = 0.5\n",
        "attack_train_size = int(len(x_train) * attack_train_ratio)\n",
        "attack_test_size = int(len(x_test) * attack_test_ratio)\n",
        "\n",
        "# Define the black-box membership inference attack\n",
        "bb_attack = MembershipInferenceBlackBox(art_classifier) # using MembershipInferenceBlackBox function\n",
        "\n",
        "# train attack model\n",
        "bb_attack.fit(x_train[:attack_train_size], y_train[:attack_train_size],\n",
        "              x_test[:attack_test_size], y_test[:attack_test_size])"
      ]
    },
    {
      "cell_type": "markdown",
      "metadata": {
        "id": "YbLPSxPmB14y"
      },
      "source": [
        "#### Infer membership and check accuracy"
      ]
    },
    {
      "cell_type": "code",
      "execution_count": null,
      "metadata": {
        "scrolled": true,
        "id": "cwT6cMoVB14y",
        "colab": {
          "base_uri": "https://localhost:8080/"
        },
        "outputId": "0c5f1add-f43c-4086-c0b5-e3491d3b1bd2"
      },
      "outputs": [
        {
          "output_type": "stream",
          "name": "stdout",
          "text": [
            "Members Accuracy: 0.7181\n",
            "Non Members Accuracy 0.6064\n",
            "Attack Accuracy 0.6622\n"
          ]
        }
      ],
      "source": [
        "# get inferred values\n",
        "inferred_train_bb = bb_attack.infer(x_train[attack_train_size:], y_train[attack_train_size:])\n",
        "inferred_test_bb = bb_attack.infer(x_test[attack_test_size:], y_test[attack_test_size:])\n",
        "\n",
        "# check accuracy\n",
        "train_acc = np.sum(inferred_train_bb) / len(inferred_train_bb)\n",
        "test_acc = 1 - (np.sum(inferred_test_bb) / len(inferred_test_bb))\n",
        "acc = (train_acc * len(inferred_train_bb) + test_acc * len(inferred_test_bb)) / (len(inferred_train_bb) + len(inferred_test_bb))\n",
        "print(f\"Members Accuracy: {train_acc:.4f}\")\n",
        "print(f\"Non Members Accuracy {test_acc:.4f}\")\n",
        "print(f\"Attack Accuracy {acc:.4f}\")"
      ]
    },
    {
      "cell_type": "markdown",
      "metadata": {
        "id": "k_ytet7EB14z"
      },
      "source": [
        "Achieves much better results than the rule-based attack."
      ]
    },
    {
      "cell_type": "code",
      "execution_count": null,
      "metadata": {
        "id": "QoGHMLluB14z",
        "colab": {
          "base_uri": "https://localhost:8080/"
        },
        "outputId": "0c807e75-5e45-4e95-9b29-30678e0b7cef"
      },
      "outputs": [
        {
          "output_type": "stream",
          "name": "stdout",
          "text": [
            "(0.645931685642877, 0.718122877431306)\n"
          ]
        }
      ],
      "source": [
        "# black-box\n",
        "print(calc_precision_recall(np.concatenate((inferred_train_bb, inferred_test_bb)),\n",
        "                            np.concatenate((np.ones(len(inferred_train_bb)), np.zeros(len(inferred_test_bb))))))"
      ]
    },
    {
      "cell_type": "markdown",
      "metadata": {
        "id": "qU6GcvmBB141"
      },
      "source": [
        "## Train neural network model"
      ]
    },
    {
      "cell_type": "code",
      "execution_count": null,
      "metadata": {
        "id": "rE3755GWB141"
      },
      "outputs": [],
      "source": [
        "import torch\n",
        "from torch import nn, optim\n",
        "from torch.utils.data import DataLoader\n",
        "from torch.utils.data.dataset import Dataset\n",
        "from art.estimators.classification.pytorch import PyTorchClassifier\n",
        "\n",
        "# reduce size of training set to make attack slightly better\n",
        "train_set_size = 500\n",
        "x_train = x_train[:train_set_size]\n",
        "y_train = y_train[:train_set_size]\n",
        "x_test = x_test[:train_set_size]\n",
        "y_test = y_test[:train_set_size]\n",
        "attack_train_size = int(len(x_train) * attack_train_ratio)\n",
        "attack_test_size = int(len(x_test) * attack_train_ratio)\n",
        "\n",
        "\n",
        "class NurseryDataset(Dataset):\n",
        "    def __init__(self, x, y=None):\n",
        "        self.x = torch.from_numpy(x.astype(np.float64)).type(torch.FloatTensor)\n",
        "\n",
        "        if y is not None:\n",
        "            self.y = torch.from_numpy(y.astype(np.int8)).type(torch.LongTensor)\n",
        "        else:\n",
        "            self.y = torch.zeros(x.shape[0])\n",
        "\n",
        "    def __len__(self):\n",
        "        return len(self.x)\n",
        "\n",
        "    def __getitem__(self, idx):\n",
        "        if idx >= len(self.x):\n",
        "            raise IndexError(\"Invalid Index\")\n",
        "\n",
        "        return self.x[idx], self.y[idx]\n",
        "\n",
        "train_set = NurseryDataset(x_train, y_train)\n",
        "train_loader = DataLoader(train_set, batch_size=100, shuffle=True, num_workers=0)\n",
        "\n",
        "device = torch.device(\"cpu\")"
      ]
    },
    {
      "cell_type": "code",
      "source": [
        "# Define the neural network model\n",
        "class ModelToAttack(nn.Module):\n",
        "\n",
        "    def __init__(self, num_classes, num_features):\n",
        "        super(ModelToAttack, self).__init__()\n",
        "\n",
        "        self.fc1 = nn.Sequential(\n",
        "                nn.Linear(num_features, 1024),\n",
        "                nn.Tanh(), )\n",
        "\n",
        "        self.fc2 = nn.Sequential(\n",
        "                nn.Linear(1024, 512),\n",
        "                nn.Tanh(), )\n",
        "\n",
        "        self.fc3 = nn.Sequential(\n",
        "            nn.Linear(512, 256),\n",
        "            nn.Tanh(), )\n",
        "\n",
        "        self.fc4 = nn.Sequential(\n",
        "            nn.Linear(256, 128),\n",
        "            nn.Tanh(),\n",
        "        )\n",
        "\n",
        "        self.classifier = nn.Linear(128, num_classes)\n",
        "\n",
        "    def forward(self, x):\n",
        "        out = self.fc1(x)\n",
        "        out = self.fc2(out)\n",
        "        out = self.fc3(out)\n",
        "        out = self.fc4(out)\n",
        "        return self.classifier(out)"
      ],
      "metadata": {
        "id": "GmXebo86kM12"
      },
      "execution_count": null,
      "outputs": []
    },
    {
      "cell_type": "code",
      "source": [
        "# train the nn model\n",
        "mlp_model = ModelToAttack(4, 24)\n",
        "mlp_model = torch.nn.DataParallel(mlp_model)\n",
        "criterion = nn.CrossEntropyLoss()\n",
        "optimizer = optim.Adam(mlp_model.parameters(), lr=0.01)\n",
        "\n",
        "for epoch in range(20):\n",
        "    for (input, targets) in train_loader:\n",
        "        input, targets = torch.autograd.Variable(input), torch.autograd.Variable(targets)\n",
        "\n",
        "        targets = targets.to(device)\n",
        "\n",
        "        optimizer.zero_grad()\n",
        "        outputs = mlp_model(input)\n",
        "        outputs = outputs.to(device)\n",
        "        loss = criterion(outputs, targets)\n",
        "\n",
        "        loss.backward()\n",
        "        optimizer.step()\n",
        "\n",
        "\n",
        "mlp_art_model = PyTorchClassifier(model=mlp_model, loss=criterion, optimizer=optimizer, input_shape=(24,), nb_classes=4)\n",
        "\n",
        "train_pred = np.array([np.argmax(arr) for arr in mlp_art_model.predict(x_train.astype(np.float32))])\n",
        "print('Base model Train accuracy: ', np.sum(train_pred == y_train) / len(y_train))\n",
        "\n",
        "test_pred = np.array([np.argmax(arr) for arr in mlp_art_model.predict(x_test.astype(np.float32))])\n",
        "print('Base model Test accuracy: ', np.sum(test_pred == y_test) / len(y_test))"
      ],
      "metadata": {
        "id": "JBR1L5FSkdkO",
        "colab": {
          "base_uri": "https://localhost:8080/"
        },
        "outputId": "98bc9808-2bb6-4a9f-c427-5a3cec788630"
      },
      "execution_count": null,
      "outputs": [
        {
          "output_type": "stream",
          "name": "stdout",
          "text": [
            "Base model Train accuracy:  0.998\n",
            "Base model Test accuracy:  0.932\n"
          ]
        }
      ]
    },
    {
      "cell_type": "markdown",
      "metadata": {
        "id": "fcd4kYB4B142"
      },
      "source": [
        "### Rule-based attack"
      ]
    },
    {
      "cell_type": "code",
      "execution_count": null,
      "metadata": {
        "id": "CM_65iiwB142",
        "colab": {
          "base_uri": "https://localhost:8080/"
        },
        "outputId": "ad92d9fd-ab06-447f-bcf0-1db91efa6847"
      },
      "outputs": [
        {
          "output_type": "stream",
          "name": "stdout",
          "text": [
            "0.998\n",
            "0.06799999999999995\n",
            "0.533\n",
            "(0.5170984455958549, 0.998)\n"
          ]
        }
      ],
      "source": [
        "mlp_attack = MembershipInferenceBlackBoxRuleBased(mlp_art_model)\n",
        "\n",
        "# infer\n",
        "mlp_inferred_train = mlp_attack.infer(x_train.astype(np.float32), y_train)\n",
        "mlp_inferred_test = mlp_attack.infer(x_test.astype(np.float32), y_test)\n",
        "\n",
        "# check accuracy\n",
        "mlp_train_acc = np.sum(mlp_inferred_train) / len(mlp_inferred_train)\n",
        "mlp_test_acc = 1 - (np.sum(mlp_inferred_test) / len(mlp_inferred_test))\n",
        "mlp_acc = (mlp_train_acc * len(mlp_inferred_train) + mlp_test_acc * len(mlp_inferred_test)) / (len(mlp_inferred_train) + len(mlp_inferred_test))\n",
        "print(mlp_train_acc)\n",
        "print(mlp_test_acc)\n",
        "print(mlp_acc)\n",
        "\n",
        "print(calc_precision_recall(np.concatenate((mlp_inferred_train, mlp_inferred_test)),\n",
        "                            np.concatenate((np.ones(len(mlp_inferred_train)), np.zeros(len(mlp_inferred_test))))))"
      ]
    },
    {
      "cell_type": "markdown",
      "metadata": {
        "id": "KcW6lY87B143"
      },
      "source": [
        "### Black-box attack"
      ]
    },
    {
      "cell_type": "code",
      "execution_count": null,
      "metadata": {
        "id": "JKUK_VY8B144",
        "colab": {
          "base_uri": "https://localhost:8080/"
        },
        "outputId": "47d645e8-d6bf-4833-9760-c2d7debdc0bf"
      },
      "outputs": [
        {
          "output_type": "stream",
          "name": "stdout",
          "text": [
            "Members Accuracy: 0.5440\n",
            "Non Members Accuracy 0.5160\n",
            "Attack Accuracy 0.5300\n",
            "(0.5291828793774319, 0.544)\n"
          ]
        }
      ],
      "source": [
        "mlp_attack_bb = MembershipInferenceBlackBox(mlp_art_model, attack_model_type='rf')\n",
        "\n",
        "# train attack model\n",
        "mlp_attack_bb.fit(x_train[:attack_train_size].astype(np.float32), y_train[:attack_train_size],\n",
        "              x_test[:attack_test_size].astype(np.float32), y_test[:attack_test_size])\n",
        "\n",
        "# infer\n",
        "mlp_inferred_train_bb = mlp_attack_bb.infer(x_train[attack_train_size:].astype(np.float32), y_train[attack_train_size:])\n",
        "mlp_inferred_test_bb = mlp_attack_bb.infer(x_test[attack_test_size:].astype(np.float32), y_test[attack_test_size:])\n",
        "\n",
        "# check accuracy\n",
        "mlp_train_acc_bb = np.sum(mlp_inferred_train_bb) / len(mlp_inferred_train_bb)\n",
        "mlp_test_acc_bb = 1 - (np.sum(mlp_inferred_test_bb) / len(mlp_inferred_test_bb))\n",
        "mlp_acc_bb = (mlp_train_acc_bb * len(mlp_inferred_train_bb) + mlp_test_acc_bb * len(mlp_inferred_test_bb)) / (len(mlp_inferred_train_bb) + len(mlp_inferred_test_bb))\n",
        "\n",
        "print(f\"Members Accuracy: {mlp_train_acc_bb:.4f}\")\n",
        "print(f\"Non Members Accuracy {mlp_test_acc_bb:.4f}\")\n",
        "print(f\"Attack Accuracy {mlp_acc_bb:.4f}\")\n",
        "\n",
        "print(calc_precision_recall(np.concatenate((mlp_inferred_train_bb, mlp_inferred_test_bb)),\n",
        "                            np.concatenate((np.ones(len(mlp_inferred_train_bb)), np.zeros(len(mlp_inferred_test_bb))))))"
      ]
    },
    {
      "cell_type": "code",
      "execution_count": null,
      "metadata": {
        "id": "V4ZIZ96GB146",
        "colab": {
          "base_uri": "https://localhost:8080/"
        },
        "outputId": "06b72fda-5246-4b73-fb71-e4f0bf2ebbbc"
      },
      "outputs": [
        {
          "output_type": "stream",
          "name": "stdout",
          "text": [
            "              precision    recall  f1-score   support\n",
            "\n",
            "         0.0       0.53      0.52      0.52       250\n",
            "         1.0       0.53      0.54      0.54       250\n",
            "\n",
            "    accuracy                           0.53       500\n",
            "   macro avg       0.53      0.53      0.53       500\n",
            "weighted avg       0.53      0.53      0.53       500\n",
            "\n"
          ]
        }
      ],
      "source": [
        "from sklearn.metrics import classification_report\n",
        "\n",
        "y_train_pred = np.concatenate((mlp_inferred_train_bb, mlp_inferred_test_bb))\n",
        "y_train_true = np.concatenate((np.ones_like(mlp_inferred_train_bb), np.zeros_like(mlp_inferred_test_bb)))\n",
        "print(classification_report(y_pred=y_train_pred, y_true=y_train_true))"
      ]
    },
    {
      "cell_type": "markdown",
      "metadata": {
        "id": "cEVyq3fBB147"
      },
      "source": [
        "For the pytorch target model we were able to achieve slightly better than random attack performance, but not as good as for the random forest model."
      ]
    },
    {
      "cell_type": "markdown",
      "metadata": {
        "id": "6qmHlCfAB147"
      },
      "source": [
        "### Worst Case vs Average Case evaluation for Black-Box Attack"
      ]
    },
    {
      "cell_type": "code",
      "execution_count": null,
      "metadata": {
        "id": "dUgoP-QgB148",
        "colab": {
          "base_uri": "https://localhost:8080/"
        },
        "outputId": "bef10a32-d4e8-4557-d1bf-28cfc2d40a53"
      },
      "outputs": [
        {
          "output_type": "stream",
          "name": "stdout",
          "text": [
            "tpr=0.008: fpr=0.004: threshold=0.99\n"
          ]
        }
      ],
      "source": [
        "from art.metrics.privacy.worst_case_mia_score import get_roc_for_fpr\n",
        "\n",
        "# we run the worst case metric on trainset to find an appropriate threshold\n",
        "# Black Box\n",
        "bb_members_test_prob = mlp_attack_bb.infer(x_train[attack_train_size:].astype(np.float32), y_train[attack_train_size:], probabilities=True)\n",
        "bb_nonmembers_test_prob = mlp_attack_bb.infer(x_test[attack_test_size:].astype(np.float32), y_test[attack_test_size:], probabilities=True)\n",
        "\n",
        "bb_mia_test_probs = np.concatenate((np.squeeze(bb_members_test_prob, axis=-1),\n",
        "                               np.squeeze(bb_nonmembers_test_prob, axis=-1)))\n",
        "\n",
        "bb_mia_test_labels = np.concatenate((np.ones_like(y_train[:attack_train_size]), np.zeros_like(y_test[:attack_test_size])))\n",
        "# We allow 1% FPR\n",
        "fpr, tpr, threshold = get_roc_for_fpr(attack_proba=bb_mia_test_probs, attack_true=bb_mia_test_labels, targeted_fpr=0.01)[0]\n",
        "print(f'{tpr=}: {fpr=}: {threshold=}')"
      ]
    },
    {
      "cell_type": "code",
      "source": [
        "from sklearn.metrics import roc_curve\n",
        "import matplotlib.pyplot as plt\n",
        "\n",
        "fpr, tpr, _ = roc_curve(y_score=bb_mia_test_probs, y_true=bb_mia_test_labels)\n",
        "plt.figure()\n",
        "plt.plot(fpr, tpr, color=\"darkorange\", linewidth =2, label=\"ROC curve\")\n",
        "plt.plot([0, 1], [0, 1], color=\"navy\", linewidth =2, linestyle=\"--\", label='No skills')\n",
        "plt.xlim([0.0, 1.0])\n",
        "plt.ylim([0.0, 1.0])\n",
        "plt.xlabel(\"False Positive Rate\")\n",
        "plt.ylabel(\"True Positive Rate\")\n",
        "plt.title(\"Receiver operating characteristic example\")\n",
        "plt.legend(loc=\"lower right\")\n",
        "plt.show()"
      ],
      "metadata": {
        "colab": {
          "base_uri": "https://localhost:8080/",
          "height": 472
        },
        "id": "d1iuCpyxUY3s",
        "outputId": "2a37665a-eff1-4dba-82df-8630560e8c9a"
      },
      "execution_count": null,
      "outputs": [
        {
          "output_type": "display_data",
          "data": {
            "text/plain": [
              "<Figure size 640x480 with 1 Axes>"
            ],
            "image/png": "[encoded data removed]"
          },
          "metadata": {}
        }
      ]
    },
    {
      "cell_type": "markdown",
      "metadata": {
        "id": "DSVP-FWfB14-"
      },
      "source": [
        "### Worst Case per Class evaluation for Black-Box Attack"
      ]
    },
    {
      "cell_type": "code",
      "execution_count": null,
      "metadata": {
        "colab": {
          "base_uri": "https://localhost:8080/"
        },
        "id": "VOMVmhWzB14-",
        "outputId": "963aea63-1be7-45ee-9459-dbfc681ee75e"
      },
      "outputs": [
        {
          "output_type": "stream",
          "name": "stdout",
          "text": [
            "Class 0: tpr=0.0000: fpr=0.0000: threshold=1.9800\n",
            "Class 1: tpr=0.1667: fpr=0.0000: threshold=0.9900\n",
            "Class 2: tpr=0.0109: fpr=0.0000: threshold=0.9600\n",
            "Class 3: tpr=0.0000: fpr=0.0000: threshold=1.9900\n"
          ]
        }
      ],
      "source": [
        "# We allow 1% FPR\n",
        "target_labels = np.concatenate((y_train[attack_train_size:], y_test[attack_test_size:]))\n",
        "results = get_roc_for_fpr(attack_proba=bb_mia_test_probs, attack_true=bb_mia_test_labels, targeted_fpr=0.01, target_model_labels=target_labels)\n",
        "for v, fpr, tpr, threshold in results:\n",
        "    print(f'Class {v}: {tpr=:.4f}: {fpr=:.4f}: {threshold=:.4f}')"
      ]
    }
  ],
  "metadata": {
    "kernelspec": {
      "display_name": "Python 3",
      "language": "python",
      "name": "python3"
    },
    "language_info": {
      "codemirror_mode": {
        "name": "ipython",
        "version": 3
      },
      "file_extension": ".py",
      "mimetype": "text/x-python",
      "name": "python",
      "nbconvert_exporter": "python",
      "pygments_lexer": "ipython3",
      "version": "3.8.5"
    },
    "colab": {
      "provenance": []
    },
    "accelerator": "GPU",
    "gpuClass": "standard"
  },
  "nbformat": 4,
  "nbformat_minor": 0
}