{
  "nbformat": 4,
  "nbformat_minor": 0,
  "metadata": {
    "colab": {
      "provenance": []
    },
    "kernelspec": {
      "name": "python3",
      "display_name": "Python 3"
    },
    "language_info": {
      "name": "python"
    },
    "accelerator": "GPU",
    "gpuClass": "standard"
  },
  "cells": [
    {
      "cell_type": "code",
      "source": [
        "#Using pyhelayers package developed by IBM\n",
        "!pip install pyhelayers"
      ],
      "metadata": {
        "colab": {
          "base_uri": "https://localhost:8080/"
        },
        "id": "7Dc_-Om_C_Pa",
        "outputId": "eaf9b3de-6e0c-4b13-d75f-6e2175d02b23"
      },
      "execution_count": null,
      "outputs": [
        {
          "output_type": "stream",
          "name": "stdout",
          "text": [
            "Looking in indexes: https://pypi.org/simple, https://us-python.pkg.dev/colab-wheels/public/simple/\n",
            "Requirement already satisfied: pyhelayers in /usr/local/lib/python3.9/dist-packages (1.4.0.4)\n",
            "Requirement already satisfied: numpy>=1.14.5 in /usr/local/lib/python3.9/dist-packages (from pyhelayers) (1.22.4)\n"
          ]
        }
      ]
    },
    {
      "cell_type": "code",
      "execution_count": null,
      "metadata": {
        "id": "ev_w3ea8B4L1"
      },
      "outputs": [],
      "source": [
        "#importing all the required packages\n",
        "from keras.models import Sequential\n",
        "from keras.backend import square\n",
        "from keras.optimizers import Adam\n",
        "from keras.utils import to_categorical\n",
        "from keras.callbacks import ModelCheckpoint\n",
        "from keras.layers import Conv2D, Flatten, Dense\n",
        "import json\n",
        "import h5py\n",
        "import numpy as np\n",
        "from keras.datasets import mnist\n",
        "from sklearn.model_selection import train_test_split\n",
        "import pyhelayers"
      ]
    },
    {
      "cell_type": "code",
      "source": [
        "#Build a plain neural network for classifying the MNIST\n",
        "\n",
        "# Load the MNIST dataset\n",
        "(X_train_images, y_train_labels), (X_test, y_test) = mnist.load_data()\n",
        "\n",
        "# Normalize the data\n",
        "X_train_images = X_train_images / 255.0\n",
        "X_test = X_test / 255.0\n",
        "\n",
        "# Add a channel dimension of size 1\n",
        "X_train_images = X_train_images.reshape((-1, 28, 28, 1)).astype('float32')\n",
        "X_test = X_test.reshape((-1, 28, 28, 1)).astype('float32')\n"
      ],
      "metadata": {
        "id": "7KdJoT9zDRfQ"
      },
      "execution_count": null,
      "outputs": []
    },
    {
      "cell_type": "code",
      "source": [
        "# Pad the images with zeros to a size of 29x29\n",
        "\n",
        "X_train_images = np.pad(X_train_images, ((0, 0), (0, 1), (0, 1), (0, 0)), mode='constant')\n",
        "X_test = np.pad(X_test, ((0, 0), (0, 1), (0, 1), (0, 0)), mode='constant')\n",
        "y_train_labels = to_categorical(y_train_labels)\n",
        "y_test = to_categorical(y_test)"
      ],
      "metadata": {
        "id": "BICXowlVDrk_"
      },
      "execution_count": null,
      "outputs": []
    },
    {
      "cell_type": "code",
      "source": [
        "#Split the dataset to train, test, and validation sets, which validation set is a subset of random 20 samples of the test set.\n",
        "x_test, x_val, y_test, y_val = train_test_split(X_test, y_test, test_size=20, random_state=42)\n",
        "\n",
        "# Save each dataset as an h5 file\n",
        "with h5py.File(\"X_train_images.h5\", 'w') as f:\n",
        "    f.create_dataset('X_train_images', data=X_train_images)\n",
        "with h5py.File(\"y_train_labels.h5\", 'w') as f:\n",
        "    f.create_dataset('y_train_labels', data=X_train_images)\n",
        "\n",
        "with h5py.File(\"x_test.h5\", 'w') as f:\n",
        "    f.create_dataset('x_test', data=x_test)\n",
        "with h5py.File(\"y_test.h5\", 'w') as f:\n",
        "    f.create_dataset('y_test', data=y_test)\n",
        "\n",
        "with h5py.File(\"x_val.h5\", 'w') as f:\n",
        "    f.create_dataset('x_val', data=x_val)\n",
        "with h5py.File(\"y_val.h5\", 'w') as f:\n",
        "    f.create_dataset('y_val', data=y_val)\n"
      ],
      "metadata": {
        "id": "CqHfjZV3EArC"
      },
      "execution_count": null,
      "outputs": []
    },
    {
      "cell_type": "code",
      "source": [
        "#Define model\n",
        "import torch.nn as nn\n",
        "\n",
        "class MyModel(nn.Module):\n",
        "    def __init__(self, num_classes):\n",
        "        super(MyModel, self).__init__()\n",
        "        self.conv1 = nn.Conv2d(in_channels=3, out_channels=5, kernel_size=5, stride=2)\n",
        "        self.fc1 = nn.Linear(in_features=5*13*13, out_features=100)\n",
        "        self.fc2 = nn.Linear(in_features=100, out_features=num_classes)\n",
        "\n",
        "    def forward(self, x):\n",
        "        x = self.conv1(x)\n",
        "        x = x*x\n",
        "        x = nn.functional.max_pool2d(x, 2)\n",
        "        x = x.view(-1, 5*13*13)\n",
        "        x = self.fc1(x)\n",
        "        x = x*x\n",
        "        x = self.fc2(x)\n",
        "\n",
        "        return x\n"
      ],
      "metadata": {
        "id": "RWdsBPdcFoDV"
      },
      "execution_count": null,
      "outputs": []
    },
    {
      "cell_type": "code",
      "source": [
        "# Define the model\n",
        "model = Sequential()\n",
        "model.add(Conv2D(filters=5, kernel_size=(5, 5), strides=(2, 2), padding='same', activation=square, input_shape=(29, 29, 1)))\n",
        "model.add(Flatten())\n",
        "model.add(Dense(units=100, activation=square))\n",
        "model.add(Dense(units=10, activation='softmax'))\n",
        "model.compile(optimizer=Adam(learning_rate=0.002), loss='categorical_crossentropy', metrics=['accuracy'])\n",
        "model.summary()"
      ],
      "metadata": {
        "colab": {
          "base_uri": "https://localhost:8080/"
        },
        "id": "Ud2eA0iOIZI1",
        "outputId": "f1fd22af-842f-4650-e5ea-8e66fb9133f2"
      },
      "execution_count": null,
      "outputs": [
        {
          "output_type": "stream",
          "name": "stdout",
          "text": [
            "Model: \"sequential\"\n",
            "_________________________________________________________________\n",
            " Layer (type)                Output Shape              Param #   \n",
            "=================================================================\n",
            " conv2d (Conv2D)             (None, 15, 15, 5)         130       \n",
            "                                                                 \n",
            " flatten (Flatten)           (None, 1125)              0         \n",
            "                                                                 \n",
            " dense (Dense)               (None, 100)               112600    \n",
            "                                                                 \n",
            " dense_1 (Dense)             (None, 10)                1010      \n",
            "                                                                 \n",
            "=================================================================\n",
            "Total params: 113,740\n",
            "Trainable params: 113,740\n",
            "Non-trainable params: 0\n",
            "_________________________________________________________________\n"
          ]
        }
      ]
    },
    {
      "cell_type": "code",
      "source": [
        "\n",
        "# Train the model for 10 epochs and save the weights to a file\n",
        "checkpoint = ModelCheckpoint('model_weights.h5', save_best_only=True, save_weights_only=True)\n",
        "history = model.fit(X_train_images, y_train_labels, epochs=10, batch_size=32, validation_data=(x_test, y_test), callbacks=[checkpoint])\n"
      ],
      "metadata": {
        "colab": {
          "base_uri": "https://localhost:8080/"
        },
        "id": "l5AqG6ibGV9B",
        "outputId": "efea012e-a86c-4a31-e0ad-05ed82835e47"
      },
      "execution_count": null,
      "outputs": [
        {
          "output_type": "stream",
          "name": "stdout",
          "text": [
            "Epoch 1/10\n",
            "1875/1875 [==============================] - 9s 4ms/step - loss: 0.1754 - accuracy: 0.9524 - val_loss: 0.0886 - val_accuracy: 0.9739\n",
            "Epoch 2/10\n",
            "1875/1875 [==============================] - 7s 4ms/step - loss: 0.0648 - accuracy: 0.9809 - val_loss: 0.0625 - val_accuracy: 0.9808\n",
            "Epoch 3/10\n",
            "1875/1875 [==============================] - 8s 4ms/step - loss: 0.0447 - accuracy: 0.9864 - val_loss: 0.0620 - val_accuracy: 0.9815\n",
            "Epoch 4/10\n",
            "1875/1875 [==============================] - 7s 4ms/step - loss: 0.0348 - accuracy: 0.9890 - val_loss: 0.0649 - val_accuracy: 0.9818\n",
            "Epoch 5/10\n",
            "1875/1875 [==============================] - 8s 4ms/step - loss: 0.0293 - accuracy: 0.9912 - val_loss: 0.0795 - val_accuracy: 0.9824\n",
            "Epoch 6/10\n",
            "1875/1875 [==============================] - 7s 4ms/step - loss: 0.0246 - accuracy: 0.9922 - val_loss: 0.0791 - val_accuracy: 0.9822\n",
            "Epoch 7/10\n",
            "1875/1875 [==============================] - 7s 4ms/step - loss: 0.0203 - accuracy: 0.9935 - val_loss: 0.0897 - val_accuracy: 0.9799\n",
            "Epoch 8/10\n",
            "1875/1875 [==============================] - 7s 4ms/step - loss: 0.0191 - accuracy: 0.9944 - val_loss: 0.2241 - val_accuracy: 0.9650\n",
            "Epoch 9/10\n",
            "1875/1875 [==============================] - 7s 4ms/step - loss: 0.0184 - accuracy: 0.9945 - val_loss: 0.0664 - val_accuracy: 0.9835\n",
            "Epoch 10/10\n",
            "1875/1875 [==============================] - 7s 4ms/step - loss: 0.0159 - accuracy: 0.9951 - val_loss: 0.0760 - val_accuracy: 0.9831\n"
          ]
        }
      ]
    },
    {
      "cell_type": "code",
      "source": [
        "# Save the model architecture to a JSON file\n",
        "model_json = model.to_json()\n",
        "with open('architecture.json', 'w') as f:\n",
        "    f.write(model_json)"
      ],
      "metadata": {
        "id": "aA0IzNr9Jn9Q"
      },
      "execution_count": null,
      "outputs": []
    },
    {
      "cell_type": "code",
      "source": [
        "\n",
        "# Print the final validation accuracy\n",
        "val_acc = history.history['val_accuracy'][-1]\n",
        "#print(f'Final validation accuracy: {val_acc:.2f}')"
      ],
      "metadata": {
        "colab": {
          "base_uri": "https://localhost:8080/"
        },
        "id": "KrCvzpjY1zDh",
        "outputId": "2891411d-30b3-42e7-e32d-0c213ff16d23"
      },
      "execution_count": null,
      "outputs": [
        {
          "output_type": "stream",
          "name": "stdout",
          "text": [
            "Final validation accuracy: 0.98\n"
          ]
        }
      ]
    },
    {
      "cell_type": "code",
      "source": [
        "nnp = pyhelayers.NeuralNetPlain()\n",
        "nnp.init_arch_from_json_file(\"architecture.json\")\n",
        "nnp.init_weights_from_hdf5_file(\"model_weights.h5\")\n",
        "\n",
        "context = pyhelayers.DefaultContext()\n",
        "optimizer = pyhelayers.HeProfileOptimizer(nnp, context)\n",
        "optimizer.get_requirements().set_batch_size(16)\n",
        "profile = optimizer.get_optimized_profile(False)\n",
        "batch_size = profile.get_batch_size()"
      ],
      "metadata": {
        "id": "X3nOTog6AUst"
      },
      "execution_count": null,
      "outputs": []
    },
    {
      "cell_type": "code",
      "source": [
        "pf1=pyhelayers.PublicFunctions()\n",
        "pf1.rotate=pyhelayers.RotationSetType.CUSTOM_ROTATIONS\n",
        "pf1.set_rotation_steps([10,100])\n",
        "\n",
        "requirements = profile.requirement\n",
        "requirements.public_functions=pf1\n"
      ],
      "metadata": {
        "id": "cRek304-_OO6"
      },
      "execution_count": null,
      "outputs": []
    },
    {
      "cell_type": "code",
      "source": [
        "context.init(profile.requirement)\n",
        "print('Context ready. Batch size =',batch_size)"
      ],
      "metadata": {
        "id": "oSiNUaUHX09J"
      },
      "execution_count": null,
      "outputs": []
    },
    {
      "cell_type": "code",
      "source": [
        "#Encrypt the loaded model using created context.\n",
        "nn = pyhelayers.NeuralNet(context)\n",
        "nn.encode_encrypt(nnp, profile)"
      ],
      "metadata": {
        "colab": {
          "base_uri": "https://localhost:8080/"
        },
        "id": "Wxfyd_JCCUpj",
        "outputId": "3adec879-0fc8-486a-bdac-b7ca34dadc25"
      },
      "execution_count": null,
      "outputs": [
        {
          "output_type": "execute_result",
          "data": {
            "text/plain": [
              "Object (detailed printing not implemented yet)"
            ]
          },
          "metadata": {},
          "execution_count": 15
        }
      ]
    },
    {
      "cell_type": "code",
      "source": [
        "#Extract batches of test samples and encrypt them\n",
        "plain_samples = x_test.take(indices=range(0, batch_size), axis=0)\n",
        "labels = y_test.take(indices=range(0, batch_size), axis=0)\n",
        "\n",
        "#Perform the inference of the encrypted model, using encrypted test data.\n",
        "samples = nn.encode_encrypt_input(plain_samples)\n",
        "\n",
        "predictions=nn.predict(samples)\n",
        "plain_predictions = nn.decrypt_decode_output(predictions)"
      ],
      "metadata": {
        "id": "FnODiZCzCbfC"
      },
      "execution_count": null,
      "outputs": []
    },
    {
      "cell_type": "code",
      "source": [
        "np.argmax(labels, axis=1)\n",
        "np.argmax(plain_predictions, axis=1)\n"
      ],
      "metadata": {
        "id": "phWqV1fQClnu",
        "colab": {
          "base_uri": "https://localhost:8080/"
        },
        "outputId": "f21e4301-c97f-48a9-95bf-f3c7264d8784"
      },
      "execution_count": null,
      "outputs": [
        {
          "output_type": "execute_result",
          "data": {
            "text/plain": [
              "array([2, 3, 5, 2, 5, 6, 5, 1, 0, 8, 8, 5, 8, 2, 1, 2])"
            ]
          },
          "metadata": {},
          "execution_count": 20
        }
      ]
    },
    {
      "cell_type": "code",
      "source": [
        "#Latency of inference: by calculating the time difference before, and after performing the inference.\n",
        "\n",
        "import time\n",
        "import numpy as np\n",
        "import tensorflow as tf\n",
        "\n",
        "# Load the machine learning model\n",
        "model = tf.keras.models.load_model('model_weights.h5')\n",
        "\n",
        "# Define a sample input\n",
        "input_data = np.array([[1, 2, 3, 4]])\n",
        "\n",
        "# Measure the latency of inference\n",
        "start_time = time.time()  # Record the start time\n",
        "output = model.predict(input_data)  # Perform the inference\n",
        "end_time = time.time()  # Record the end time\n",
        "\n",
        "latency = end_time - start_time  # Calculate the latency of inference\n",
        "\n",
        "print(\"Latency of inference:\", latency, \"seconds\")\n",
        "print(\"Model prediction:\", output)\n"
      ],
      "metadata": {
        "id": "D2IDND7EMert"
      },
      "execution_count": null,
      "outputs": []
    },
    {
      "cell_type": "markdown",
      "source": [
        "Latency of inference for batch size 16 is less compared to batch size 64 because for processing and training data of batch size 64 take more time.\n"
      ],
      "metadata": {
        "id": "dbtewqf-Uoox"
      }
    },
    {
      "cell_type": "markdown",
      "source": [],
      "metadata": {
        "id": "5sdFTCAQUOAu"
      }
    },
    {
      "cell_type": "code",
      "source": [
        "# Calculate the L-2 distance between the two sets of predictions\n",
        "l2_distance = np.sqrt(np.sum((HE - plain) ** 2))"
      ],
      "metadata": {
        "id": "LcUDg06qRtoN"
      },
      "execution_count": null,
      "outputs": []
    },
    {
      "cell_type": "markdown",
      "source": [
        "For the batch size of 16:\n",
        "[2, 3, 5, 2, 5, 6, 5, 1, 0, 8, 8, 5, 8, 2, 1, 2]\n",
        "\n",
        "For the batch size of 64:\n",
        "[3, 7, 1, 3, 5, 1, 3, 3, 5, 2, 3, 0, 0, 3, 0, 3]\n",
        "\n",
        "Calculating the L2 distance:\n",
        "\n",
        "sqrt((2-3)^2 + (3-7)^2 + (5-1)^2 + (2-3)^2 + (5-5)^2 + (6-1)^2 + (5-3)^2 + (1-3)^2 + (0-5)^2 + (8-2)^2 + (8-3)^2 + (5-0)^2 + (8-0)^2 + (2-3)^2 + (1-0)^2 + (2-3)^2)\n",
        "\n",
        "= sqrt(662)\n",
        "\n",
        "= 25.74567\n",
        "\n",
        "Therefore, the L2 distance between the two sets of predictions is approximately 25.74567."
      ],
      "metadata": {
        "id": "KjX7fxgPTGaX"
      }
    },
    {
      "cell_type": "markdown",
      "source": [
        "Latency of inference: by calculating the time difference before, and after performing the inference.\n",
        "• L-2 distance between HE and plain predictions."
      ],
      "metadata": {
        "id": "83ujjP9nMni4"
      }
    }
  ]
}