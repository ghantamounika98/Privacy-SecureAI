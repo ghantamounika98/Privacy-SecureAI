{
  "cells": [
    {
      "cell_type": "markdown",
      "metadata": {
        "collapsed": true,
        "id": "sq3T9OAh1zwb"
      },
      "source": [
        "\n",
        "\n",
        "\n",
        "# Basics of CrypTen Tensors\n",
        "\n",
        "We now have a high-level understanding of how secure MPC works. Through these tutorials, we will explain how to use CrypTen to carry out secure operations on encrypted tensors. In this tutorial, we will introduce a fundamental building block in CrypTen, called a ```CrypTensor```.  ```CrypTensors``` are encrypted ```torch``` tensors that can be used for computing securely on data.\n",
        "\n",
        "CrypTen currently only supports secure MPC protocols (though we intend to add support for other advanced encryption protocols). Using the ```mpc``` backend, ```CrypTensors``` act as ```torch``` tensors whose values are encrypted using secure MPC protocols. Tensors created using the ```mpc``` backend are called ```MPCTensors```.  \n",
        "\n",
        "Let's begin by importing ```crypten``` and ```torch``` libraries. (If the imports fail, please see the installation instructions in the README.)"
      ]
    },
    {
      "cell_type": "code",
      "source": [
        "!pip install torch==1.9.0"
      ],
      "metadata": {
        "colab": {
          "base_uri": "https://localhost:8080/"
        },
        "id": "6-XcSoQ_2gpB",
        "outputId": "44521432-6f85-45b1-b356-2fcdb3bc1357"
      },
      "execution_count": null,
      "outputs": [
        {
          "output_type": "stream",
          "name": "stdout",
          "text": [
            "Looking in indexes: https://pypi.org/simple, https://us-python.pkg.dev/colab-wheels/public/simple/\n",
            "Collecting torch==1.9.0\n",
            "  Using cached torch-1.9.0-cp38-cp38-manylinux1_x86_64.whl (831.4 MB)\n",
            "Requirement already satisfied: typing-extensions in /usr/local/lib/python3.8/dist-packages (from torch==1.9.0) (4.5.0)\n",
            "Installing collected packages: torch\n",
            "  Attempting uninstall: torch\n",
            "    Found existing installation: torch 1.13.1\n",
            "    Uninstalling torch-1.13.1:\n",
            "      Successfully uninstalled torch-1.13.1\n",
            "\u001b[31mERROR: pip's dependency resolver does not currently take into account all the packages that are installed. This behaviour is the source of the following dependency conflicts.\n",
            "torchvision 0.14.1+cu116 requires torch==1.13.1, but you have torch 1.9.0 which is incompatible.\n",
            "torchtext 0.14.1 requires torch==1.13.1, but you have torch 1.9.0 which is incompatible.\n",
            "torchaudio 0.13.1+cu116 requires torch==1.13.1, but you have torch 1.9.0 which is incompatible.\u001b[0m\u001b[31m\n",
            "\u001b[0mSuccessfully installed torch-1.9.0\n"
          ]
        }
      ]
    },
    {
      "cell_type": "code",
      "source": [
        "!pip install crypten"
      ],
      "metadata": {
        "id": "Rs6gexU02Q3t",
        "outputId": "ea705a6f-7932-4579-aeeb-47f47889daad",
        "colab": {
          "base_uri": "https://localhost:8080/",
          "height": 1000
        }
      },
      "execution_count": null,
      "outputs": [
        {
          "output_type": "stream",
          "name": "stdout",
          "text": [
            "Looking in indexes: https://pypi.org/simple, https://us-python.pkg.dev/colab-wheels/public/simple/\n",
            "Requirement already satisfied: crypten in /usr/local/lib/python3.8/dist-packages (0.4.1)\n",
            "Requirement already satisfied: pyyaml>=5.3.1 in /usr/local/lib/python3.8/dist-packages (from crypten) (6.0)\n",
            "Requirement already satisfied: scipy>=1.6.0 in /usr/local/lib/python3.8/dist-packages (from crypten) (1.7.3)\n",
            "Requirement already satisfied: torch>=1.7.0 in /usr/local/lib/python3.8/dist-packages (from crypten) (1.9.0)\n",
            "Requirement already satisfied: tensorboard in /usr/local/lib/python3.8/dist-packages (from crypten) (2.11.2)\n",
            "Requirement already satisfied: sklearn in /usr/local/lib/python3.8/dist-packages (from crypten) (0.0.post1)\n",
            "Requirement already satisfied: pandas>=1.2.2 in /usr/local/lib/python3.8/dist-packages (from crypten) (1.3.5)\n",
            "Requirement already satisfied: future in /usr/local/lib/python3.8/dist-packages (from crypten) (0.16.0)\n",
            "Requirement already satisfied: torchvision>=0.9.1 in /usr/local/lib/python3.8/dist-packages (from crypten) (0.14.1+cu116)\n",
            "Requirement already satisfied: omegaconf>=2.0.6 in /usr/local/lib/python3.8/dist-packages (from crypten) (2.3.0)\n",
            "Requirement already satisfied: onnx>=1.7.0 in /usr/local/lib/python3.8/dist-packages (from crypten) (1.13.0)\n",
            "Requirement already satisfied: antlr4-python3-runtime==4.9.* in /usr/local/lib/python3.8/dist-packages (from omegaconf>=2.0.6->crypten) (4.9.3)\n",
            "Requirement already satisfied: protobuf<4,>=3.20.2 in /usr/local/lib/python3.8/dist-packages (from onnx>=1.7.0->crypten) (3.20.3)\n",
            "Requirement already satisfied: typing-extensions>=3.6.2.1 in /usr/local/lib/python3.8/dist-packages (from onnx>=1.7.0->crypten) (4.5.0)\n",
            "Requirement already satisfied: numpy>=1.16.6 in /usr/local/lib/python3.8/dist-packages (from onnx>=1.7.0->crypten) (1.21.6)\n",
            "Requirement already satisfied: pytz>=2017.3 in /usr/local/lib/python3.8/dist-packages (from pandas>=1.2.2->crypten) (2022.7.1)\n",
            "Requirement already satisfied: python-dateutil>=2.7.3 in /usr/local/lib/python3.8/dist-packages (from pandas>=1.2.2->crypten) (2.8.2)\n",
            "Requirement already satisfied: pillow!=8.3.*,>=5.3.0 in /usr/local/lib/python3.8/dist-packages (from torchvision>=0.9.1->crypten) (7.1.2)\n",
            "Collecting torch>=1.7.0\n",
            "  Using cached torch-1.13.1-cp38-cp38-manylinux1_x86_64.whl (887.4 MB)\n",
            "Requirement already satisfied: requests in /usr/local/lib/python3.8/dist-packages (from torchvision>=0.9.1->crypten) (2.25.1)\n",
            "Requirement already satisfied: nvidia-cuda-runtime-cu11==11.7.99 in /usr/local/lib/python3.8/dist-packages (from torch>=1.7.0->crypten) (11.7.99)\n",
            "Requirement already satisfied: nvidia-cuda-nvrtc-cu11==11.7.99 in /usr/local/lib/python3.8/dist-packages (from torch>=1.7.0->crypten) (11.7.99)\n",
            "Requirement already satisfied: nvidia-cudnn-cu11==8.5.0.96 in /usr/local/lib/python3.8/dist-packages (from torch>=1.7.0->crypten) (8.5.0.96)\n",
            "Requirement already satisfied: nvidia-cublas-cu11==11.10.3.66 in /usr/local/lib/python3.8/dist-packages (from torch>=1.7.0->crypten) (11.10.3.66)\n",
            "Requirement already satisfied: setuptools in /usr/local/lib/python3.8/dist-packages (from nvidia-cublas-cu11==11.10.3.66->torch>=1.7.0->crypten) (57.4.0)\n",
            "Requirement already satisfied: wheel in /usr/local/lib/python3.8/dist-packages (from nvidia-cublas-cu11==11.10.3.66->torch>=1.7.0->crypten) (0.38.4)\n",
            "Requirement already satisfied: absl-py>=0.4 in /usr/local/lib/python3.8/dist-packages (from tensorboard->crypten) (1.4.0)\n",
            "Requirement already satisfied: google-auth-oauthlib<0.5,>=0.4.1 in /usr/local/lib/python3.8/dist-packages (from tensorboard->crypten) (0.4.6)\n",
            "Requirement already satisfied: google-auth<3,>=1.6.3 in /usr/local/lib/python3.8/dist-packages (from tensorboard->crypten) (2.16.0)\n",
            "Requirement already satisfied: tensorboard-data-server<0.7.0,>=0.6.0 in /usr/local/lib/python3.8/dist-packages (from tensorboard->crypten) (0.6.1)\n",
            "Requirement already satisfied: grpcio>=1.24.3 in /usr/local/lib/python3.8/dist-packages (from tensorboard->crypten) (1.51.1)\n",
            "Requirement already satisfied: werkzeug>=1.0.1 in /usr/local/lib/python3.8/dist-packages (from tensorboard->crypten) (1.0.1)\n",
            "Requirement already satisfied: tensorboard-plugin-wit>=1.6.0 in /usr/local/lib/python3.8/dist-packages (from tensorboard->crypten) (1.8.1)\n",
            "Requirement already satisfied: markdown>=2.6.8 in /usr/local/lib/python3.8/dist-packages (from tensorboard->crypten) (3.4.1)\n",
            "Requirement already satisfied: rsa<5,>=3.1.4 in /usr/local/lib/python3.8/dist-packages (from google-auth<3,>=1.6.3->tensorboard->crypten) (4.9)\n",
            "Requirement already satisfied: six>=1.9.0 in /usr/local/lib/python3.8/dist-packages (from google-auth<3,>=1.6.3->tensorboard->crypten) (1.15.0)\n",
            "Requirement already satisfied: pyasn1-modules>=0.2.1 in /usr/local/lib/python3.8/dist-packages (from google-auth<3,>=1.6.3->tensorboard->crypten) (0.2.8)\n",
            "Requirement already satisfied: cachetools<6.0,>=2.0.0 in /usr/local/lib/python3.8/dist-packages (from google-auth<3,>=1.6.3->tensorboard->crypten) (5.3.0)\n",
            "Requirement already satisfied: requests-oauthlib>=0.7.0 in /usr/local/lib/python3.8/dist-packages (from google-auth-oauthlib<0.5,>=0.4.1->tensorboard->crypten) (1.3.1)\n",
            "Requirement already satisfied: importlib-metadata>=4.4 in /usr/local/lib/python3.8/dist-packages (from markdown>=2.6.8->tensorboard->crypten) (6.0.0)\n",
            "Requirement already satisfied: chardet<5,>=3.0.2 in /usr/local/lib/python3.8/dist-packages (from requests->torchvision>=0.9.1->crypten) (4.0.0)\n",
            "Requirement already satisfied: idna<3,>=2.5 in /usr/local/lib/python3.8/dist-packages (from requests->torchvision>=0.9.1->crypten) (2.10)\n",
            "Requirement already satisfied: urllib3<1.27,>=1.21.1 in /usr/local/lib/python3.8/dist-packages (from requests->torchvision>=0.9.1->crypten) (1.24.3)\n",
            "Requirement already satisfied: certifi>=2017.4.17 in /usr/local/lib/python3.8/dist-packages (from requests->torchvision>=0.9.1->crypten) (2022.12.7)\n",
            "Requirement already satisfied: zipp>=0.5 in /usr/local/lib/python3.8/dist-packages (from importlib-metadata>=4.4->markdown>=2.6.8->tensorboard->crypten) (3.13.0)\n",
            "Requirement already satisfied: pyasn1<0.5.0,>=0.4.6 in /usr/local/lib/python3.8/dist-packages (from pyasn1-modules>=0.2.1->google-auth<3,>=1.6.3->tensorboard->crypten) (0.4.8)\n",
            "Requirement already satisfied: oauthlib>=3.0.0 in /usr/local/lib/python3.8/dist-packages (from requests-oauthlib>=0.7.0->google-auth-oauthlib<0.5,>=0.4.1->tensorboard->crypten) (3.2.2)\n",
            "Installing collected packages: torch\n",
            "  Attempting uninstall: torch\n",
            "    Found existing installation: torch 1.9.0\n",
            "    Uninstalling torch-1.9.0:\n",
            "      Successfully uninstalled torch-1.9.0\n",
            "Successfully installed torch-1.13.1\n"
          ]
        },
        {
          "output_type": "display_data",
          "data": {
            "application/vnd.colab-display-data+json": {
              "pip_warning": {
                "packages": [
                  "torch"
                ]
              }
            }
          },
          "metadata": {}
        }
      ]
    },
    {
      "cell_type": "code",
      "execution_count": null,
      "metadata": {
        "id": "i2u2XtNy1zwi"
      },
      "outputs": [],
      "source": [
        "import crypten\n",
        "import torch\n",
        "crypten.init()"
      ]
    },
    {
      "cell_type": "markdown",
      "metadata": {
        "id": "Tjm8URkE1zwk"
      },
      "source": [
        "### Creating Encrypted Tensors\n",
        "CrypTen provides a ```crypten.cryptensor``` factory function, similar to ```torch.tensor```, to make creating ```CrypTensors``` easy.\n",
        "\n",
        "Let's begin by creating a ```torch``` tensor and encrypting it using ```crypten.cryptensor```. To decrypt a ```CrypTensor```, use ```get_plain_text()``` to return the original tensor.  (```CrypTensors``` can also be created directly from a list or an array.)\n"
      ]
    },
    {
      "cell_type": "code",
      "execution_count": null,
      "metadata": {
        "colab": {
          "base_uri": "https://localhost:8080/"
        },
        "id": "krODn-TL1zwl",
        "outputId": "e504115a-c462-464e-db48-59fc0c5f5029"
      },
      "outputs": [
        {
          "output_type": "stream",
          "name": "stdout",
          "text": [
            "tensor([1., 2., 3.])\n",
            "tensor([4., 5., 6.])\n"
          ]
        }
      ],
      "source": [
        "# Create torch tensor\n",
        "x = torch.tensor([1.0, 2.0, 3.0])\n",
        "\n",
        "# Encrypt x\n",
        "x_enc = crypten.cryptensor(x)\n",
        "\n",
        "# Decrypt x\n",
        "x_dec = x_enc.get_plain_text()\n",
        "crypten.print(x_dec)\n",
        "\n",
        "# Create python list\n",
        "y = [4.0, 5.0, 6.0]\n",
        "\n",
        "# Encrypt y\n",
        "y_enc = crypten.cryptensor(y)\n",
        "\n",
        "# Decrypt y\n",
        "y_dec = y_enc.get_plain_text()\n",
        "crypten.print(y_dec)"
      ]
    },
    {
      "cell_type": "markdown",
      "metadata": {
        "id": "NHdu-SI51zwm"
      },
      "source": [
        "## Operations on Encrypted Tensors\n",
        "Now let's look at what we can do with our ```CrypTensors```.\n",
        "\n",
        "#### Arithmetic Operations\n",
        "We can carry out regular arithmetic operations between ```CrypTensors```, as well as between ```CrypTensors``` and plaintext tensors. Note that these operations never reveal any information about encrypted tensors (internally or externally) and return an encrypted tensor output."
      ]
    },
    {
      "cell_type": "code",
      "execution_count": null,
      "metadata": {
        "colab": {
          "base_uri": "https://localhost:8080/"
        },
        "id": "AEC0TKfm1zwn",
        "outputId": "e47f3ca2-ac3b-415b-a898-e900f23b84b0"
      },
      "outputs": [
        {
          "output_type": "stream",
          "name": "stdout",
          "text": [
            "\n",
            "Public  addition: tensor([[3., 8.],\n",
            "        [4., 4.],\n",
            "        [5., 3.]])\n",
            "Private addition: tensor([[3., 8.],\n",
            "        [4., 4.],\n",
            "        [5., 3.]])\n",
            "\n",
            "Public  subtraction: tensor([[-1.,  4.],\n",
            "        [ 0.,  0.],\n",
            "        [ 1., -1.]])\n",
            "Private subtraction: tensor([[-1.,  4.],\n",
            "        [ 0.,  0.],\n",
            "        [ 1., -1.]])\n",
            "\n",
            "Public  multiplication: tensor([[ 2., 12.],\n",
            "        [ 4.,  4.],\n",
            "        [ 6.,  2.]])\n",
            "Private multiplication: tensor([[ 2., 12.],\n",
            "        [ 4.,  4.],\n",
            "        [ 6.,  2.]])\n",
            "\n",
            "Public  division: tensor([[0.5000, 3.0000],\n",
            "        [1.0000, 1.0000],\n",
            "        [1.5000, 0.5000]])\n",
            "Private division: tensor([[0.5000, 3.0000],\n",
            "        [1.0000, 1.0000],\n",
            "        [1.5000, 0.5000]])\n"
          ]
        }
      ],
      "source": [
        "#Arithmetic operations between CrypTensors and plaintext tensors\n",
        "x_enc = crypten.cryptensor([(1.0,6.0),(2.0,2.0),(3.0,1.0)])\n",
        "\n",
        "y = (2.0)\n",
        "y_enc = crypten.cryptensor(y)\n",
        "\n",
        "\n",
        "# Addition\n",
        "z_enc1 = x_enc.add(y)     # Public\n",
        "z_enc2 = x_enc + y_enc  # Private\n",
        "crypten.print(\"\\nPublic  addition:\", z_enc1.get_plain_text())\n",
        "crypten.print(\"Private addition:\", z_enc2.get_plain_text())\n",
        "\n",
        "\n",
        "# Subtraction\n",
        "z_enc1 = x_enc - y   # Public\n",
        "z_enc2 = x_enc - y_enc # Private\n",
        "crypten.print(\"\\nPublic  subtraction:\", z_enc1.get_plain_text())\n",
        "print(\"Private subtraction:\", z_enc2.get_plain_text())\n",
        "\n",
        "# Multiplication\n",
        "z_enc1 = x_enc * y    # Public\n",
        "z_enc2 = x_enc * y_enc # Private\n",
        "print(\"\\nPublic  multiplication:\", z_enc1.get_plain_text())\n",
        "print(\"Private multiplication:\", z_enc2.get_plain_text())\n",
        "\n",
        "# Division\n",
        "z_enc1 = x_enc / y   # Public\n",
        "z_enc2 = x_enc / y_enc # Private\n",
        "print(\"\\nPublic  division:\", z_enc1.get_plain_text())\n",
        "print(\"Private division:\", z_enc2.get_plain_text())"
      ]
    },
    {
      "cell_type": "markdown",
      "metadata": {
        "id": "cIvN3LRK1zwo"
      },
      "source": [
        "#### Comparisons\n",
        "Similarly, we can compute element-wise comparisons on ```CrypTensors```. Like arithmetic operations, comparisons performed on ```CrypTensor```s will return a ```CrypTensor``` result. Decrypting these result ```CrypTensor```s will evaluate to 0's and 1's corresponding to ```False``` and ```True``` values respectively."
      ]
    },
    {
      "cell_type": "code",
      "execution_count": null,
      "metadata": {
        "colab": {
          "base_uri": "https://localhost:8080/"
        },
        "id": "nv9vQF5c1zwp",
        "outputId": "62eb0338-20aa-456e-baab-45d10af43048"
      },
      "outputs": [
        {
          "output_type": "stream",
          "name": "stdout",
          "text": [
            "x:  tensor([[1., 6.],\n",
            "        [2., 2.],\n",
            "        [3., 1.],\n",
            "        [4., 3.],\n",
            "        [5., 4.]])\n",
            "y:  tensor([[5., 1.],\n",
            "        [3., 4.],\n",
            "        [4., 3.],\n",
            "        [2., 6.],\n",
            "        [2., 1.]])\n",
            "\n",
            "Public  (x < y) : tensor([[1, 0],\n",
            "        [1, 1],\n",
            "        [1, 1],\n",
            "        [0, 1],\n",
            "        [0, 0]])\n",
            "Private (x < y) : tensor([[1, 0],\n",
            "        [1, 1],\n",
            "        [1, 1],\n",
            "        [0, 1],\n",
            "        [0, 0]])\n",
            "\n",
            "Public  (x <= y): tensor([[1, 0],\n",
            "        [1, 1],\n",
            "        [1, 1],\n",
            "        [0, 1],\n",
            "        [0, 0]])\n",
            "Private (x <= y): tensor([[1, 0],\n",
            "        [1, 1],\n",
            "        [1, 1],\n",
            "        [0, 1],\n",
            "        [0, 0]])\n",
            "\n",
            "Public  (x > y) : tensor([[0, 1],\n",
            "        [0, 0],\n",
            "        [0, 0],\n",
            "        [1, 0],\n",
            "        [1, 1]])\n",
            "Private (x > y) : tensor([[0, 1],\n",
            "        [0, 0],\n",
            "        [0, 0],\n",
            "        [1, 0],\n",
            "        [1, 1]])\n",
            "\n",
            "Public  (x >= y): tensor([[0, 1],\n",
            "        [0, 0],\n",
            "        [0, 0],\n",
            "        [1, 0],\n",
            "        [1, 1]])\n",
            "Private (x >= y): tensor([[0, 1],\n",
            "        [0, 0],\n",
            "        [0, 0],\n",
            "        [1, 0],\n",
            "        [1, 1]])\n",
            "\n",
            "Public  (x == y): tensor([[0, 0],\n",
            "        [0, 0],\n",
            "        [0, 0],\n",
            "        [0, 0],\n",
            "        [0, 0]])\n",
            "Private (x == y): tensor([[0, 0],\n",
            "        [0, 0],\n",
            "        [0, 0],\n",
            "        [0, 0],\n",
            "        [0, 0]])\n",
            "\n",
            "Public  (x != y): tensor([[1, 1],\n",
            "        [1, 1],\n",
            "        [1, 1],\n",
            "        [1, 1],\n",
            "        [1, 1]])\n",
            "Private (x != y): tensor([[1, 1],\n",
            "        [1, 1],\n",
            "        [1, 1],\n",
            "        [1, 1],\n",
            "        [1, 1]])\n"
          ]
        }
      ],
      "source": [
        "#Construct two example CrypTensors\n",
        "x_enc = crypten.cryptensor([(1.0,6.0),(2.0,2.0),(3.0,1.0), (4.0,3.0),(5.0,4.0)])\n",
        "\n",
        "y = torch.tensor([(5.0,1.0), (3.0,4.0),(4.0, 3.0), (2.0,6.0),(2.0,1.0)])\n",
        "y_enc = crypten.cryptensor(y)\n",
        "\n",
        "# Print values:\n",
        "print(\"x: \", x_enc.get_plain_text())\n",
        "print(\"y: \", y_enc.get_plain_text())\n",
        "\n",
        "# Less than\n",
        "z_enc1 = x_enc < y      # Public\n",
        "z_enc2 = x_enc < y_enc  # Private\n",
        "print(\"\\nPublic  (x < y) :\", z_enc1.get_plain_text())\n",
        "print(\"Private (x < y) :\", z_enc2.get_plain_text())\n",
        "\n",
        "# Less than or equal\n",
        "z_enc1 = x_enc <= y      # Public\n",
        "z_enc2 = x_enc <= y_enc  # Private\n",
        "print(\"\\nPublic  (x <= y):\", z_enc1.get_plain_text())\n",
        "print(\"Private (x <= y):\", z_enc2.get_plain_text())\n",
        "\n",
        "# Greater than\n",
        "z_enc1 = x_enc > y      # Public\n",
        "z_enc2 = x_enc > y_enc  # Private\n",
        "print(\"\\nPublic  (x > y) :\", z_enc1.get_plain_text())\n",
        "print(\"Private (x > y) :\", z_enc2.get_plain_text())\n",
        "\n",
        "# Greater than or equal\n",
        "z_enc1 = x_enc >= y      # Public\n",
        "z_enc2 = x_enc >= y_enc  # Private\n",
        "print(\"\\nPublic  (x >= y):\", z_enc1.get_plain_text())\n",
        "print(\"Private (x >= y):\", z_enc2.get_plain_text())\n",
        "\n",
        "# Equal\n",
        "z_enc1 = x_enc == y      # Public\n",
        "z_enc2 = x_enc == y_enc  # Private\n",
        "print(\"\\nPublic  (x == y):\", z_enc1.get_plain_text())\n",
        "print(\"Private (x == y):\", z_enc2.get_plain_text())\n",
        "\n",
        "# Not Equal\n",
        "z_enc1 = x_enc != y      # Public\n",
        "z_enc2 = x_enc != y_enc  # Private\n",
        "print(\"\\nPublic  (x != y):\", z_enc1.get_plain_text())\n",
        "print(\"Private (x != y):\", z_enc2.get_plain_text())\n"
      ]
    },
    {
      "cell_type": "markdown",
      "metadata": {
        "id": "n2o2NjI31zwq"
      },
      "source": [
        "#### Advanced mathematics\n",
        "We are also able to compute more advanced mathematical functions on ```CrypTensors``` using iterative approximations. CrypTen provides MPC support for functions like reciprocal, exponential, logarithm, square root, tanh, etc. Notice that these are subject to numerical error due to the approximations used.\n",
        "\n",
        "Additionally, note that some of these functions will fail silently when input values are outside of the range of convergence for the approximations used. These do not produce errors because value are encrypted and cannot be checked without decryption. Exercise caution when using these functions. (It is good practice here to normalize input values for certain models.)"
      ]
    },
    {
      "cell_type": "code",
      "execution_count": null,
      "metadata": {
        "colab": {
          "base_uri": "https://localhost:8080/"
        },
        "id": "ONhqKZ5d1zwr",
        "outputId": "18d43f91-f476-4af6-938d-934047b5de27"
      },
      "outputs": [
        {
          "output_type": "stream",
          "name": "stdout",
          "text": [
            "\n",
            "Public  reciprocal: tensor([10.0000,  3.3333,  2.0000,  1.0000,  0.6667,  0.5000,  0.4000])\n",
            "Private reciprocal: tensor([10.0009,  3.3335,  2.0000,  1.0000,  0.6667,  0.5000,  0.4000])\n",
            "\n",
            "Public  logarithm: tensor([-2.3026, -1.2040, -0.6931,  0.0000,  0.4055,  0.6931,  0.9163])\n",
            "Private logarithm: tensor([    -2.3181,     -1.2110,     -0.6997,      0.0004,      0.4038,\n",
            "             0.6918,      0.9150])\n",
            "\n",
            "Public  exponential: tensor([ 1.1052,  1.3499,  1.6487,  2.7183,  4.4817,  7.3891, 12.1825])\n",
            "Private exponential: tensor([ 1.1021,  1.3440,  1.6468,  2.7121,  4.4574,  7.3280, 12.0188])\n",
            "\n",
            "Public  square root: tensor([0.3162, 0.5477, 0.7071, 1.0000, 1.2247, 1.4142, 1.5811])\n",
            "Private square root: tensor([0.3147, 0.5477, 0.7071, 0.9989, 1.2237, 1.4141, 1.5811])\n",
            "\n",
            "Public  tanh: tensor([0.0997, 0.2913, 0.4621, 0.7616, 0.9051, 0.9640, 0.9866])\n",
            "Private tanh: tensor([0.0994, 0.2914, 0.4636, 0.7636, 0.9069, 0.9652, 0.9873])\n"
          ]
        }
      ],
      "source": [
        "torch.set_printoptions(sci_mode=False)\n",
        "\n",
        "#Construct example input CrypTensor\n",
        "x = torch.tensor([0.1, 0.3, 0.5, 1.0, 1.5, 2.0, 2.5])\n",
        "x_enc = crypten.cryptensor(x)\n",
        "\n",
        "# Reciprocal\n",
        "z = x.reciprocal()         # Public\n",
        "z_enc = x_enc.reciprocal()  # Private\n",
        "print(\"\\nPublic  reciprocal:\", z)\n",
        "print(\"Private reciprocal:\", z_enc.get_plain_text())\n",
        "\n",
        "# Logarithm\n",
        "z = x.log()       # Public\n",
        "z_enc = x_enc.log() # Private\n",
        "print(\"\\nPublic  logarithm:\", z)\n",
        "print(\"Private logarithm:\", z_enc.get_plain_text())\n",
        "\n",
        "# Exp\n",
        "z = x.exp()         # Public\n",
        "z_enc = x_enc.exp()  # Private\n",
        "print(\"\\nPublic  exponential:\", z)\n",
        "print(\"Private exponential:\", z_enc.get_plain_text())\n",
        "\n",
        "# Sqrt\n",
        "z = x.sqrt()         # Public\n",
        "z_enc = x_enc.sqrt()  # Private\n",
        "print(\"\\nPublic  square root:\", z)\n",
        "print(\"Private square root:\", z_enc.get_plain_text())\n",
        "\n",
        "# Tanh\n",
        "z = x.tanh()        # Public\n",
        "z_enc = x_enc.tanh()  # Private\n",
        "print(\"\\nPublic  tanh:\", z)\n",
        "print(\"Private tanh:\", z_enc.get_plain_text())\n"
      ]
    },
    {
      "cell_type": "markdown",
      "source": [
        "### Advanced Indexing\n",
        "CrypTen supports many of the operations that work on ```torch``` tensors. Encrypted tensors can be indexed, concatenated, stacked, reshaped, etc. For a full list of operations, see the CrypTen documentation."
      ],
      "metadata": {
        "id": "3zp2PfBuoz-f"
      }
    },
    {
      "cell_type": "code",
      "execution_count": null,
      "metadata": {
        "colab": {
          "base_uri": "https://localhost:8080/"
        },
        "id": "cTp5nw9U1zwu",
        "outputId": "420a25ec-e2b3-4841-fd46-d1f346a6d58b"
      },
      "outputs": [
        {
          "output_type": "stream",
          "name": "stdout",
          "text": [
            "Indexing:\n",
            " tensor([[1., 6.],\n",
            "        [2., 2.]])\n",
            "\n",
            "Concatenation:\n",
            " tensor([[1., 6.],\n",
            "        [2., 2.],\n",
            "        [3., 1.],\n",
            "        [5., 1.],\n",
            "        [3., 4.],\n",
            "        [4., 3.]])\n",
            "\n",
            "Stacking:\n",
            " tensor([[[1., 6.],\n",
            "         [2., 2.],\n",
            "         [3., 1.]],\n",
            "\n",
            "        [[5., 1.],\n",
            "         [3., 4.],\n",
            "         [4., 3.]]])\n",
            "\n",
            "Reshaping:\n",
            " tensor([[1., 6., 2., 2., 3., 1.],\n",
            "        [5., 1., 3., 4., 4., 3.]])\n"
          ]
        }
      ],
      "source": [
        "x_enc = crypten.cryptensor([(1.0,6.0),(2.0,2.0),(3.0,1.0)])\n",
        "y_enc = crypten.cryptensor([(5.0,1.0), (3.0,4.0),(4.0, 3.0)])\n",
        "\n",
        "# Indexing\n",
        "z_enc = x_enc[:-1]\n",
        "print(\"Indexing:\\n\", z_enc.get_plain_text())\n",
        "\n",
        "# Concatenation\n",
        "z_enc = crypten.cat([x_enc, y_enc])\n",
        "print(\"\\nConcatenation:\\n\", z_enc.get_plain_text())\n",
        "\n",
        "# Stacking\n",
        "z_enc = crypten.stack([x_enc, y_enc])\n",
        "print('\\nStacking:\\n', z_enc.get_plain_text())\n",
        "\n",
        "# Reshaping\n",
        "w_enc =  z_enc.reshape(-1, 6)\n",
        "print('\\nReshaping:\\n', w_enc.get_plain_text())"
      ]
    }
  ],
  "metadata": {
    "kernelspec": {
      "display_name": "Python 3",
      "language": "python",
      "name": "python3"
    },
    "language_info": {
      "codemirror_mode": {
        "name": "ipython",
        "version": 3
      },
      "file_extension": ".py",
      "mimetype": "text/x-python",
      "name": "python",
      "nbconvert_exporter": "python",
      "pygments_lexer": "ipython3",
      "version": "3.7.9"
    },
    "colab": {
      "provenance": []
    },
    "accelerator": "GPU",
    "gpuClass": "standard"
  },
  "nbformat": 4,
  "nbformat_minor": 0
}